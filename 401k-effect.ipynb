{
 "cells": [
  {
   "cell_type": "code",
   "execution_count": 1,
   "metadata": {},
   "outputs": [],
   "source": [
    "%load_ext autoreload\n",
    "%autoreload 2\n",
    "%matplotlib inline"
   ]
  },
  {
   "cell_type": "code",
   "execution_count": 2,
   "metadata": {},
   "outputs": [],
   "source": [
    "import numpy as np\n",
    "import matplotlib.pyplot as plt\n",
    "import scipy\n",
    "import scipy.special\n",
    "from sklearn.linear_model import LassoCV, LogisticRegressionCV, LinearRegression, Lasso, LogisticRegression\n",
    "from sklearn.model_selection import GridSearchCV\n",
    "from sklearn.base import clone\n",
    "from econml.sklearn_extensions.model_selection import GridSearchCVList\n",
    "from sklearn.ensemble import RandomForestRegressor, GradientBoostingRegressor\n",
    "from sklearn.ensemble import RandomForestClassifier, GradientBoostingClassifier\n",
    "import joblib\n",
    "from statsmodels.api import OLS\n",
    "from sklearn.model_selection import StratifiedGroupKFold, KFold\n",
    "from sklearn.compose import ColumnTransformer\n",
    "from sklearn.preprocessing import StandardScaler\n",
    "from sklearn.pipeline import Pipeline\n",
    "import pandas as pd\n",
    "import math"
   ]
  },
  {
   "cell_type": "code",
   "execution_count": 45,
   "metadata": {},
   "outputs": [],
   "source": [
    "from sensitivity import dml_sensitivity_bounds, dml_tvalue, dml_estimate\n",
    "from sensitivity import sensitivity_bounds, tvalue, sensitivity_contours, moment_estimate\n",
    "from rfriesz import RFreg, RFrr, poly_feature_fns\n",
    "from sievereisz import SieveRR, SparseSieveRR, Featurizer\n",
    "from debiased import DebiasedMoment\n",
    "from econml.dml import LinearDML"
   ]
  },
  {
   "cell_type": "code",
   "execution_count": 4,
   "metadata": {},
   "outputs": [],
   "source": [
    "# Generic machine learning regressor with cross validation\n",
    "def first_stage_reg(numeric_columns=[], cv=None):\n",
    "    return GridSearchCVList([\n",
    "                             Pipeline([('scale', ColumnTransformer([('num', StandardScaler(), numeric_columns)],\n",
    "                                                                   remainder='passthrough')),\n",
    "                                       ('lasso', Lasso())]),\n",
    "                             Pipeline([('scale', ColumnTransformer([('num', StandardScaler(), numeric_columns)],\n",
    "                                                                   remainder='passthrough')),\n",
    "                                       ('feat', Featurizer(degree=1, normalize=False)),\n",
    "                                       ('lasso', Lasso())]),\n",
    "                             RandomForestRegressor(n_estimators=100, random_state=123),\n",
    "                             RFreg(reg_feature_fns=poly_feature_fns(10),\n",
    "                                   min_var_leaf_on_val=True,\n",
    "                                   min_impurity_decrease=1e-4, max_samples=.85, inference=False, subforest_size=1,\n",
    "                                   random_state=123)\n",
    "                            ],\n",
    "                             param_grid_list=[\n",
    "                                              {'lasso__alpha': [1e-6, 1e-5, 0.0001, .001, .01, .1, 1, 10]},\n",
    "                                              {'lasso__alpha': [1e-6, 1e-5, 0.0001, .001, .01, .1, 1, 10]},\n",
    "                                              {'max_depth': [3, 5],\n",
    "                                               'min_samples_leaf': [10, 50]},\n",
    "                                              {'reg_feature_fns': [poly_feature_fns(2)],\n",
    "                                               'min_samples_leaf': [10],\n",
    "                                               'min_var_fraction_leaf': [0.01, 0.1],\n",
    "                                               'l2': [1e-3, 1e-2]}\n",
    "                             ],\n",
    "                             cv=cv,\n",
    "                             scoring='neg_mean_squared_error',\n",
    "                             n_jobs=-1)"
   ]
  },
  {
   "cell_type": "code",
   "execution_count": 5,
   "metadata": {},
   "outputs": [],
   "source": [
    "# Returns a function that when called with data (X, y), returns a generator that when called\n",
    "# returns an un-fitted regression estimator; e.g. the one with the best hyperparameters.\n",
    "def reg_fn_gen(numeric_columns, cv=None, verbose=0):\n",
    "    def get_reg_fn(X, y):\n",
    "        est = first_stage_reg(numeric_columns, cv=cv).fit(X, y)\n",
    "        if verbose > 0:\n",
    "            print('Chose: ', est.best_score_, est.best_estimator_)\n",
    "            print('Scores: ', [(l.best_score_, l.best_estimator_) for l in est._gcv_list])\n",
    "        return lambda: clone(est.best_estimator_)\n",
    "    return get_reg_fn"
   ]
  },
  {
   "cell_type": "code",
   "execution_count": 6,
   "metadata": {},
   "outputs": [],
   "source": [
    "# The moment function, whose average we want to estimate: E[m(X; g)]\n",
    "def moment_fn(x, test_fn):\n",
    "    t1 = np.hstack([np.ones((x.shape[0], 1)), x[:, 1:]])\n",
    "    t0 = np.hstack([np.zeros((x.shape[0], 1)), x[:, 1:]])\n",
    "    return test_fn(t1) - test_fn(t0)"
   ]
  },
  {
   "cell_type": "code",
   "execution_count": 7,
   "metadata": {},
   "outputs": [],
   "source": [
    "# The negative of the reisz score: L(g) := E[2 * m(X;g) - g(X)^2]\n",
    "def neg_reisz_score(model, X):\n",
    "    return np.mean(2 * moment_fn(X, model.predict) - model.predict(X)**2)"
   ]
  },
  {
   "cell_type": "code",
   "execution_count": 8,
   "metadata": {},
   "outputs": [],
   "source": [
    "# A generic machine learning riesz representer estimator with cross-validation\n",
    "def first_stage_rr(numeric_columns, cv=None):\n",
    "    return GridSearchCVList([\n",
    "                            SieveRR(featurizer=Featurizer(degree=1), moment_fn=moment_fn),\n",
    "                            SieveRR(featurizer=Featurizer(degree=2), moment_fn=moment_fn),\n",
    "                            SieveRR(featurizer=Featurizer(degree=3), moment_fn=moment_fn),\n",
    "                            SparseSieveRR(featurizer=Featurizer(degree=3), moment_fn=moment_fn, tol=1e-4),\n",
    "                            SparseSieveRR(featurizer=Featurizer(degree=2), moment_fn=moment_fn, tol=1e-4),\n",
    "                            SparseSieveRR(featurizer=Featurizer(degree=1), moment_fn=moment_fn, tol=1e-4),\n",
    "                            RFrr(riesz_feature_fns=poly_feature_fns(10),\n",
    "                                        moment_fn=moment_fn,\n",
    "                                        min_var_leaf_on_val=True,\n",
    "                                        min_impurity_decrease=0.001,\n",
    "                                        max_samples=.65,\n",
    "                                        inference=False,\n",
    "                                        subforest_size=1,\n",
    "                                        random_state=123)\n",
    "                            ],\n",
    "                            param_grid_list=[\n",
    "                                   {'alpha': np.geomspace(1e-6, 1e3, 20)},\n",
    "                                   {'alpha': np.geomspace(1e-6, 1e3, 20)},\n",
    "                                   {'alpha': np.geomspace(1e-6, 1e3, 20)},\n",
    "                                   {'alpha': np.geomspace(1e-6, 1e3, 20),\n",
    "                                    'l1_ratio': [.5, 1.0]},\n",
    "                                   {'alpha': np.geomspace(1e-6, 1e3, 20),\n",
    "                                    'l1_ratio': [.5, 1.0]},\n",
    "                                   {'alpha': np.geomspace(1e-6, 1e3, 20),\n",
    "                                    'l1_ratio': [.5, 1.0]},\n",
    "                                   {'riesz_feature_fns': [poly_feature_fns(2), poly_feature_fns(3)],\n",
    "                                    'min_samples_leaf': [10, 50],\n",
    "                                    'min_var_fraction_leaf': [0.01, 0.1],\n",
    "                                    'l2': [1e-5, 1e-3],\n",
    "                                    'max_depth': [5, None]}\n",
    "                           ],\n",
    "                           scoring=neg_reisz_score,\n",
    "                           cv=cv, verbose=0, n_jobs=-1)"
   ]
  },
  {
   "cell_type": "code",
   "execution_count": 9,
   "metadata": {},
   "outputs": [],
   "source": [
    "# Returns a function that when called with data X, returns a generator that when called\n",
    "# returns an un-fitted riesz estimator; e.g. the one with the best hyperparameters.\n",
    "def rr_fn_gen(numeric_columns, cv=None, verbose=0):\n",
    "    def get_rr_fn(X):\n",
    "        est = first_stage_rr(numeric_columns, cv=cv).fit(X)\n",
    "        if verbose > 0:\n",
    "            print('Chose: ', est.best_score_, est.best_estimator_)\n",
    "            print('Scores: ', [(l.best_score_, l.best_estimator_) for l in est._gcv_list])\n",
    "        return lambda: clone(est.best_estimator_)\n",
    "    return get_rr_fn"
   ]
  },
  {
   "cell_type": "code",
   "execution_count": 10,
   "metadata": {},
   "outputs": [],
   "source": [
    "# Data loading and manipulation\n",
    "\n",
    "# for semi-synthetic data generation\n",
    "def true_f(X):\n",
    "    y = (-.7 - .4 * scipy.special.expit(3 * (1 - 2*(X[:, 1] - 10.5)))) * X[:, 0]\n",
    "    y += scipy.special.expit(3 * (1 - 2 * (X[:, 1] > 11.5)))\n",
    "    return y\n",
    "\n",
    "# def true_f(X):\n",
    "#     y = -.7 * X[:, 0]\n",
    "#     y += scipy.special.expit(3 * (1 - 2 * (X[:, 1] > 11.5)))\n",
    "#     return y\n",
    "\n",
    "def get_data(q=None, synthetic=False, random_seed=123):\n",
    "    dfx = pd.read_csv('./401k/401k-x.csv', sep=',')\n",
    "    dfy = pd.read_csv('./401k/401k-y.csv', sep=',')\n",
    "    dfd = pd.read_csv('./401k/401k-d.csv', sep=',')\n",
    "    X = np.hstack([dfd.values, dfx.values])\n",
    "    y = dfy.values.flatten() # outcome to numpy array\n",
    "    if synthetic: # impute synthetic outcome based on known relationship\n",
    "        y = true_f(X) + np.random.normal(0, .2, size=X[:, 0].shape)\n",
    "        print(np.mean(moment_fn(X, true_f)))\n",
    "    \n",
    "    # Create state-block-wise and stratified by region folds for cross validation and cross fitting\n",
    "    cv = KFold(n_splits=5, shuffle=True, random_state=random_seed)\n",
    "    splits = list(cv.split(X))\n",
    "    return X, y, [1, 2, 3, 4], splits"
   ]
  },
  {
   "cell_type": "code",
   "execution_count": 11,
   "metadata": {},
   "outputs": [],
   "source": [
    "# global result dictionaries and global parameters\n",
    "ests = {}\n",
    "res = {}\n",
    "res_d = {}\n",
    "q_grid = np.arange(1, 2)\n",
    "synthetic = False # use synthetic outcome\n",
    "verbose = 0"
   ]
  },
  {
   "cell_type": "code",
   "execution_count": 12,
   "metadata": {},
   "outputs": [],
   "source": [
    "# General pipeline for all types of estimators to generate the estimation result we want\n",
    "def generic_pipeline(estimator, q_grid, name, n_seeds=5):\n",
    "    ests = {}\n",
    "    res = {}\n",
    "    for q in q_grid:\n",
    "        print(f'q={q}')\n",
    "        ests[f'q={q}'] = []\n",
    "        estimate_list = []\n",
    "        for random_seed in np.arange(123, 123 + n_seeds):\n",
    "            X, y, num_cols, splits = get_data(q, synthetic=synthetic, random_seed=random_seed)\n",
    "            estimates, model = estimator(X, y, num_cols, splits)\n",
    "            print(estimates)\n",
    "            estimate_list.append(estimates)\n",
    "            ests[f'q={q}'].append(model)\n",
    "        estimate_list = np.array(estimate_list)\n",
    "        res[f'q={q}'] = {}\n",
    "        res[f'q={q}'][f'{name}'] = {}\n",
    "        res[f'q={q}'][f'{name}']['point'] = np.mean(estimate_list[:, 0])\n",
    "        if estimate_list.shape[1] > 2:\n",
    "            res[f'q={q}'][f'{name}']['stderr'] = np.sqrt(np.mean(estimate_list[:, 1]**2) \n",
    "                                                         + np.var(estimate_list[:, 0]))\n",
    "        res[f'q={q}'] = pd.DataFrame(res[f'q={q}']).transpose()\n",
    "    return pd.concat(res), ests"
   ]
  },
  {
   "cell_type": "code",
   "execution_count": 13,
   "metadata": {},
   "outputs": [],
   "source": [
    "# Transforming results to a nicely printable dataframe where each cell\n",
    "# contains point (stderr) [ci_lower, ci_upper]\n",
    "def transform_res_to_df(res, q_grid, alpha=None):\n",
    "    res_f = res.reset_index()\n",
    "    res_d = {}\n",
    "    for q in q_grid:\n",
    "        key = 'all <= 11.6' if q==0 else ('all' if q==5 else f'q={q}')\n",
    "        res_d[key] = {}\n",
    "        for method in np.unique(res_f['level_1'].values):\n",
    "            p = res.loc[(f'q={q}', method), 'point']\n",
    "            if alpha is not None:\n",
    "                s = res.loc[(f'q={q}', method), 'stderr']\n",
    "                error = scipy.stats.norm.ppf(1 - alpha) * s\n",
    "                l, u = p - error, p + error\n",
    "                res_d[key][method] = f\"{p:.2f} ({s:.2f}) [{l:.2f}, {u:.2f}]\"\n",
    "            else:\n",
    "                res_d[key][method] = f\"{p:.2f}\"\n",
    "        \n",
    "    return pd.DataFrame(res_d)"
   ]
  },
  {
   "cell_type": "code",
   "execution_count": 14,
   "metadata": {},
   "outputs": [],
   "source": [
    "if synthetic:\n",
    "    def oracle_estimator(X, y, num_cols, splits):\n",
    "        return (np.mean(moment_fn(X, true_f)),), None\n",
    "    res['true'], _ = generic_pipeline(oracle_estimator, q_grid, 'true', n_seeds=1)\n",
    "    res_d['true'] = transform_res_to_df(res['true'], q_grid)\n",
    "    display(res_d['true'])"
   ]
  },
  {
   "cell_type": "markdown",
   "metadata": {},
   "source": [
    "# Non-Linear RR Analysis"
   ]
  },
  {
   "cell_type": "code",
   "execution_count": 15,
   "metadata": {},
   "outputs": [],
   "source": [
    "# fully non-parametric average derivative estimation\n",
    "def nonlinrr(X, y, num_cols, splits):\n",
    "    get_reisz_fn = rr_fn_gen(num_cols, cv=splits, verbose=verbose)\n",
    "    get_reg_fn = reg_fn_gen(num_cols, cv=splits, verbose=verbose)\n",
    "    est = DebiasedMoment(moment_fn=moment_fn,\n",
    "                         get_reisz_fn=get_reisz_fn,\n",
    "                         get_reg_fn=get_reg_fn,\n",
    "                         n_splits=splits)\n",
    "    est.fit(X, y)\n",
    "    return est.avg_moment(alpha=.1), est"
   ]
  },
  {
   "cell_type": "code",
   "execution_count": 16,
   "metadata": {},
   "outputs": [
    {
     "name": "stdout",
     "output_type": "stream",
     "text": [
      "q=1\n",
      "(7818.073285740907, 1142.987813520292, 5937.849942825738, 9698.296628656075)\n",
      "(7747.748753805892, 1125.1960460123871, 5896.7929990350385, 9598.704508576746)\n",
      "(7785.741946697645, 1158.7682108226506, 5879.559734389996, 9691.924159005293)\n",
      "(7526.41841692783, 1149.4330614644334, 5635.592593835619, 9417.244240020042)\n",
      "(7716.418110375388, 1143.083421302066, 5836.037491957429, 9596.798728793348)\n"
     ]
    }
   ],
   "source": [
    "res['rr'], ests['rr'] = generic_pipeline(nonlinrr, q_grid, 'dr')"
   ]
  },
  {
   "cell_type": "code",
   "execution_count": 17,
   "metadata": {},
   "outputs": [
    {
     "data": {
      "text/html": [
       "<div>\n",
       "<style scoped>\n",
       "    .dataframe tbody tr th:only-of-type {\n",
       "        vertical-align: middle;\n",
       "    }\n",
       "\n",
       "    .dataframe tbody tr th {\n",
       "        vertical-align: top;\n",
       "    }\n",
       "\n",
       "    .dataframe thead th {\n",
       "        text-align: right;\n",
       "    }\n",
       "</style>\n",
       "<table border=\"1\" class=\"dataframe\">\n",
       "  <thead>\n",
       "    <tr style=\"text-align: right;\">\n",
       "      <th></th>\n",
       "      <th>q=1</th>\n",
       "    </tr>\n",
       "  </thead>\n",
       "  <tbody>\n",
       "    <tr>\n",
       "      <th>dr</th>\n",
       "      <td>7718.88 (1148.50) [5829.77, 9607.99]</td>\n",
       "    </tr>\n",
       "  </tbody>\n",
       "</table>\n",
       "</div>"
      ],
      "text/plain": [
       "                                     q=1\n",
       "dr  7718.88 (1148.50) [5829.77, 9607.99]"
      ]
     },
     "execution_count": 17,
     "metadata": {},
     "output_type": "execute_result"
    }
   ],
   "source": [
    "res_d['rr'] = transform_res_to_df(res['rr'], q_grid, alpha=0.05)\n",
    "res_d['rr']"
   ]
  },
  {
   "cell_type": "markdown",
   "metadata": {},
   "source": [
    "# OLS analysis"
   ]
  },
  {
   "cell_type": "code",
   "execution_count": 18,
   "metadata": {},
   "outputs": [],
   "source": [
    "# fully linear OLS-based average derivative estimation\n",
    "def ols_estimator(X, y, num_cols, splits):\n",
    "    est = OLS(y, np.hstack([np.ones((X.shape[0], 1)), X])).fit(cov_type='HC3')\n",
    "    return (est.params[1], est.bse[1], *est.conf_int(alpha=.1)[1]), est"
   ]
  },
  {
   "cell_type": "code",
   "execution_count": 19,
   "metadata": {},
   "outputs": [
    {
     "name": "stdout",
     "output_type": "stream",
     "text": [
      "q=1\n",
      "(5896.198421130692, 1529.7877600708202, 3379.9214755122343, 8412.47536674915)\n"
     ]
    }
   ],
   "source": [
    "res['ols'], ests['ols'] = generic_pipeline(ols_estimator, q_grid, 'ols', n_seeds=1)"
   ]
  },
  {
   "cell_type": "code",
   "execution_count": 20,
   "metadata": {},
   "outputs": [
    {
     "data": {
      "text/html": [
       "<div>\n",
       "<style scoped>\n",
       "    .dataframe tbody tr th:only-of-type {\n",
       "        vertical-align: middle;\n",
       "    }\n",
       "\n",
       "    .dataframe tbody tr th {\n",
       "        vertical-align: top;\n",
       "    }\n",
       "\n",
       "    .dataframe thead th {\n",
       "        text-align: right;\n",
       "    }\n",
       "</style>\n",
       "<table border=\"1\" class=\"dataframe\">\n",
       "  <thead>\n",
       "    <tr style=\"text-align: right;\">\n",
       "      <th></th>\n",
       "      <th>q=1</th>\n",
       "    </tr>\n",
       "  </thead>\n",
       "  <tbody>\n",
       "    <tr>\n",
       "      <th>ols</th>\n",
       "      <td>5896.20 (1529.79) [3379.92, 8412.48]</td>\n",
       "    </tr>\n",
       "  </tbody>\n",
       "</table>\n",
       "</div>"
      ],
      "text/plain": [
       "                                      q=1\n",
       "ols  5896.20 (1529.79) [3379.92, 8412.48]"
      ]
     },
     "execution_count": 20,
     "metadata": {},
     "output_type": "execute_result"
    }
   ],
   "source": [
    "res_d['ols'] = transform_res_to_df(res['ols'], q_grid, alpha=0.05)\n",
    "res_d['ols']"
   ]
  },
  {
   "cell_type": "markdown",
   "metadata": {},
   "source": [
    "# Lasso Analysis"
   ]
  },
  {
   "cell_type": "code",
   "execution_count": 21,
   "metadata": {},
   "outputs": [],
   "source": [
    "# fully linear Lasso-based average derivative estimation\n",
    "def lasso_estimator(X, y, num_cols, splits):\n",
    "    num_cols = [t - 1 for t in num_cols[1:]]\n",
    "\n",
    "    est = Pipeline([('scale', ColumnTransformer([('num', StandardScaler(), num_cols)], remainder='passthrough')),\n",
    "                    ('lasso', LassoCV(cv=splits))])\n",
    "    est.fit(X, y)\n",
    "    p = np.mean(est.predict(np.hstack([np.ones((X.shape[0], 1)), X[:, 1:]])) \n",
    "            - est.predict(np.hstack([np.zeros((X.shape[0], 1)), X[:, 1:]])))\n",
    "    return (p,), est"
   ]
  },
  {
   "cell_type": "code",
   "execution_count": 22,
   "metadata": {},
   "outputs": [
    {
     "name": "stdout",
     "output_type": "stream",
     "text": [
      "q=1\n",
      "(5401.398210825367,)\n",
      "(5086.581763972914,)\n",
      "(5765.501892292503,)\n",
      "(5765.501892292503,)\n",
      "(5593.8649870789195,)\n"
     ]
    }
   ],
   "source": [
    "res['lasso'], ests['lasso'] = generic_pipeline(lasso_estimator, q_grid, 'lasso')"
   ]
  },
  {
   "cell_type": "code",
   "execution_count": 23,
   "metadata": {},
   "outputs": [
    {
     "data": {
      "text/html": [
       "<div>\n",
       "<style scoped>\n",
       "    .dataframe tbody tr th:only-of-type {\n",
       "        vertical-align: middle;\n",
       "    }\n",
       "\n",
       "    .dataframe tbody tr th {\n",
       "        vertical-align: top;\n",
       "    }\n",
       "\n",
       "    .dataframe thead th {\n",
       "        text-align: right;\n",
       "    }\n",
       "</style>\n",
       "<table border=\"1\" class=\"dataframe\">\n",
       "  <thead>\n",
       "    <tr style=\"text-align: right;\">\n",
       "      <th></th>\n",
       "      <th>q=1</th>\n",
       "    </tr>\n",
       "  </thead>\n",
       "  <tbody>\n",
       "    <tr>\n",
       "      <th>lasso</th>\n",
       "      <td>5522.57</td>\n",
       "    </tr>\n",
       "  </tbody>\n",
       "</table>\n",
       "</div>"
      ],
      "text/plain": [
       "           q=1\n",
       "lasso  5522.57"
      ]
     },
     "execution_count": 23,
     "metadata": {},
     "output_type": "execute_result"
    }
   ],
   "source": [
    "res_d['lasso'] = transform_res_to_df(res['lasso'], q_grid)\n",
    "res_d['lasso']"
   ]
  },
  {
   "cell_type": "markdown",
   "metadata": {},
   "source": [
    "# DML Analysis"
   ]
  },
  {
   "cell_type": "code",
   "execution_count": 24,
   "metadata": {},
   "outputs": [],
   "source": [
    "# fully linear debiased Lasso-based average derivative estimation, with doubleML\n",
    "def dml_lasso_estimator(X, y, num_cols, splits):\n",
    "    num_cols = [t - 1 for t in num_cols[1:]]\n",
    "\n",
    "    model_reg = Pipeline([('scale', ColumnTransformer([('num', StandardScaler(), num_cols)], remainder='passthrough')),\n",
    "                          ('lasso', LassoCV(cv=splits))])\n",
    "    model_y = clone(model_reg).fit(X[:, 1:], y)\n",
    "    model_y = Pipeline([('scale', ColumnTransformer([('num', StandardScaler(), num_cols)], remainder='passthrough')),\n",
    "                        ('lasso', Lasso(alpha=model_y.named_steps['lasso'].alpha_))])\n",
    "    model_t = clone(model_reg).fit(X[:, 1:], X[:, 0])\n",
    "    model_t = Pipeline([('scale', ColumnTransformer([('num', StandardScaler(), num_cols)], remainder='passthrough')),\n",
    "                        ('lasso', Lasso(alpha=model_t.named_steps['lasso'].alpha_))])\n",
    "    est = LinearDML(model_y=model_y,\n",
    "                    model_t=model_t,\n",
    "                    linear_first_stages=False,\n",
    "                    cv=splits, random_state=123)\n",
    "    est.fit(y, X[:, 0], W=X[:, 1:], cache_values=True)\n",
    "    p = est.intercept__inference().point_estimate\n",
    "    s = est.intercept__inference().stderr\n",
    "    l, u = est.intercept__inference().conf_int(alpha=.1)\n",
    "    return (p, s, l, u), est"
   ]
  },
  {
   "cell_type": "code",
   "execution_count": 25,
   "metadata": {},
   "outputs": [
    {
     "name": "stdout",
     "output_type": "stream",
     "text": [
      "q=1\n",
      "(5933.452745624997, 1534.7898740807473, 3408.9480546348855, 8457.957436615106)\n",
      "(5800.443539644564, 1530.565744680697, 3282.8869232188376, 8318.00015607029)\n",
      "(5792.29439221414, 1560.4020912480687, 3225.6613529220913, 8358.927431506188)\n",
      "(5924.563144268095, 1545.2652047071215, 3382.828067703676, 8466.298220832512)\n",
      "(5883.496982230953, 1546.7173171028978, 3339.3733933256003, 8427.620571136305)\n"
     ]
    }
   ],
   "source": [
    "res['dml_lasso'], ests['dml_lasso'] = generic_pipeline(dml_lasso_estimator, q_grid, 'dml_lasso')"
   ]
  },
  {
   "cell_type": "code",
   "execution_count": 26,
   "metadata": {},
   "outputs": [
    {
     "data": {
      "text/html": [
       "<div>\n",
       "<style scoped>\n",
       "    .dataframe tbody tr th:only-of-type {\n",
       "        vertical-align: middle;\n",
       "    }\n",
       "\n",
       "    .dataframe tbody tr th {\n",
       "        vertical-align: top;\n",
       "    }\n",
       "\n",
       "    .dataframe thead th {\n",
       "        text-align: right;\n",
       "    }\n",
       "</style>\n",
       "<table border=\"1\" class=\"dataframe\">\n",
       "  <thead>\n",
       "    <tr style=\"text-align: right;\">\n",
       "      <th></th>\n",
       "      <th>q=1</th>\n",
       "    </tr>\n",
       "  </thead>\n",
       "  <tbody>\n",
       "    <tr>\n",
       "      <th>dml_lasso</th>\n",
       "      <td>5866.85 (1544.75) [3325.96, 8407.74]</td>\n",
       "    </tr>\n",
       "  </tbody>\n",
       "</table>\n",
       "</div>"
      ],
      "text/plain": [
       "                                            q=1\n",
       "dml_lasso  5866.85 (1544.75) [3325.96, 8407.74]"
      ]
     },
     "execution_count": 26,
     "metadata": {},
     "output_type": "execute_result"
    }
   ],
   "source": [
    "res_d['dml_lasso'] = transform_res_to_df(res['dml_lasso'], q_grid, alpha=.05)\n",
    "res_d['dml_lasso']"
   ]
  },
  {
   "cell_type": "markdown",
   "metadata": {},
   "source": [
    "# DML with Non-Linear Residualizers"
   ]
  },
  {
   "cell_type": "code",
   "execution_count": 27,
   "metadata": {},
   "outputs": [],
   "source": [
    "# partially linear average derivative estimation, with doubleML\n",
    "def dml_estimator(X, y, num_cols, splits):\n",
    "    num_cols = [t - 1 for t in num_cols[1:]]\n",
    "\n",
    "    model_y = reg_fn_gen(num_cols, cv=splits, verbose=verbose)(X[:, 1:], y)\n",
    "    model_t = reg_fn_gen(num_cols, cv=splits, verbose=verbose)(X[:, 1:], X[:, 0])\n",
    "    est = LinearDML(model_y=model_y(),\n",
    "                    model_t=model_t(),\n",
    "                    linear_first_stages=False,\n",
    "                    cv=splits, random_state=123)\n",
    "    est.fit(y, X[:, 0], W=X[:, 1:], cache_values=True)\n",
    "    p = est.intercept__inference().point_estimate\n",
    "    s = est.intercept__inference().stderr\n",
    "    l, u = est.intercept__inference().conf_int(alpha=.1)\n",
    "    return (p, s, l, u), est"
   ]
  },
  {
   "cell_type": "code",
   "execution_count": 28,
   "metadata": {},
   "outputs": [
    {
     "name": "stdout",
     "output_type": "stream",
     "text": [
      "q=1\n",
      "(8576.034751972662, 1321.1316580179669, 6402.966552601396, 10749.102951343926)\n",
      "(8752.786491752702, 1291.9421105419797, 6627.730825416386, 10877.842158089017)\n",
      "(8545.204864064344, 1315.188199288526, 6381.912784340836, 10708.496943787852)\n",
      "(8462.513994345423, 1312.7077746096368, 6303.301850151365, 10621.72613853948)\n",
      "(9143.927121998038, 1305.2233632592634, 6997.025738959239, 11290.828505036836)\n"
     ]
    }
   ],
   "source": [
    "res['dml'], ests['dml'] = generic_pipeline(dml_estimator, q_grid, 'dml')"
   ]
  },
  {
   "cell_type": "code",
   "execution_count": 29,
   "metadata": {},
   "outputs": [
    {
     "data": {
      "text/html": [
       "<div>\n",
       "<style scoped>\n",
       "    .dataframe tbody tr th:only-of-type {\n",
       "        vertical-align: middle;\n",
       "    }\n",
       "\n",
       "    .dataframe tbody tr th {\n",
       "        vertical-align: top;\n",
       "    }\n",
       "\n",
       "    .dataframe thead th {\n",
       "        text-align: right;\n",
       "    }\n",
       "</style>\n",
       "<table border=\"1\" class=\"dataframe\">\n",
       "  <thead>\n",
       "    <tr style=\"text-align: right;\">\n",
       "      <th></th>\n",
       "      <th>q=1</th>\n",
       "    </tr>\n",
       "  </thead>\n",
       "  <tbody>\n",
       "    <tr>\n",
       "      <th>dml</th>\n",
       "      <td>8696.09 (1331.66) [6505.71, 10886.47]</td>\n",
       "    </tr>\n",
       "  </tbody>\n",
       "</table>\n",
       "</div>"
      ],
      "text/plain": [
       "                                       q=1\n",
       "dml  8696.09 (1331.66) [6505.71, 10886.47]"
      ]
     },
     "execution_count": 29,
     "metadata": {},
     "output_type": "execute_result"
    }
   ],
   "source": [
    "res_d['dml'] = transform_res_to_df(res['dml'], q_grid, alpha=.05)\n",
    "res_d['dml']"
   ]
  },
  {
   "cell_type": "markdown",
   "metadata": {},
   "source": [
    "# Put all results together"
   ]
  },
  {
   "cell_type": "code",
   "execution_count": 30,
   "metadata": {},
   "outputs": [],
   "source": [
    "res_d_all = pd.concat(res_d)"
   ]
  },
  {
   "cell_type": "code",
   "execution_count": 31,
   "metadata": {},
   "outputs": [
    {
     "data": {
      "text/html": [
       "<style  type=\"text/css\" >\n",
       "    #T_b8e43_ th {\n",
       "          font-size: 11px;\n",
       "    }    #T_b8e43_ td {\n",
       "          font-size: 11px;\n",
       "    }</style><table id=\"T_b8e43_\" ><thead>    <tr>        <th class=\"blank\" ></th>        <th class=\"blank level0\" ></th>        <th class=\"col_heading level0 col0\" >q=1</th>    </tr></thead><tbody>\n",
       "                <tr>\n",
       "                        <th id=\"T_b8e43_level0_row0\" class=\"row_heading level0 row0\" >rr</th>\n",
       "                        <th id=\"T_b8e43_level1_row0\" class=\"row_heading level1 row0\" >dr</th>\n",
       "                        <td id=\"T_b8e43_row0_col0\" class=\"data row0 col0\" >7718.88 (1148.50) [5829.77, 9607.99]</td>\n",
       "            </tr>\n",
       "            <tr>\n",
       "                        <th id=\"T_b8e43_level0_row1\" class=\"row_heading level0 row1\" >ols</th>\n",
       "                        <th id=\"T_b8e43_level1_row1\" class=\"row_heading level1 row1\" >ols</th>\n",
       "                        <td id=\"T_b8e43_row1_col0\" class=\"data row1 col0\" >5896.20 (1529.79) [3379.92, 8412.48]</td>\n",
       "            </tr>\n",
       "            <tr>\n",
       "                        <th id=\"T_b8e43_level0_row2\" class=\"row_heading level0 row2\" >lasso</th>\n",
       "                        <th id=\"T_b8e43_level1_row2\" class=\"row_heading level1 row2\" >lasso</th>\n",
       "                        <td id=\"T_b8e43_row2_col0\" class=\"data row2 col0\" >5522.57</td>\n",
       "            </tr>\n",
       "            <tr>\n",
       "                        <th id=\"T_b8e43_level0_row3\" class=\"row_heading level0 row3\" >dml_lasso</th>\n",
       "                        <th id=\"T_b8e43_level1_row3\" class=\"row_heading level1 row3\" >dml_lasso</th>\n",
       "                        <td id=\"T_b8e43_row3_col0\" class=\"data row3 col0\" >5866.85 (1544.75) [3325.96, 8407.74]</td>\n",
       "            </tr>\n",
       "            <tr>\n",
       "                        <th id=\"T_b8e43_level0_row4\" class=\"row_heading level0 row4\" >dml</th>\n",
       "                        <th id=\"T_b8e43_level1_row4\" class=\"row_heading level1 row4\" >dml</th>\n",
       "                        <td id=\"T_b8e43_row4_col0\" class=\"data row4 col0\" >8696.09 (1331.66) [6505.71, 10886.47]</td>\n",
       "            </tr>\n",
       "    </tbody></table>"
      ],
      "text/plain": [
       "<pandas.io.formats.style.Styler at 0x186b9c7c898>"
      ]
     },
     "execution_count": 31,
     "metadata": {},
     "output_type": "execute_result"
    }
   ],
   "source": [
    "heading_properties = [('font-size', '11px')]\n",
    "\n",
    "cell_properties = [('font-size', '11px')]\n",
    "\n",
    "dfstyle = [dict(selector=\"th\", props=heading_properties),\\\n",
    " dict(selector=\"td\", props=cell_properties)]\n",
    "\n",
    "res_d_all.style.set_table_styles(dfstyle)"
   ]
  },
  {
   "cell_type": "markdown",
   "metadata": {},
   "source": [
    "# Paper tables"
   ]
  },
  {
   "cell_type": "code",
   "execution_count": 32,
   "metadata": {},
   "outputs": [],
   "source": [
    "table = {}\n",
    "table['point'] = '{:.3f} ({:.3f})'.format(res['rr'].loc[(f'q={1}', 'dr'), 'point'],\n",
    "                                          res['rr'].loc[(f'q={1}', 'dr'), 'stderr'])\n",
    "\n",
    "est_list = ests['rr'][f'q={1}']\n",
    "table['Bounds'] = '[{:.3f}, {:.3f}]'.format(*sensitivity_bounds(est_list, .04, .03, alpha=None))\n",
    "table['CIBounds'] = '[{:.3f}, {:.3f}]'.format(*sensitivity_bounds(est_list, .04, .03, alpha=.05))\n",
    "table['RV(v=0)'] = '{:.3f}'.format(tvalue(est_list, value=0, leq=True, alpha=None))\n",
    "table['RV(v=0,a=.05)'] = '{:.3f}'.format(tvalue(est_list, value=0, leq=True, alpha=.05))"
   ]
  },
  {
   "cell_type": "code",
   "execution_count": 35,
   "metadata": {},
   "outputs": [],
   "source": [
    "table2 = {}\n",
    "table2['point'] = '{:.3f} ({:.3f})'.format(res['dml_lasso'].loc[(f'q={1}', 'dml_lasso'), 'point'],\n",
    "                                          res['dml_lasso'].loc[(f'q={1}', 'dml_lasso'), 'stderr'])\n",
    "\n",
    "est_list = ests['dml_lasso'][f'q={1}']\n",
    "table2['Bounds'] = '[{:.3f}, {:.3f}]'.format(*dml_sensitivity_bounds(est_list, .04, .03, alpha=None))\n",
    "table2['CIBounds'] = '[{:.3f}, {:.3f}]'.format(*dml_sensitivity_bounds(est_list, .04, .03, alpha=.05))\n",
    "table2['RV(v=0)'] = '{:.3f}'.format(dml_tvalue(est_list, value=0, leq=True, alpha=None))\n",
    "table2['RV(v=0,a=.05)'] = '{:.3f}'.format(dml_tvalue(est_list, value=0, leq=True, alpha=.05))"
   ]
  },
  {
   "cell_type": "code",
   "execution_count": 36,
   "metadata": {},
   "outputs": [],
   "source": [
    "table2 = {}\n",
    "table2['point'] = '{:.3f} ({:.3f})'.format(res['dml'].loc[(f'q={1}', 'dml'), 'point'],\n",
    "                                          res['dml'].loc[(f'q={1}', 'dml'), 'stderr'])\n",
    "\n",
    "est_list = ests['dml'][f'q={1}']\n",
    "table2['Bounds'] = '[{:.3f}, {:.3f}]'.format(*dml_sensitivity_bounds(est_list, .04, .03, alpha=None))\n",
    "table2['CIBounds'] = '[{:.3f}, {:.3f}]'.format(*dml_sensitivity_bounds(est_list, .04, .03, alpha=.05))\n",
    "table2['RV(v=0)'] = '{:.3f}'.format(dml_tvalue(est_list, value=0, leq=True, alpha=None))\n",
    "table2['RV(v=0,a=.05)'] = '{:.3f}'.format(dml_tvalue(est_list, value=0, leq=True, alpha=.05))"
   ]
  },
  {
   "cell_type": "code",
   "execution_count": 37,
   "metadata": {},
   "outputs": [
    {
     "data": {
      "text/html": [
       "<div>\n",
       "<style scoped>\n",
       "    .dataframe tbody tr th:only-of-type {\n",
       "        vertical-align: middle;\n",
       "    }\n",
       "\n",
       "    .dataframe tbody tr th {\n",
       "        vertical-align: top;\n",
       "    }\n",
       "\n",
       "    .dataframe thead th {\n",
       "        text-align: right;\n",
       "    }\n",
       "</style>\n",
       "<table border=\"1\" class=\"dataframe\">\n",
       "  <thead>\n",
       "    <tr style=\"text-align: right;\">\n",
       "      <th></th>\n",
       "      <th>point</th>\n",
       "      <th>Bounds</th>\n",
       "      <th>CIBounds</th>\n",
       "      <th>RV(v=0)</th>\n",
       "      <th>RV(v=0,a=.05)</th>\n",
       "    </tr>\n",
       "  </thead>\n",
       "  <tbody>\n",
       "    <tr>\n",
       "      <th>Non-parametric</th>\n",
       "      <td>7718.880 (1148.500)</td>\n",
       "      <td>[2925.944, 12511.817]</td>\n",
       "      <td>[938.947, 14488.127]</td>\n",
       "      <td>0.056</td>\n",
       "      <td>0.041</td>\n",
       "    </tr>\n",
       "    <tr>\n",
       "      <th>Partially linear</th>\n",
       "      <td>8696.093 (1331.656)</td>\n",
       "      <td>[4402.203, 12989.984]</td>\n",
       "      <td>[2153.443, 15241.546]</td>\n",
       "      <td>0.069</td>\n",
       "      <td>0.051</td>\n",
       "    </tr>\n",
       "  </tbody>\n",
       "</table>\n",
       "</div>"
      ],
      "text/plain": [
       "                                point                 Bounds  \\\n",
       "Non-parametric    7718.880 (1148.500)  [2925.944, 12511.817]   \n",
       "Partially linear  8696.093 (1331.656)  [4402.203, 12989.984]   \n",
       "\n",
       "                               CIBounds RV(v=0) RV(v=0,a=.05)  \n",
       "Non-parametric     [938.947, 14488.127]   0.056         0.041  \n",
       "Partially linear  [2153.443, 15241.546]   0.069         0.051  "
      ]
     },
     "execution_count": 37,
     "metadata": {},
     "output_type": "execute_result"
    }
   ],
   "source": [
    "tabledf = pd.DataFrame({'Non-parametric': table, 'Partially linear': table2}).T[['point', 'Bounds', 'CIBounds',\n",
    "                                                                                 'RV(v=0)', 'RV(v=0,a=.05)']]\n",
    "tabledf"
   ]
  },
  {
   "cell_type": "code",
   "execution_count": 38,
   "metadata": {},
   "outputs": [
    {
     "name": "stdout",
     "output_type": "stream",
     "text": [
      "\\begin{tabular}{llllll}\n",
      "\\toprule\n",
      "{} &                point &                 Bounds &               CIBounds & RV(v=0) & RV(v=0,a=.05) \\\\\n",
      "\\midrule\n",
      "Non-parametric   &  7718.880 (1148.500) &  [2925.944, 12511.817] &   [938.947, 14488.127] &   0.056 &         0.041 \\\\\n",
      "Partially linear &  8696.093 (1331.656) &  [4402.203, 12989.984] &  [2153.443, 15241.546] &   0.069 &         0.051 \\\\\n",
      "\\bottomrule\n",
      "\\end{tabular}\n",
      "\n"
     ]
    }
   ],
   "source": [
    "print(tabledf.to_latex())"
   ]
  },
  {
   "cell_type": "markdown",
   "metadata": {},
   "source": [
    "# Analysis by income"
   ]
  },
  {
   "cell_type": "code",
   "execution_count": 50,
   "metadata": {},
   "outputs": [],
   "source": [
    "def plot_by_income(nq, method, dml):\n",
    "    if dml:\n",
    "        sens_fn, est_fn = dml_sensitivity_bounds, dml_estimate\n",
    "    else:\n",
    "        sens_fn, est_fn = sensitivity_bounds, moment_estimate\n",
    "    X, _, _, _ = get_data(1, synthetic=synthetic, random_seed=123)\n",
    "    inds = np.argsort(X[:, 2])\n",
    "    splits = np.array_split(inds, nq)\n",
    "    point = np.zeros(nq)\n",
    "    stderr = np.zeros(nq)\n",
    "    bounds = np.zeros((nq, 2))\n",
    "    cibounds = np.zeros((nq, 2))\n",
    "    qgr = np.arange(nq)\n",
    "    for q in qgr:\n",
    "        points, stderrs = zip(*[est_fn(est, inds=splits[q]) for est in ests[method]['q=1']])\n",
    "        points, stderrs = np.array(points), np.array(stderrs)\n",
    "        point[q] = np.mean(points)\n",
    "        stderr[q] = np.sqrt(np.mean(stderrs**2) + np.var(points))\n",
    "        bounds[q, :] = sens_fn(ests[method]['q=1'], .04, .03, inds=splits[q])\n",
    "        cibounds[q, :] = sens_fn(ests[method]['q=1'], .04, .03, alpha=0.05, inds=splits[q])\n",
    "        \n",
    "    plt.figure(figsize=(10, 5))\n",
    "    plt.subplot(1, 2, 1)\n",
    "    plt.fill_between(qgr, point - 1.645*stderr, point + 1.645*stderr, alpha=.4)\n",
    "    plt.plot(qgr, point)\n",
    "    plt.xlabel(\"Income groups by quartiles\")\n",
    "    plt.ylabel(\"ATE\")\n",
    "\n",
    "    plt.subplot(1, 2, 2)\n",
    "    plt.fill_between(qgr, cibounds[:, 0], cibounds[:, 1], alpha=.4)\n",
    "    plt.fill_between(qgr, bounds[:, 0], bounds[:, 1], alpha=.4)\n",
    "    plt.plot(qgr, point)\n",
    "    plt.xlabel(\"Income groups by quartiles\")\n",
    "    plt.ylabel(\"ATE\")\n",
    "    plt.tight_layout()\n",
    "    plt.show()"
   ]
  },
  {
   "cell_type": "code",
   "execution_count": 54,
   "metadata": {},
   "outputs": [
    {
     "data": {
      "image/png": "[encoded data removed]",
      "text/plain": [
       "<Figure size 720x360 with 2 Axes>"
      ]
     },
     "metadata": {
      "needs_background": "light"
     },
     "output_type": "display_data"
    }
   ],
   "source": [
    "plot_by_income(4, 'rr', False)"
   ]
  },
  {
   "cell_type": "code",
   "execution_count": 55,
   "metadata": {},
   "outputs": [
    {
     "data": {
      "image/png": "[encoded data removed]",
      "text/plain": [
       "<Figure size 720x360 with 2 Axes>"
      ]
     },
     "metadata": {
      "needs_background": "light"
     },
     "output_type": "display_data"
    }
   ],
   "source": [
    "plot_by_income(4, 'dml', True)"
   ]
  },
  {
   "cell_type": "code",
   "execution_count": 56,
   "metadata": {},
   "outputs": [
    {
     "data": {
      "image/png": "[encoded data removed]",
      "text/plain": [
       "<Figure size 720x360 with 2 Axes>"
      ]
     },
     "metadata": {
      "needs_background": "light"
     },
     "output_type": "display_data"
    }
   ],
   "source": [
    "plot_by_income(4, 'dml_lasso', True)"
   ]
  },
  {
   "cell_type": "code",
   "execution_count": null,
   "metadata": {},
   "outputs": [],
   "source": []
  }
 ],
 "metadata": {
  "kernelspec": {
   "display_name": "Python 3 (ipykernel)",
   "language": "python",
   "name": "python3"
  },
  "language_info": {
   "codemirror_mode": {
    "name": "ipython",
    "version": 3
   },
   "file_extension": ".py",
   "mimetype": "text/x-python",
   "name": "python",
   "nbconvert_exporter": "python",
   "pygments_lexer": "ipython3",
   "version": "3.7.1"
  }
 },
 "nbformat": 4,
 "nbformat_minor": 4
}
