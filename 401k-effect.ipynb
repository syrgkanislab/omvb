{
 "cells": [
  {
   "cell_type": "code",
   "execution_count": 1,
   "metadata": {},
   "outputs": [],
   "source": [
    "%load_ext autoreload\n",
    "%autoreload 2\n",
    "%matplotlib inline"
   ]
  },
  {
   "cell_type": "code",
   "execution_count": 2,
   "metadata": {},
   "outputs": [],
   "source": [
    "import numpy as np\n",
    "import matplotlib.pyplot as plt\n",
    "import scipy\n",
    "import scipy.special\n",
    "from sklearn.linear_model import LassoCV, LogisticRegressionCV, LinearRegression, Lasso, LogisticRegression\n",
    "from sklearn.base import clone\n",
    "import joblib\n",
    "from statsmodels.api import OLS\n",
    "from sklearn.model_selection import StratifiedKFold\n",
    "from sklearn.compose import ColumnTransformer\n",
    "from sklearn.preprocessing import StandardScaler\n",
    "from sklearn.pipeline import Pipeline\n",
    "import pandas as pd\n",
    "import math"
   ]
  },
  {
   "cell_type": "code",
   "execution_count": 3,
   "metadata": {},
   "outputs": [],
   "source": [
    "from sensitivity import dml_sensitivity_bounds, dml_tvalue, dml_estimate\n",
    "from sensitivity import sensitivity_bounds, tvalue, sensitivity_contours, moment_estimate\n",
    "from rfriesz import RFreg, RFrr, poly_feature_fns\n",
    "from sievereisz import SieveRR, SparseSieveRR, Featurizer\n",
    "from debiased import DebiasedMoment\n",
    "from econml.dml import LinearDML"
   ]
  },
  {
   "cell_type": "code",
   "execution_count": 4,
   "metadata": {},
   "outputs": [],
   "source": [
    "from automl import reg_fn_gen, rr_fn_gen, model_y_fn_gen, model_t_fn_gen"
   ]
  },
  {
   "cell_type": "code",
   "execution_count": 5,
   "metadata": {},
   "outputs": [],
   "source": [
    "# The moment function, whose average we want to estimate: E[m(X; g)]\n",
    "def moment_fn(x, test_fn):\n",
    "    t1 = np.hstack([np.ones((x.shape[0], 1)), x[:, 1:]])\n",
    "    t0 = np.hstack([np.zeros((x.shape[0], 1)), x[:, 1:]])\n",
    "    return test_fn(t1) - test_fn(t0)"
   ]
  },
  {
   "cell_type": "code",
   "execution_count": 6,
   "metadata": {},
   "outputs": [],
   "source": [
    "# Data loading and manipulation\n",
    "\n",
    "# for semi-synthetic data generation\n",
    "def true_f(X):\n",
    "    y = (-.7 - .4 * scipy.special.expit(3 * (1 - 2*(X[:, 1] - 10.5)))) * X[:, 0]\n",
    "    y += scipy.special.expit(3 * (1 - 2 * (X[:, 1] > 11.5)))\n",
    "    return y\n",
    "\n",
    "# def true_f(X):\n",
    "#     y = -.7 * X[:, 0]\n",
    "#     y += scipy.special.expit(3 * (1 - 2 * (X[:, 1] > 11.5)))\n",
    "#     return y\n",
    "\n",
    "def get_data(q=1, synthetic=False, random_seed=123):\n",
    "    dfx = pd.read_csv('./401k/401k-x.csv', sep=',')\n",
    "    dfy = pd.read_csv('./401k/401k-y.csv', sep=',')\n",
    "    dfd = pd.read_csv('./401k/401k-d.csv', sep=',')\n",
    "    dfx = dfx.drop(['db'], axis=1) # highly predictable from income\n",
    "    X = np.hstack([dfd.values, dfx.values])\n",
    "    column_names = ['treatment'] + list(dfx.columns)\n",
    "    y = dfy.values.flatten() # outcome to numpy array\n",
    "    if synthetic: # impute synthetic outcome based on known relationship\n",
    "        y = true_f(X) + np.random.normal(0, .2, size=X[:, 0].shape)\n",
    "        print(np.mean(moment_fn(X, true_f)))\n",
    "    \n",
    "    # Create state-block-wise and stratified by region folds for cross validation and cross fitting\n",
    "    cv = StratifiedKFold(n_splits=5, shuffle=True, random_state=random_seed)\n",
    "    splits = list(cv.split(X, X[:, 0]))\n",
    "    return X, y, [1, 2, 3, 4], splits, column_names"
   ]
  },
  {
   "cell_type": "code",
   "execution_count": 7,
   "metadata": {},
   "outputs": [],
   "source": [
    "# global result dictionaries and global parameters\n",
    "ests = {}\n",
    "res = {}\n",
    "res_d = {}\n",
    "synthetic = False # use synthetic outcome\n",
    "q_grid = np.arange(1, 2) # this is not really used but only for code uniformity\n",
    "verbose = 0"
   ]
  },
  {
   "cell_type": "markdown",
   "metadata": {},
   "source": [
    "# Ablation study for riesz variance explained"
   ]
  },
  {
   "cell_type": "code",
   "execution_count": 8,
   "metadata": {},
   "outputs": [
    {
     "data": {
      "image/png": "[encoded data removed]",
      "text/plain": [
       "<Figure size 432x288 with 1 Axes>"
      ]
     },
     "metadata": {
      "needs_background": "light"
     },
     "output_type": "display_data"
    }
   ],
   "source": [
    "# log-income distribution\n",
    "X, y, num_cols, splits, column_names = get_data(random_seed=124)\n",
    "plt.hist(X[:, 1])\n",
    "plt.show()"
   ]
  },
  {
   "cell_type": "code",
   "execution_count": 9,
   "metadata": {},
   "outputs": [
    {
     "name": "stdout",
     "output_type": "stream",
     "text": [
      "['treatment', 'age', 'inc', 'educ', 'fsize', 'marr', 'twoearn', 'pira', 'hown']\n"
     ]
    }
   ],
   "source": [
    "print(column_names)"
   ]
  },
  {
   "cell_type": "code",
   "execution_count": 10,
   "metadata": {},
   "outputs": [
    {
     "data": {
      "text/plain": [
       "[('age', [1]),\n",
       " ('inc', [2]),\n",
       " ('educ', [3]),\n",
       " ('fsize', [4]),\n",
       " ('marr', [5]),\n",
       " ('twoearn', [6]),\n",
       " ('pira', [7]),\n",
       " ('hown', [8])]"
      ]
     },
     "execution_count": 10,
     "metadata": {},
     "output_type": "execute_result"
    }
   ],
   "source": [
    "ablation_groups = list([(n, [c]) for n, c in zip(column_names[1:], np.arange(1, len(column_names)))])\n",
    "ablation_groups"
   ]
  },
  {
   "cell_type": "code",
   "execution_count": 11,
   "metadata": {},
   "outputs": [],
   "source": [
    "from ablation import ablation_multiseed, plr_ablation_multiseed\n",
    "get_data_fn = lambda seed: get_data(random_seed=seed)"
   ]
  },
  {
   "cell_type": "code",
   "execution_count": 17,
   "metadata": {},
   "outputs": [],
   "source": [
    "plr_etasq, plr_Cy, plr_dtheta, plr_rho = plr_ablation_multiseed(ablation_groups, moment_fn,\n",
    "                                                                get_data_fn, model_y_fn_gen, model_t_fn_gen, verbose)"
   ]
  },
  {
   "cell_type": "code",
   "execution_count": 18,
   "metadata": {},
   "outputs": [
    {
     "name": "stdout",
     "output_type": "stream",
     "text": [
      "age etasq=0.0015 (0.0013), Cy=0.0791 (0.0211),  dtheta=-476.7143 (346.7868),  rho=-0.3856 (0.3002)\n",
      "inc etasq=0.0532 (0.0055), Cy=0.1466 (0.0311),  dtheta=4196.5607 (609.6360),  rho=0.3711 (0.0580)\n",
      "educ etasq=0.0009 (0.0006), Cy=-0.0055 (0.0032),  dtheta=58.9738 (68.2037),  rho=942989.3167 (4379270121212497408.0000)\n",
      "fsize etasq=-0.0003 (0.0004), Cy=-0.0014 (0.0025),  dtheta=78.1259 (86.0589),  rho=78125920.6296 (267965841635561996288.0000)\n",
      "marr etasq=0.0006 (0.0005), Cy=0.0030 (0.0032),  dtheta=-132.1003 (73.9546),  rho=-0.7734 (0.6926)\n",
      "twoearn etasq=0.0003 (0.0003), Cy=0.0330 (0.0131),  dtheta=-1003.3295 (249.6944),  rho=-2.6816 (1.1521)\n",
      "pira etasq=0.0003 (0.0003), Cy=0.0493 (0.0103),  dtheta=461.0659 (298.5754),  rho=0.9180 (0.6324)\n",
      "hown etasq=0.0044 (0.0013), Cy=0.0026 (0.0015),  dtheta=531.9980 (118.9456),  rho=1.3311 (0.3469)\n"
     ]
    }
   ],
   "source": [
    "for key, value in plr_etasq.items():\n",
    "    print(key, f'etasq={value[0]:.4f} ({value[1]:.4f}), Cy={plr_Cy[key][0]:.4f} ({plr_Cy[key][1]:.4f}), ',\n",
    "          f'dtheta={plr_dtheta[key][0]:.4f} ({plr_dtheta[key][1]:.4f}), ',\n",
    "          f'rho={plr_rho[key][0]:.4f} ({plr_rho[key][1]:.4f})')"
   ]
  },
  {
   "cell_type": "code",
   "execution_count": 19,
   "metadata": {
    "scrolled": false
   },
   "outputs": [],
   "source": [
    "np_etasq, np_Cy, np_dtheta, np_rho = ablation_multiseed(ablation_groups, moment_fn,\n",
    "                                                        get_data_fn, reg_fn_gen, rr_fn_gen, verbose)"
   ]
  },
  {
   "cell_type": "code",
   "execution_count": 20,
   "metadata": {},
   "outputs": [
    {
     "name": "stdout",
     "output_type": "stream",
     "text": [
      "age etasq=-0.0035 (0.0083), Cy=0.0122 (0.0094),  dtheta=-595.7798 (201.0314),  rho=-77.7459 (1513027.0471)\n",
      "inc etasq=0.1408 (0.0192), Cy=0.1166 (0.0306),  dtheta=4216.8946 (573.3677),  rho=0.2438 (0.0443)\n",
      "educ etasq=0.0063 (0.0070), Cy=0.0003 (0.0022),  dtheta=10.1323 (76.7265),  rho=0.0342 (4.5692)\n",
      "fsize etasq=-0.0025 (0.0021), Cy=-0.0004 (0.0020),  dtheta=-18.6490 (58.6627),  rho=-19.7522 (316952561172009088.0000)\n",
      "marr etasq=0.0002 (0.0013), Cy=-0.0001 (0.0009),  dtheta=17.6450 (35.8924),  rho=915303.1446 (388626584975433216.0000)\n",
      "twoearn etasq=0.0002 (0.0004), Cy=0.0127 (0.0055),  dtheta=-204.8095 (92.9161),  rho=-1.6417 (1.3084)\n",
      "pira etasq=0.0002 (0.0005), Cy=0.0476 (0.0149),  dtheta=483.8286 (371.1779),  rho=0.3716 (0.7004)\n",
      "hown etasq=0.0019 (0.0036), Cy=0.0005 (0.0004),  dtheta=338.3333 (86.5775),  rho=2.6201 (5.8876)\n"
     ]
    }
   ],
   "source": [
    "for key, value in np_etasq.items():\n",
    "    print(key, f'etasq={value[0]:.4f} ({value[1]:.4f}), Cy={np_Cy[key][0]:.4f} ({np_Cy[key][1]:.4f}), ',\n",
    "          f'dtheta={np_dtheta[key][0]:.4f} ({np_dtheta[key][1]:.4f}), ',\n",
    "          f'rho={np_rho[key][0]:.4f} ({np_rho[key][1]:.4f})')"
   ]
  },
  {
   "cell_type": "markdown",
   "metadata": {},
   "source": [
    "# Main Analysis"
   ]
  },
  {
   "cell_type": "code",
   "execution_count": 16,
   "metadata": {},
   "outputs": [],
   "source": [
    "# General pipeline for all types of estimators to generate the estimation result we want\n",
    "def generic_pipeline(estimator, q_grid, name, n_seeds=5):\n",
    "    ests = {}\n",
    "    res = {}\n",
    "    for q in q_grid:\n",
    "        print(f'q={q}')\n",
    "        ests[f'q={q}'] = []\n",
    "        estimate_list = []\n",
    "        for random_seed in np.arange(123, 123 + n_seeds):\n",
    "            X, y, num_cols, splits, _ = get_data(q, synthetic=synthetic, random_seed=random_seed)\n",
    "            estimates, model = estimator(X, y, num_cols, splits)\n",
    "            print(estimates)\n",
    "            estimate_list.append(estimates)\n",
    "            ests[f'q={q}'].append(model)\n",
    "        estimate_list = np.array(estimate_list)\n",
    "        res[f'q={q}'] = {}\n",
    "        res[f'q={q}'][f'{name}'] = {}\n",
    "        res[f'q={q}'][f'{name}']['point'] = np.mean(estimate_list[:, 0])\n",
    "        if estimate_list.shape[1] > 2:\n",
    "            res[f'q={q}'][f'{name}']['stderr'] = np.sqrt(np.mean(estimate_list[:, 1]**2) \n",
    "                                                         + np.var(estimate_list[:, 0]))\n",
    "        res[f'q={q}'] = pd.DataFrame(res[f'q={q}']).transpose()\n",
    "    return pd.concat(res), ests"
   ]
  },
  {
   "cell_type": "code",
   "execution_count": 17,
   "metadata": {},
   "outputs": [],
   "source": [
    "# Transforming results to a nicely printable dataframe where each cell\n",
    "# contains point (stderr) [ci_lower, ci_upper]\n",
    "def transform_res_to_df(res, q_grid, alpha=None):\n",
    "    res_f = res.reset_index()\n",
    "    res_d = {}\n",
    "    for q in q_grid:\n",
    "        key = 'all <= 11.6' if q==0 else ('all' if q==5 else f'q={q}')\n",
    "        res_d[key] = {}\n",
    "        for method in np.unique(res_f['level_1'].values):\n",
    "            p = res.loc[(f'q={q}', method), 'point']\n",
    "            if alpha is not None:\n",
    "                s = res.loc[(f'q={q}', method), 'stderr']\n",
    "                error = scipy.stats.norm.ppf(1 - alpha) * s\n",
    "                l, u = p - error, p + error\n",
    "                res_d[key][method] = f\"{p:.2f} ({s:.2f}) [{l:.2f}, {u:.2f}]\"\n",
    "            else:\n",
    "                res_d[key][method] = f\"{p:.2f}\"\n",
    "        \n",
    "    return pd.DataFrame(res_d)"
   ]
  },
  {
   "cell_type": "code",
   "execution_count": 18,
   "metadata": {},
   "outputs": [],
   "source": [
    "if synthetic:\n",
    "    def oracle_estimator(X, y, num_cols, splits):\n",
    "        return (np.mean(moment_fn(X, true_f)),), None\n",
    "    res['true'], _ = generic_pipeline(oracle_estimator, q_grid, 'true', n_seeds=1)\n",
    "    res_d['true'] = transform_res_to_df(res['true'], q_grid)\n",
    "    display(res_d['true'])"
   ]
  },
  {
   "cell_type": "markdown",
   "metadata": {},
   "source": [
    "# Non-Linear RR Analysis"
   ]
  },
  {
   "cell_type": "code",
   "execution_count": 19,
   "metadata": {},
   "outputs": [],
   "source": [
    "# fully non-parametric average derivative estimation\n",
    "def nonlinrr(X, y, num_cols, splits):\n",
    "    get_reisz_fn = rr_fn_gen(moment_fn, num_cols, cv=splits, verbose=verbose)\n",
    "    get_reg_fn = reg_fn_gen(num_cols, cv=splits, verbose=verbose)\n",
    "    est = DebiasedMoment(moment_fn=moment_fn,\n",
    "                         get_reisz_fn=get_reisz_fn,\n",
    "                         get_reg_fn=get_reg_fn,\n",
    "                         n_splits=splits)\n",
    "    est.fit(X, y)\n",
    "    return est.avg_moment(alpha=.1), est"
   ]
  },
  {
   "cell_type": "code",
   "execution_count": 20,
   "metadata": {},
   "outputs": [
    {
     "name": "stdout",
     "output_type": "stream",
     "text": [
      "q=1\n",
      "(7565.487318876264, 1165.6447142614813, 5647.993207937338, 9482.981429815189)\n",
      "(7577.424854628451, 1164.4918539991254, 5661.827207283241, 9493.02250197366)\n",
      "(7574.716607841946, 1163.1910188260308, 5661.2588439047695, 9488.174371779121)\n",
      "(7569.597137556487, 1138.3321205689303, 5697.0324437196805, 9442.161831393294)\n",
      "(7586.085474416687, 1161.9540426058695, 5674.662545441237, 9497.508403392138)\n"
     ]
    }
   ],
   "source": [
    "res['rr'], ests['rr'] = generic_pipeline(nonlinrr, q_grid, 'dr')"
   ]
  },
  {
   "cell_type": "code",
   "execution_count": 21,
   "metadata": {},
   "outputs": [
    {
     "data": {
      "text/html": [
       "<div>\n",
       "<style scoped>\n",
       "    .dataframe tbody tr th:only-of-type {\n",
       "        vertical-align: middle;\n",
       "    }\n",
       "\n",
       "    .dataframe tbody tr th {\n",
       "        vertical-align: top;\n",
       "    }\n",
       "\n",
       "    .dataframe thead th {\n",
       "        text-align: right;\n",
       "    }\n",
       "</style>\n",
       "<table border=\"1\" class=\"dataframe\">\n",
       "  <thead>\n",
       "    <tr style=\"text-align: right;\">\n",
       "      <th></th>\n",
       "      <th>q=1</th>\n",
       "    </tr>\n",
       "  </thead>\n",
       "  <tbody>\n",
       "    <tr>\n",
       "      <th>dr</th>\n",
       "      <td>7574.66 (1158.79) [5668.62, 9480.70]</td>\n",
       "    </tr>\n",
       "  </tbody>\n",
       "</table>\n",
       "</div>"
      ],
      "text/plain": [
       "                                     q=1\n",
       "dr  7574.66 (1158.79) [5668.62, 9480.70]"
      ]
     },
     "execution_count": 21,
     "metadata": {},
     "output_type": "execute_result"
    }
   ],
   "source": [
    "res_d['rr'] = transform_res_to_df(res['rr'], q_grid, alpha=0.05)\n",
    "res_d['rr']"
   ]
  },
  {
   "cell_type": "markdown",
   "metadata": {},
   "source": [
    "# OLS analysis"
   ]
  },
  {
   "cell_type": "code",
   "execution_count": 22,
   "metadata": {},
   "outputs": [],
   "source": [
    "# fully linear OLS-based average derivative estimation\n",
    "def ols_estimator(X, y, num_cols, splits):\n",
    "    est = OLS(y, np.hstack([np.ones((X.shape[0], 1)), X])).fit(cov_type='HC3')\n",
    "    return (est.params[1], est.bse[1], *est.conf_int(alpha=.1)[1]), est"
   ]
  },
  {
   "cell_type": "code",
   "execution_count": 23,
   "metadata": {},
   "outputs": [
    {
     "name": "stdout",
     "output_type": "stream",
     "text": [
      "q=1\n",
      "(4949.022797540579, 1578.5857095118429, 2352.480367796261, 7545.5652272848965)\n"
     ]
    }
   ],
   "source": [
    "res['ols'], ests['ols'] = generic_pipeline(ols_estimator, q_grid, 'ols', n_seeds=1)"
   ]
  },
  {
   "cell_type": "code",
   "execution_count": 24,
   "metadata": {},
   "outputs": [
    {
     "data": {
      "text/html": [
       "<div>\n",
       "<style scoped>\n",
       "    .dataframe tbody tr th:only-of-type {\n",
       "        vertical-align: middle;\n",
       "    }\n",
       "\n",
       "    .dataframe tbody tr th {\n",
       "        vertical-align: top;\n",
       "    }\n",
       "\n",
       "    .dataframe thead th {\n",
       "        text-align: right;\n",
       "    }\n",
       "</style>\n",
       "<table border=\"1\" class=\"dataframe\">\n",
       "  <thead>\n",
       "    <tr style=\"text-align: right;\">\n",
       "      <th></th>\n",
       "      <th>q=1</th>\n",
       "    </tr>\n",
       "  </thead>\n",
       "  <tbody>\n",
       "    <tr>\n",
       "      <th>ols</th>\n",
       "      <td>4949.02 (1578.59) [2352.48, 7545.57]</td>\n",
       "    </tr>\n",
       "  </tbody>\n",
       "</table>\n",
       "</div>"
      ],
      "text/plain": [
       "                                      q=1\n",
       "ols  4949.02 (1578.59) [2352.48, 7545.57]"
      ]
     },
     "execution_count": 24,
     "metadata": {},
     "output_type": "execute_result"
    }
   ],
   "source": [
    "res_d['ols'] = transform_res_to_df(res['ols'], q_grid, alpha=0.05)\n",
    "res_d['ols']"
   ]
  },
  {
   "cell_type": "markdown",
   "metadata": {},
   "source": [
    "# Lasso Analysis"
   ]
  },
  {
   "cell_type": "code",
   "execution_count": 25,
   "metadata": {},
   "outputs": [],
   "source": [
    "# fully linear Lasso-based average derivative estimation\n",
    "def lasso_estimator(X, y, num_cols, splits):\n",
    "    num_cols = [t - 1 for t in num_cols[1:]]\n",
    "\n",
    "    est = Pipeline([('scale', ColumnTransformer([('num', StandardScaler(), num_cols)], remainder='passthrough')),\n",
    "                    ('lasso', LassoCV(cv=splits))])\n",
    "    est.fit(X, y)\n",
    "    p = np.mean(est.predict(np.hstack([np.ones((X.shape[0], 1)), X[:, 1:]])) \n",
    "            - est.predict(np.hstack([np.zeros((X.shape[0], 1)), X[:, 1:]])))\n",
    "    return (p,), est"
   ]
  },
  {
   "cell_type": "code",
   "execution_count": 26,
   "metadata": {},
   "outputs": [
    {
     "name": "stdout",
     "output_type": "stream",
     "text": [
      "q=1\n",
      "(4840.142607250498,)\n",
      "(4840.142607250498,)\n",
      "(4840.142607250498,)\n",
      "(4840.142607250498,)\n",
      "(4840.142607250498,)\n"
     ]
    }
   ],
   "source": [
    "res['lasso'], ests['lasso'] = generic_pipeline(lasso_estimator, q_grid, 'lasso')"
   ]
  },
  {
   "cell_type": "code",
   "execution_count": 27,
   "metadata": {},
   "outputs": [
    {
     "data": {
      "text/html": [
       "<div>\n",
       "<style scoped>\n",
       "    .dataframe tbody tr th:only-of-type {\n",
       "        vertical-align: middle;\n",
       "    }\n",
       "\n",
       "    .dataframe tbody tr th {\n",
       "        vertical-align: top;\n",
       "    }\n",
       "\n",
       "    .dataframe thead th {\n",
       "        text-align: right;\n",
       "    }\n",
       "</style>\n",
       "<table border=\"1\" class=\"dataframe\">\n",
       "  <thead>\n",
       "    <tr style=\"text-align: right;\">\n",
       "      <th></th>\n",
       "      <th>q=1</th>\n",
       "    </tr>\n",
       "  </thead>\n",
       "  <tbody>\n",
       "    <tr>\n",
       "      <th>lasso</th>\n",
       "      <td>4840.14</td>\n",
       "    </tr>\n",
       "  </tbody>\n",
       "</table>\n",
       "</div>"
      ],
      "text/plain": [
       "           q=1\n",
       "lasso  4840.14"
      ]
     },
     "execution_count": 27,
     "metadata": {},
     "output_type": "execute_result"
    }
   ],
   "source": [
    "res_d['lasso'] = transform_res_to_df(res['lasso'], q_grid)\n",
    "res_d['lasso']"
   ]
  },
  {
   "cell_type": "markdown",
   "metadata": {},
   "source": [
    "# DML Analysis"
   ]
  },
  {
   "cell_type": "code",
   "execution_count": 28,
   "metadata": {},
   "outputs": [],
   "source": [
    "# fully linear debiased Lasso-based average derivative estimation, with doubleML\n",
    "def dml_lasso_estimator(X, y, num_cols, splits):\n",
    "    num_cols = [t - 1 for t in num_cols[1:]]\n",
    "\n",
    "    model_reg = Pipeline([('scale', ColumnTransformer([('num', StandardScaler(), num_cols)], remainder='passthrough')),\n",
    "                          ('lasso', LassoCV(cv=splits))])\n",
    "    model_y = clone(model_reg).fit(X[:, 1:], y)\n",
    "    model_y = Pipeline([('scale', ColumnTransformer([('num', StandardScaler(), num_cols)], remainder='passthrough')),\n",
    "                        ('lasso', Lasso(alpha=model_y.named_steps['lasso'].alpha_))])\n",
    "    model_t = clone(model_reg).fit(X[:, 1:], X[:, 0])\n",
    "    model_t = Pipeline([('scale', ColumnTransformer([('num', StandardScaler(), num_cols)], remainder='passthrough')),\n",
    "                        ('lasso', Lasso(alpha=model_t.named_steps['lasso'].alpha_))])\n",
    "    est = LinearDML(model_y=model_y,\n",
    "                    model_t=model_t,\n",
    "                    linear_first_stages=False,\n",
    "                    cv=splits, random_state=123)\n",
    "    est.fit(y, X[:, 0], W=X[:, 1:], cache_values=True)\n",
    "    p = est.intercept__inference().point_estimate\n",
    "    s = est.intercept__inference().stderr\n",
    "    l, u = est.intercept__inference().conf_int(alpha=.1)\n",
    "    return (p, s, l, u), est"
   ]
  },
  {
   "cell_type": "code",
   "execution_count": 29,
   "metadata": {},
   "outputs": [
    {
     "name": "stdout",
     "output_type": "stream",
     "text": [
      "q=1\n",
      "(5004.938364070149, 1568.315644126422, 2425.288688624068, 7584.5880395162285)\n",
      "(4961.457180568416, 1569.691991669472, 2379.543614874204, 7543.370746262627)\n",
      "(4978.097578254555, 1571.4274925909892, 2393.3293675750074, 7562.865788934101)\n",
      "(4923.580256329652, 1581.9249447358293, 2321.545273415915, 7525.615239243388)\n",
      "(4900.439152220281, 1589.8040066707115, 2285.444265705978, 7515.434038734584)\n"
     ]
    }
   ],
   "source": [
    "res['dml_lasso'], ests['dml_lasso'] = generic_pipeline(dml_lasso_estimator, q_grid, 'dml_lasso')"
   ]
  },
  {
   "cell_type": "code",
   "execution_count": 30,
   "metadata": {},
   "outputs": [
    {
     "data": {
      "text/html": [
       "<div>\n",
       "<style scoped>\n",
       "    .dataframe tbody tr th:only-of-type {\n",
       "        vertical-align: middle;\n",
       "    }\n",
       "\n",
       "    .dataframe tbody tr th {\n",
       "        vertical-align: top;\n",
       "    }\n",
       "\n",
       "    .dataframe thead th {\n",
       "        text-align: right;\n",
       "    }\n",
       "</style>\n",
       "<table border=\"1\" class=\"dataframe\">\n",
       "  <thead>\n",
       "    <tr style=\"text-align: right;\">\n",
       "      <th></th>\n",
       "      <th>q=1</th>\n",
       "    </tr>\n",
       "  </thead>\n",
       "  <tbody>\n",
       "    <tr>\n",
       "      <th>dml_lasso</th>\n",
       "      <td>4953.70 (1576.70) [2360.26, 7547.14]</td>\n",
       "    </tr>\n",
       "  </tbody>\n",
       "</table>\n",
       "</div>"
      ],
      "text/plain": [
       "                                            q=1\n",
       "dml_lasso  4953.70 (1576.70) [2360.26, 7547.14]"
      ]
     },
     "execution_count": 30,
     "metadata": {},
     "output_type": "execute_result"
    }
   ],
   "source": [
    "res_d['dml_lasso'] = transform_res_to_df(res['dml_lasso'], q_grid, alpha=.05)\n",
    "res_d['dml_lasso']"
   ]
  },
  {
   "cell_type": "markdown",
   "metadata": {},
   "source": [
    "# DML with Non-Linear Residualizers"
   ]
  },
  {
   "cell_type": "code",
   "execution_count": 31,
   "metadata": {},
   "outputs": [],
   "source": [
    "# partially linear average derivative estimation, with doubleML\n",
    "def dml_estimator(X, y, num_cols, splits):\n",
    "    num_cols = [t - 1 for t in num_cols[1:]]\n",
    "\n",
    "    model_y = model_y_fn_gen(num_cols, cv=splits, verbose=verbose)(X[:, 1:], y)\n",
    "    model_t = model_t_fn_gen(num_cols, cv=splits, verbose=verbose)(X[:, 1:], X[:, 0])\n",
    "    est = LinearDML(model_y=model_y(),\n",
    "                    model_t=model_t(),\n",
    "                    linear_first_stages=False,\n",
    "                    cv=splits, random_state=123)\n",
    "    est.fit(y, X[:, 0], W=X[:, 1:], cache_values=True)\n",
    "    p = est.intercept__inference().point_estimate\n",
    "    s = est.intercept__inference().stderr\n",
    "    l, u = est.intercept__inference().conf_int(alpha=.1)\n",
    "    return (p, s, l, u), est"
   ]
  },
  {
   "cell_type": "code",
   "execution_count": 32,
   "metadata": {},
   "outputs": [
    {
     "name": "stdout",
     "output_type": "stream",
     "text": [
      "q=1\n",
      "(8291.40622694514, 1293.2107535426014, 6164.263828567946, 10418.548625322335)\n",
      "(8228.393945038677, 1304.1418206582673, 6083.271541269829, 10373.516348807525)\n",
      "(8136.42995599257, 1297.0574582663191, 6002.960291398756, 10269.899620586384)\n",
      "(8198.527214705944, 1311.9747987325238, 6040.520708541824, 10356.533720870064)\n",
      "(8214.624735615622, 1288.9219409021512, 6094.536806265387, 10334.712664965857)\n"
     ]
    }
   ],
   "source": [
    "res['dml'], ests['dml'] = generic_pipeline(dml_estimator, q_grid, 'dml')"
   ]
  },
  {
   "cell_type": "code",
   "execution_count": 33,
   "metadata": {},
   "outputs": [
    {
     "data": {
      "text/html": [
       "<div>\n",
       "<style scoped>\n",
       "    .dataframe tbody tr th:only-of-type {\n",
       "        vertical-align: middle;\n",
       "    }\n",
       "\n",
       "    .dataframe tbody tr th {\n",
       "        vertical-align: top;\n",
       "    }\n",
       "\n",
       "    .dataframe thead th {\n",
       "        text-align: right;\n",
       "    }\n",
       "</style>\n",
       "<table border=\"1\" class=\"dataframe\">\n",
       "  <thead>\n",
       "    <tr style=\"text-align: right;\">\n",
       "      <th></th>\n",
       "      <th>q=1</th>\n",
       "    </tr>\n",
       "  </thead>\n",
       "  <tbody>\n",
       "    <tr>\n",
       "      <th>dml</th>\n",
       "      <td>8213.88 (1300.05) [6075.49, 10352.26]</td>\n",
       "    </tr>\n",
       "  </tbody>\n",
       "</table>\n",
       "</div>"
      ],
      "text/plain": [
       "                                       q=1\n",
       "dml  8213.88 (1300.05) [6075.49, 10352.26]"
      ]
     },
     "execution_count": 33,
     "metadata": {},
     "output_type": "execute_result"
    }
   ],
   "source": [
    "res_d['dml'] = transform_res_to_df(res['dml'], q_grid, alpha=.05)\n",
    "res_d['dml']"
   ]
  },
  {
   "cell_type": "markdown",
   "metadata": {},
   "source": [
    "# Put all results together"
   ]
  },
  {
   "cell_type": "code",
   "execution_count": 34,
   "metadata": {},
   "outputs": [],
   "source": [
    "res_d_all = pd.concat(res_d)"
   ]
  },
  {
   "cell_type": "code",
   "execution_count": 35,
   "metadata": {},
   "outputs": [
    {
     "data": {
      "text/html": [
       "<style  type=\"text/css\" >\n",
       "    #T_cf34c_ th {\n",
       "          font-size: 11px;\n",
       "    }    #T_cf34c_ td {\n",
       "          font-size: 11px;\n",
       "    }</style><table id=\"T_cf34c_\" ><thead>    <tr>        <th class=\"blank\" ></th>        <th class=\"blank level0\" ></th>        <th class=\"col_heading level0 col0\" >q=1</th>    </tr></thead><tbody>\n",
       "                <tr>\n",
       "                        <th id=\"T_cf34c_level0_row0\" class=\"row_heading level0 row0\" >rr</th>\n",
       "                        <th id=\"T_cf34c_level1_row0\" class=\"row_heading level1 row0\" >dr</th>\n",
       "                        <td id=\"T_cf34c_row0_col0\" class=\"data row0 col0\" >7574.66 (1158.79) [5668.62, 9480.70]</td>\n",
       "            </tr>\n",
       "            <tr>\n",
       "                        <th id=\"T_cf34c_level0_row1\" class=\"row_heading level0 row1\" >ols</th>\n",
       "                        <th id=\"T_cf34c_level1_row1\" class=\"row_heading level1 row1\" >ols</th>\n",
       "                        <td id=\"T_cf34c_row1_col0\" class=\"data row1 col0\" >4949.02 (1578.59) [2352.48, 7545.57]</td>\n",
       "            </tr>\n",
       "            <tr>\n",
       "                        <th id=\"T_cf34c_level0_row2\" class=\"row_heading level0 row2\" >lasso</th>\n",
       "                        <th id=\"T_cf34c_level1_row2\" class=\"row_heading level1 row2\" >lasso</th>\n",
       "                        <td id=\"T_cf34c_row2_col0\" class=\"data row2 col0\" >4840.14</td>\n",
       "            </tr>\n",
       "            <tr>\n",
       "                        <th id=\"T_cf34c_level0_row3\" class=\"row_heading level0 row3\" >dml_lasso</th>\n",
       "                        <th id=\"T_cf34c_level1_row3\" class=\"row_heading level1 row3\" >dml_lasso</th>\n",
       "                        <td id=\"T_cf34c_row3_col0\" class=\"data row3 col0\" >4953.70 (1576.70) [2360.26, 7547.14]</td>\n",
       "            </tr>\n",
       "            <tr>\n",
       "                        <th id=\"T_cf34c_level0_row4\" class=\"row_heading level0 row4\" >dml</th>\n",
       "                        <th id=\"T_cf34c_level1_row4\" class=\"row_heading level1 row4\" >dml</th>\n",
       "                        <td id=\"T_cf34c_row4_col0\" class=\"data row4 col0\" >8213.88 (1300.05) [6075.49, 10352.26]</td>\n",
       "            </tr>\n",
       "    </tbody></table>"
      ],
      "text/plain": [
       "<pandas.io.formats.style.Styler at 0x243ec85fef0>"
      ]
     },
     "execution_count": 35,
     "metadata": {},
     "output_type": "execute_result"
    }
   ],
   "source": [
    "heading_properties = [('font-size', '11px')]\n",
    "\n",
    "cell_properties = [('font-size', '11px')]\n",
    "\n",
    "dfstyle = [dict(selector=\"th\", props=heading_properties),\\\n",
    " dict(selector=\"td\", props=cell_properties)]\n",
    "\n",
    "res_d_all.style.set_table_styles(dfstyle)"
   ]
  },
  {
   "cell_type": "markdown",
   "metadata": {},
   "source": [
    "# Paper tables"
   ]
  },
  {
   "cell_type": "code",
   "execution_count": 36,
   "metadata": {},
   "outputs": [],
   "source": [
    "table = {}\n",
    "table['point'] = '{:.3f} ({:.3f})'.format(res['rr'].loc[(f'q={1}', 'dr'), 'point'],\n",
    "                                          res['rr'].loc[(f'q={1}', 'dr'), 'stderr'])\n",
    "\n",
    "est_list = ests['rr'][f'q={1}']\n",
    "table['Bounds'] = '[{:.3f}, {:.3f}]'.format(*sensitivity_bounds(est_list, .04, .03, alpha=None))\n",
    "table['CIBounds'] = '[{:.3f}, {:.3f}]'.format(*sensitivity_bounds(est_list, .04, .03, alpha=.05))\n",
    "table['RV(v=0)'] = '{:.3f}'.format(tvalue(est_list, value=0, leq=True, alpha=None))\n",
    "table['RV(v=0,a=.05)'] = '{:.3f}'.format(tvalue(est_list, value=0, leq=True, alpha=.05))"
   ]
  },
  {
   "cell_type": "code",
   "execution_count": 37,
   "metadata": {},
   "outputs": [],
   "source": [
    "table2 = {}\n",
    "table2['point'] = '{:.3f} ({:.3f})'.format(res['dml_lasso'].loc[(f'q={1}', 'dml_lasso'), 'point'],\n",
    "                                          res['dml_lasso'].loc[(f'q={1}', 'dml_lasso'), 'stderr'])\n",
    "\n",
    "est_list = ests['dml_lasso'][f'q={1}']\n",
    "table2['Bounds'] = '[{:.3f}, {:.3f}]'.format(*dml_sensitivity_bounds(est_list, .04, .03, alpha=None))\n",
    "table2['CIBounds'] = '[{:.3f}, {:.3f}]'.format(*dml_sensitivity_bounds(est_list, .04, .03, alpha=.05))\n",
    "table2['RV(v=0)'] = '{:.3f}'.format(dml_tvalue(est_list, value=0, leq=True, alpha=None))\n",
    "table2['RV(v=0,a=.05)'] = '{:.3f}'.format(dml_tvalue(est_list, value=0, leq=True, alpha=.05))"
   ]
  },
  {
   "cell_type": "code",
   "execution_count": 38,
   "metadata": {},
   "outputs": [],
   "source": [
    "table2 = {}\n",
    "table2['point'] = '{:.3f} ({:.3f})'.format(res['dml'].loc[(f'q={1}', 'dml'), 'point'],\n",
    "                                          res['dml'].loc[(f'q={1}', 'dml'), 'stderr'])\n",
    "\n",
    "est_list = ests['dml'][f'q={1}']\n",
    "table2['Bounds'] = '[{:.3f}, {:.3f}]'.format(*dml_sensitivity_bounds(est_list, .04, .03, alpha=None))\n",
    "table2['CIBounds'] = '[{:.3f}, {:.3f}]'.format(*dml_sensitivity_bounds(est_list, .04, .03, alpha=.05))\n",
    "table2['RV(v=0)'] = '{:.3f}'.format(dml_tvalue(est_list, value=0, leq=True, alpha=None))\n",
    "table2['RV(v=0,a=.05)'] = '{:.3f}'.format(dml_tvalue(est_list, value=0, leq=True, alpha=.05))"
   ]
  },
  {
   "cell_type": "code",
   "execution_count": 39,
   "metadata": {},
   "outputs": [
    {
     "data": {
      "text/html": [
       "<div>\n",
       "<style scoped>\n",
       "    .dataframe tbody tr th:only-of-type {\n",
       "        vertical-align: middle;\n",
       "    }\n",
       "\n",
       "    .dataframe tbody tr th {\n",
       "        vertical-align: top;\n",
       "    }\n",
       "\n",
       "    .dataframe thead th {\n",
       "        text-align: right;\n",
       "    }\n",
       "</style>\n",
       "<table border=\"1\" class=\"dataframe\">\n",
       "  <thead>\n",
       "    <tr style=\"text-align: right;\">\n",
       "      <th></th>\n",
       "      <th>point</th>\n",
       "      <th>Bounds</th>\n",
       "      <th>CIBounds</th>\n",
       "      <th>RV(v=0)</th>\n",
       "      <th>RV(v=0,a=.05)</th>\n",
       "    </tr>\n",
       "  </thead>\n",
       "  <tbody>\n",
       "    <tr>\n",
       "      <th>Non-parametric</th>\n",
       "      <td>7574.662 (1158.790)</td>\n",
       "      <td>[3039.423, 12109.901]</td>\n",
       "      <td>[1023.832, 14066.046]</td>\n",
       "      <td>0.057</td>\n",
       "      <td>0.042</td>\n",
       "    </tr>\n",
       "    <tr>\n",
       "      <th>Partially linear</th>\n",
       "      <td>8213.876 (1300.045)</td>\n",
       "      <td>[4029.129, 12398.624]</td>\n",
       "      <td>[1812.221, 14576.346]</td>\n",
       "      <td>0.067</td>\n",
       "      <td>0.049</td>\n",
       "    </tr>\n",
       "  </tbody>\n",
       "</table>\n",
       "</div>"
      ],
      "text/plain": [
       "                                point                 Bounds  \\\n",
       "Non-parametric    7574.662 (1158.790)  [3039.423, 12109.901]   \n",
       "Partially linear  8213.876 (1300.045)  [4029.129, 12398.624]   \n",
       "\n",
       "                               CIBounds RV(v=0) RV(v=0,a=.05)  \n",
       "Non-parametric    [1023.832, 14066.046]   0.057         0.042  \n",
       "Partially linear  [1812.221, 14576.346]   0.067         0.049  "
      ]
     },
     "execution_count": 39,
     "metadata": {},
     "output_type": "execute_result"
    }
   ],
   "source": [
    "tabledf = pd.DataFrame({'Non-parametric': table, 'Partially linear': table2}).T[['point', 'Bounds', 'CIBounds',\n",
    "                                                                                 'RV(v=0)', 'RV(v=0,a=.05)']]\n",
    "tabledf"
   ]
  },
  {
   "cell_type": "code",
   "execution_count": 40,
   "metadata": {},
   "outputs": [
    {
     "name": "stdout",
     "output_type": "stream",
     "text": [
      "\\begin{tabular}{llllll}\n",
      "\\toprule\n",
      "{} &                point &                 Bounds &               CIBounds & RV(v=0) & RV(v=0,a=.05) \\\\\n",
      "\\midrule\n",
      "Non-parametric   &  7574.662 (1158.790) &  [3039.423, 12109.901] &  [1023.832, 14066.046] &   0.057 &         0.042 \\\\\n",
      "Partially linear &  8213.876 (1300.045) &  [4029.129, 12398.624] &  [1812.221, 14576.346] &   0.067 &         0.049 \\\\\n",
      "\\bottomrule\n",
      "\\end{tabular}\n",
      "\n"
     ]
    }
   ],
   "source": [
    "print(tabledf.to_latex())"
   ]
  },
  {
   "cell_type": "markdown",
   "metadata": {},
   "source": [
    "# Analysis by income"
   ]
  },
  {
   "cell_type": "code",
   "execution_count": 41,
   "metadata": {},
   "outputs": [],
   "source": [
    "def plot_by_income(nq, method, dml):\n",
    "    if dml:\n",
    "        sens_fn, est_fn = dml_sensitivity_bounds, dml_estimate\n",
    "    else:\n",
    "        sens_fn, est_fn = sensitivity_bounds, moment_estimate\n",
    "    X, _, _, _, _ = get_data(1, synthetic=synthetic, random_seed=123)\n",
    "    inds = np.argsort(X[:, 2])\n",
    "    splits = np.array_split(inds, nq)\n",
    "    point = np.zeros(nq)\n",
    "    stderr = np.zeros(nq)\n",
    "    bounds = np.zeros((nq, 2))\n",
    "    cibounds = np.zeros((nq, 2))\n",
    "    qgr = np.arange(nq)\n",
    "    for q in qgr:\n",
    "        points, stderrs = zip(*[est_fn(est, inds=splits[q]) for est in ests[method]['q=1']])\n",
    "        points, stderrs = np.array(points), np.array(stderrs)\n",
    "        point[q] = np.mean(points)\n",
    "        stderr[q] = np.sqrt(np.mean(stderrs**2) + np.var(points))\n",
    "        bounds[q, :] = sens_fn(ests[method]['q=1'], .04, .03, inds=splits[q])\n",
    "        cibounds[q, :] = sens_fn(ests[method]['q=1'], .04, .03, alpha=0.05, inds=splits[q])\n",
    "        \n",
    "    plt.figure(figsize=(10, 5))\n",
    "    plt.subplot(1, 2, 1)\n",
    "    plt.fill_between(qgr, point - 1.645*stderr, point + 1.645*stderr, alpha=.4)\n",
    "    plt.plot(qgr, point)\n",
    "    plt.xlabel(\"Income groups by quartiles\")\n",
    "    plt.ylabel(\"ATE\")\n",
    "\n",
    "    plt.subplot(1, 2, 2)\n",
    "    plt.fill_between(qgr, cibounds[:, 0], cibounds[:, 1], alpha=.4)\n",
    "    plt.fill_between(qgr, bounds[:, 0], bounds[:, 1], alpha=.4)\n",
    "    plt.plot(qgr, point)\n",
    "    plt.xlabel(\"Income groups by quartiles\")\n",
    "    plt.ylabel(\"ATE\")\n",
    "    plt.tight_layout()\n",
    "    plt.show()"
   ]
  },
  {
   "cell_type": "code",
   "execution_count": 42,
   "metadata": {},
   "outputs": [
    {
     "data": {
      "image/png": "[encoded data removed]",
      "text/plain": [
       "<Figure size 720x360 with 2 Axes>"
      ]
     },
     "metadata": {
      "needs_background": "light"
     },
     "output_type": "display_data"
    }
   ],
   "source": [
    "plot_by_income(4, 'rr', False)"
   ]
  },
  {
   "cell_type": "code",
   "execution_count": 43,
   "metadata": {},
   "outputs": [
    {
     "data": {
      "image/png": "[encoded data removed]",
      "text/plain": [
       "<Figure size 720x360 with 2 Axes>"
      ]
     },
     "metadata": {
      "needs_background": "light"
     },
     "output_type": "display_data"
    }
   ],
   "source": [
    "plot_by_income(4, 'dml', True)"
   ]
  },
  {
   "cell_type": "code",
   "execution_count": 44,
   "metadata": {},
   "outputs": [
    {
     "data": {
      "image/png": "[encoded data removed]",
      "text/plain": [
       "<Figure size 720x360 with 2 Axes>"
      ]
     },
     "metadata": {
      "needs_background": "light"
     },
     "output_type": "display_data"
    }
   ],
   "source": [
    "plot_by_income(4, 'dml_lasso', True)"
   ]
  },
  {
   "cell_type": "code",
   "execution_count": null,
   "metadata": {},
   "outputs": [],
   "source": []
  }
 ],
 "metadata": {
  "kernelspec": {
   "display_name": "Python 3 (ipykernel)",
   "language": "python",
   "name": "python3"
  },
  "language_info": {
   "codemirror_mode": {
    "name": "ipython",
    "version": 3
   },
   "file_extension": ".py",
   "mimetype": "text/x-python",
   "name": "python",
   "nbconvert_exporter": "python",
   "pygments_lexer": "ipython3",
   "version": "3.7.1"
  }
 },
 "nbformat": 4,
 "nbformat_minor": 4
}
