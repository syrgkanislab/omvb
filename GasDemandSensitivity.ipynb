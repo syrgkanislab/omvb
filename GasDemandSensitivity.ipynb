{
 "cells": [
  {
   "cell_type": "code",
   "execution_count": 1,
   "metadata": {},
   "outputs": [],
   "source": [
    "%load_ext autoreload\n",
    "%autoreload 2\n",
    "%matplotlib inline"
   ]
  },
  {
   "cell_type": "code",
   "execution_count": 2,
   "metadata": {},
   "outputs": [],
   "source": [
    "import numpy as np\n",
    "import matplotlib.pyplot as plt\n",
    "import scipy\n",
    "import scipy.special\n",
    "import joblib\n",
    "from statsmodels.api import OLS\n",
    "from sklearn.model_selection import StratifiedGroupKFold\n",
    "import pandas as pd\n",
    "import math\n",
    "from sklearn.base import clone\n",
    "from sklearn.compose import ColumnTransformer\n",
    "from sklearn.preprocessing import StandardScaler\n",
    "from sklearn.pipeline import Pipeline\n",
    "from sklearn.linear_model import LassoCV, LogisticRegressionCV, LinearRegression, Lasso, LogisticRegression"
   ]
  },
  {
   "cell_type": "code",
   "execution_count": 3,
   "metadata": {},
   "outputs": [],
   "source": [
    "from sensitivity import dml_sensitivity_bounds, dml_tvalue\n",
    "from sensitivity import sensitivity_bounds, tvalue, sensitivity_contours\n",
    "from debiased import DebiasedMoment\n",
    "from econml.dml import LinearDML"
   ]
  },
  {
   "cell_type": "code",
   "execution_count": 4,
   "metadata": {},
   "outputs": [],
   "source": [
    "from automl import reg_fn_gen, rr_fn_gen, model_y_fn_gen"
   ]
  },
  {
   "cell_type": "code",
   "execution_count": 5,
   "metadata": {},
   "outputs": [],
   "source": [
    "# The moment function, whose average we want to estimate: E[m(X; g)]\n",
    "def moment_fn(x, test_fn):\n",
    "    epsilon = 0.01\n",
    "    t1 = np.hstack([x[:, [0]] + epsilon, x[:, 1:]])\n",
    "    t0 = np.hstack([x[:, [0]] - epsilon, x[:, 1:]])\n",
    "    return (test_fn(t1) - test_fn(t0)) / (2*epsilon)"
   ]
  },
  {
   "cell_type": "code",
   "execution_count": 6,
   "metadata": {},
   "outputs": [],
   "source": [
    "# Data loading and manipulation\n",
    "\n",
    "# for semi-synthetic data generation\n",
    "def true_f(X):\n",
    "    y = (-.7 - .4 * scipy.special.expit(3 * (1 - 2*(X[:, 1] - 10.5)))) * X[:, 0]\n",
    "    y += scipy.special.expit(3 * (1 - 2 * (X[:, 1] > 11.5)))\n",
    "    return y\n",
    "\n",
    "# def true_f(X):\n",
    "#     y = -.7 * X[:, 0]\n",
    "#     y += scipy.special.expit(3 * (1 - 2 * (X[:, 1] > 11.5)))\n",
    "#     return y\n",
    "\n",
    "def get_data(q=None, synthetic=False, region=True, state=False, region_ids=None, random_seed=123):\n",
    "    df = pd.read_csv('./BHP2017/data_BHP2_with_region.csv')\n",
    "    # Throw away low prices and low income due to sample quality as in Chetverikov\n",
    "    df = df[df[\"log_p\"] > math.log(1.2)]\n",
    "    df = df[df[\"log_y\"] > math.log(15000)]\n",
    "    if not ((q==4) | (q==5)): # all data in first three brackets\n",
    "        df = df[df[\"log_y\"] >= math.log(42500) - .5]\n",
    "        df = df[df[\"log_y\"] <= math.log(72500) + .5]\n",
    "    if q == 1:\n",
    "        df = df[df[\"log_y\"] >= math.log(42500) - .5]\n",
    "        df = df[df[\"log_y\"] <= math.log(42500) + .5]\n",
    "    if q == 2:\n",
    "        df = df[df[\"log_y\"] >= math.log(57500) - .5]\n",
    "        df = df[df[\"log_y\"] <= math.log(57500) + .5]\n",
    "    if q == 3:\n",
    "        df = df[df[\"log_y\"] >= math.log(72500) - .5]\n",
    "        df = df[df[\"log_y\"] <= math.log(72500) + .5]\n",
    "    if q == 4:\n",
    "        df = df[df[\"log_y\"] >= 11.6]\n",
    "    if region_ids is not None: # Sub-select particular regions\n",
    "        df = df[np.any([df['region'] == r for r in region_ids], axis=0)]\n",
    "    Xdf = df.iloc[:, 1:] # Covariates\n",
    "    X_nostatedum = Xdf.drop([\"distance_oil1000\", \"share\"], axis=1).values \n",
    "    if state: # whether to control for state id; almost no price variation left\n",
    "        state_dum = pd.get_dummies(Xdf['state_fips'], prefix=\"state\", drop_first=True)\n",
    "        Xdf = pd.concat([Xdf, state_dum], axis = 1)\n",
    "    if region: # whether to control for regrion id\n",
    "        region_dum = pd.get_dummies(Xdf['region'], prefix=\"region\", drop_first=True)\n",
    "        Xdf = pd.concat([Xdf, region_dum], axis = 1)\n",
    "    # Drop instrument and things we've one-hot encoded and weird share variable\n",
    "    Xdf = Xdf.drop([\"distance_oil1000\", \"state_fips\", \"share\", 'region'], axis=1)\n",
    "    column_names = Xdf.columns\n",
    "    X = Xdf.values # to numpy array\n",
    "    y = df['log_q'].values # outcome to numpy array\n",
    "    if synthetic: # impute synthetic outcome based on known relationship\n",
    "        y = true_f(X) + np.random.normal(0, .2, size=X[:, 0].shape)\n",
    "        print(np.mean(moment_fn(X, true_f)))\n",
    "    \n",
    "    # Create state-block-wise and stratified by region folds for cross validation and cross fitting\n",
    "    cv = StratifiedGroupKFold(n_splits=5, shuffle=True, random_state=random_seed)\n",
    "    splits = list(cv.split(df, y=df['region'], groups=df['state_fips']))\n",
    "    return X, y, [0, 1, 6, 7, 8], splits, column_names"
   ]
  },
  {
   "cell_type": "code",
   "execution_count": 7,
   "metadata": {},
   "outputs": [],
   "source": [
    "# global result dictionaries and global parameters\n",
    "ests = {}\n",
    "res = {}\n",
    "res_d = {}\n",
    "q_grid = np.arange(1, 6)\n",
    "synthetic = False # use synthetic outcome\n",
    "verbose = 0\n",
    "region = True # control for region"
   ]
  },
  {
   "cell_type": "markdown",
   "metadata": {},
   "source": [
    "# Ablation study for riesz variance explained"
   ]
  },
  {
   "cell_type": "code",
   "execution_count": 8,
   "metadata": {},
   "outputs": [
    {
     "data": {
      "image/png": "[encoded data removed]",
      "text/plain": [
       "<Figure size 432x288 with 1 Axes>"
      ]
     },
     "metadata": {
      "needs_background": "light"
     },
     "output_type": "display_data"
    }
   ],
   "source": [
    "# log-income distribution\n",
    "X, y, num_cols, splits, column_names = get_data(5, region=region, random_seed=124)\n",
    "plt.hist(X[:, 1])\n",
    "plt.show()"
   ]
  },
  {
   "cell_type": "code",
   "execution_count": 9,
   "metadata": {},
   "outputs": [],
   "source": [
    "ablation_groups = [('log_y', [1]), ('urban', [2, 3, 4, 5]), ('log_driver', [6]),\n",
    "                   ('log_hhr_age', [7]), ('log_hhsize', [8]),\n",
    "                   ('popdensity', [9, 10, 11, 12, 13, 14, 15]),\n",
    "                   ('publictransit_d', [16]), ('total_wrkr', [17])]\n",
    "if region:\n",
    "    ablation_groups += [('region', [18, 19, 20, 21, 22, 23, 24, 25])]"
   ]
  },
  {
   "cell_type": "code",
   "execution_count": 10,
   "metadata": {},
   "outputs": [],
   "source": [
    "from ablation import ablation_multiseed, plr_ablation_multiseed\n",
    "get_data_fn = lambda seed: get_data(5, region=region, random_seed=seed)"
   ]
  },
  {
   "cell_type": "code",
   "execution_count": null,
   "metadata": {},
   "outputs": [],
   "source": [
    "plr_etasq, plr_Cy, plr_dtheta, plr_rho = plr_ablation_multiseed(ablation_groups, moment_fn,\n",
    "                                                                get_data_fn, model_y_fn_gen, model_y_fn_gen, verbose)"
   ]
  },
  {
   "cell_type": "code",
   "execution_count": 12,
   "metadata": {},
   "outputs": [
    {
     "name": "stdout",
     "output_type": "stream",
     "text": [
      "log_y etasq=0.0019 (0.0028), Cy=0.0676 (0.0094)\n",
      "urban etasq=-0.0029 (0.0026), Cy=0.0085 (0.0063)\n",
      "log_driver etasq=0.0011 (0.0006), Cy=0.0160 (0.0049)\n",
      "log_hhr_age etasq=0.0008 (0.0007), Cy=-0.0003 (0.0016)\n",
      "log_hhsize etasq=0.0004 (0.0004), Cy=-0.0006 (0.0013)\n",
      "popdensity etasq=0.0001 (0.0013), Cy=0.0049 (0.0042)\n",
      "publictransit_d etasq=-0.0171 (0.0181), Cy=-0.0026 (0.0027)\n",
      "total_wrkr etasq=-0.0002 (0.0003), Cy=0.0110 (0.0037)\n",
      "region etasq=0.4225 (0.1084), Cy=-0.0028 (0.0052)\n"
     ]
    }
   ],
   "source": [
    "for key, value in plr_etasq.items():\n",
    "    print(key, f'etasq={value[0]:.4f} ({value[1]:.4f}), Cy={plr_Cy[key][0]:.4f} ({plr_Cy[key][1]:.4f}), ',\n",
    "          f'dtheta={plr_dtheta[key][0]:.4f} ({plr_dtheta[key][1]:.4f}), ',\n",
    "          f'rho={plr_rho[key][0]:.4f} ({plr_rho[key][1]:.4f})')"
   ]
  },
  {
   "cell_type": "code",
   "execution_count": null,
   "metadata": {},
   "outputs": [],
   "source": [
    "np_etasq, np_Cy, np_dtheta, np_rho = ablation_multiseed(ablation_groups, moment_fn,\n",
    "                                                        get_data_fn, reg_fn_gen, rr_fn_gen, verbose)"
   ]
  },
  {
   "cell_type": "code",
   "execution_count": 14,
   "metadata": {},
   "outputs": [
    {
     "name": "stdout",
     "output_type": "stream",
     "text": [
      "log_y etasq=-0.0021 (0.0075), Cy=0.0690 (0.0096)\n",
      "urban etasq=-0.0030 (0.0028), Cy=0.0115 (0.0074)\n",
      "log_driver etasq=-0.0027 (0.0040), Cy=0.0169 (0.0051)\n",
      "log_hhr_age etasq=-0.0056 (0.0089), Cy=-0.0008 (0.0010)\n",
      "log_hhsize etasq=-0.0058 (0.0080), Cy=-0.0007 (0.0013)\n",
      "popdensity etasq=-0.0002 (0.0021), Cy=0.0038 (0.0044)\n",
      "publictransit_d etasq=-0.0113 (0.0501), Cy=-0.0020 (0.0022)\n",
      "total_wrkr etasq=-0.0026 (0.0036), Cy=0.0107 (0.0037)\n",
      "region etasq=0.5433 (0.1677), Cy=-0.0015 (0.0034)\n"
     ]
    }
   ],
   "source": [
    "for key, value in np_etasq.items():\n",
    "    print(key, f'etasq={value[0]:.4f} ({value[1]:.4f}), Cy={np_Cy[key][0]:.4f} ({np_Cy[key][1]:.4f}), ',\n",
    "          f'dtheta={np_dtheta[key][0]:.4f} ({np_dtheta[key][1]:.4f}), ',\n",
    "          f'rho={np_rho[key][0]:.4f} ({np_rho[key][1]:.4f})')"
   ]
  },
  {
   "cell_type": "markdown",
   "metadata": {},
   "source": [
    "# Main analysis"
   ]
  },
  {
   "cell_type": "code",
   "execution_count": 15,
   "metadata": {},
   "outputs": [],
   "source": [
    "# General pipeline for all types of estimators to generate the estimation result we want\n",
    "def generic_pipeline(estimator, q_grid, name, n_seeds=5):\n",
    "    ests = {}\n",
    "    res = {}\n",
    "    for q in q_grid:\n",
    "        print(f'q={q}')\n",
    "        ests[f'q={q}'] = []\n",
    "        estimate_list = []\n",
    "        for random_seed in np.arange(123, 123 + n_seeds):\n",
    "            X, y, num_cols, splits, column_names = get_data(q, region=region, synthetic=synthetic, random_seed=random_seed)\n",
    "            estimates, model = estimator(X, y, num_cols, splits)\n",
    "            print(estimates)\n",
    "            estimate_list.append(estimates)\n",
    "            ests[f'q={q}'].append(model)\n",
    "        estimate_list = np.array(estimate_list)\n",
    "        res[f'q={q}'] = {}\n",
    "        res[f'q={q}'][f'{name}'] = {}\n",
    "        res[f'q={q}'][f'{name}']['point'] = np.mean(estimate_list[:, 0])\n",
    "        if estimate_list.shape[1] > 2:\n",
    "            res[f'q={q}'][f'{name}']['stderr'] = np.sqrt(np.mean(estimate_list[:, 1]**2) \n",
    "                                                         + np.var(estimate_list[:, 0]))\n",
    "        res[f'q={q}'] = pd.DataFrame(res[f'q={q}']).transpose()\n",
    "    return pd.concat(res), ests"
   ]
  },
  {
   "cell_type": "code",
   "execution_count": 16,
   "metadata": {},
   "outputs": [],
   "source": [
    "# Transforming results to a nicely printable dataframe where each cell\n",
    "# contains point (stderr) [ci_lower, ci_upper]\n",
    "def transform_res_to_df(res, q_grid, alpha=None):\n",
    "    res_f = res.reset_index()\n",
    "    res_d = {}\n",
    "    for q in q_grid:\n",
    "        key = 'all <= 11.6' if q==0 else ('all' if q==5 else f'q={q}')\n",
    "        res_d[key] = {}\n",
    "        for method in np.unique(res_f['level_1'].values):\n",
    "            p = res.loc[(f'q={q}', method), 'point']\n",
    "            if alpha is not None:\n",
    "                s = res.loc[(f'q={q}', method), 'stderr']\n",
    "                error = scipy.stats.norm.ppf(1 - alpha) * s\n",
    "                l, u = p - error, p + error\n",
    "                res_d[key][method] = f\"{p:.2f} ({s:.2f}) [{l:.2f}, {u:.2f}]\"\n",
    "            else:\n",
    "                res_d[key][method] = f\"{p:.2f}\"\n",
    "        \n",
    "    return pd.DataFrame(res_d)"
   ]
  },
  {
   "cell_type": "code",
   "execution_count": 17,
   "metadata": {},
   "outputs": [],
   "source": [
    "if synthetic:\n",
    "    def oracle_estimator(X, y, num_cols, splits):\n",
    "        return (np.mean(moment_fn(X, true_f)),), None\n",
    "    res['true'], _ = generic_pipeline(oracle_estimator, q_grid, 'true', n_seeds=1)\n",
    "    res_d['true'] = transform_res_to_df(res['true'], q_grid)\n",
    "    display(res_d['true'])"
   ]
  },
  {
   "cell_type": "markdown",
   "metadata": {},
   "source": [
    "# Non-Linear RR Analysis"
   ]
  },
  {
   "cell_type": "code",
   "execution_count": 18,
   "metadata": {},
   "outputs": [],
   "source": [
    "# fully non-parametric average derivative estimation\n",
    "def nonlinrr(X, y, num_cols, splits):\n",
    "    get_reisz_fn = rr_fn_gen(moment_fn, num_cols, cv=splits, verbose=verbose)\n",
    "    get_reg_fn = reg_fn_gen(num_cols, cv=splits, verbose=verbose)\n",
    "    est = DebiasedMoment(moment_fn=moment_fn,\n",
    "                         get_reisz_fn=get_reisz_fn,\n",
    "                         get_reg_fn=get_reg_fn,\n",
    "                         n_splits=splits)\n",
    "    est.fit(X, y)\n",
    "    return est.avg_moment(alpha=.1), est"
   ]
  },
  {
   "cell_type": "code",
   "execution_count": 19,
   "metadata": {},
   "outputs": [
    {
     "name": "stdout",
     "output_type": "stream",
     "text": [
      "q=1\n",
      "(-0.39335949163272055, 0.4515370276947403, -1.1364959827693282, 0.3497769995038871)\n",
      "(-0.6996071161492304, 0.3161997723006776, -1.2200064962075516, -0.17920773609090923)\n",
      "(-0.8973634244235447, 0.35351211159018286, -1.4791711922662825, -0.31555565658080675)\n",
      "(-0.6484359805809444, 0.4108239854422913, -1.324567230713407, 0.02769526955151813)\n",
      "(-0.5549776067735978, 0.340918144551573, -1.1160583114951916, 0.006103097947996128)\n",
      "q=2\n",
      "(-0.5553723833214458, 0.24511138033338253, -0.958712885528267, -0.15203188111462462)\n",
      "(-0.11890612688468216, 0.5299468880743615, -0.9909547591763743, 0.75314250540701)\n",
      "(-0.3509079404746248, 0.37456126983677235, -0.9672633723509673, 0.26544749140171764)\n",
      "(-0.8862226036643418, 0.27991653092308616, -1.346836362213407, -0.4256088451152766)\n",
      "(-0.8600109261386052, 0.8080443301493352, -2.189679934099471, 0.46965808182226076)\n",
      "q=3\n",
      "(-1.0084078031360129, 0.39241971646569507, -1.6541980041922453, -0.36261760207978044)\n",
      "(-0.7539988920353997, 0.3058224943587671, -1.2572793385384788, -0.2507184455323206)\n",
      "(-0.5537673568274519, 0.3339082641370775, -1.103267486366105, -0.004267227288799025)\n",
      "(-0.6527469251176858, 0.33330297492170763, -1.2012509532177784, -0.10424289701759326)\n",
      "(-1.065018240888665, 0.3053895753329347, -1.567586249017721, -0.5624502327596089)\n",
      "q=4\n",
      "(-0.8931715868985861, 0.4906726259678828, -1.701144134685302, -0.08519903911187021)\n",
      "(-1.193259795017324, 0.48006988142161844, -1.9837731937274463, -0.40274639630720177)\n",
      "(-1.1326355452533523, 0.5390794545921861, -2.0203178355118507, -0.24495325499485376)\n",
      "(-1.81013996419521, 0.497199179350366, -2.6288595471447476, -0.9914203812456723)\n",
      "(-2.160193455657656, 0.5024740609964019, -2.987598992005173, -1.3327879193101393)\n",
      "q=5\n",
      "(-1.1082706753250136, 0.2660621253069514, -1.5460209621466776, -0.6705203885033495)\n",
      "(-0.9826425744204761, 0.24213885822379674, -1.3810320652803685, -0.5842530835605837)\n",
      "(-0.5938806746030635, 0.2727088751605976, -1.04256681579148, -0.14519453341464694)\n",
      "(-0.4286402627664895, 0.253759010545995, -0.8461483147747799, -0.01113221075819898)\n",
      "(-0.693754357844849, 0.25728850552749893, -1.1170694650238313, -0.27043925066586666)\n"
     ]
    }
   ],
   "source": [
    "res['rr'], ests['rr'] = generic_pipeline(nonlinrr, q_grid, 'dr')"
   ]
  },
  {
   "cell_type": "code",
   "execution_count": 20,
   "metadata": {},
   "outputs": [
    {
     "data": {
      "text/html": [
       "<div>\n",
       "<style scoped>\n",
       "    .dataframe tbody tr th:only-of-type {\n",
       "        vertical-align: middle;\n",
       "    }\n",
       "\n",
       "    .dataframe tbody tr th {\n",
       "        vertical-align: top;\n",
       "    }\n",
       "\n",
       "    .dataframe thead th {\n",
       "        text-align: right;\n",
       "    }\n",
       "</style>\n",
       "<table border=\"1\" class=\"dataframe\">\n",
       "  <thead>\n",
       "    <tr style=\"text-align: right;\">\n",
       "      <th></th>\n",
       "      <th>q=1</th>\n",
       "      <th>q=2</th>\n",
       "      <th>q=3</th>\n",
       "      <th>q=4</th>\n",
       "      <th>all</th>\n",
       "    </tr>\n",
       "  </thead>\n",
       "  <tbody>\n",
       "    <tr>\n",
       "      <th>dr</th>\n",
       "      <td>-0.64 (0.41) [-1.32, 0.04]</td>\n",
       "      <td>-0.55 (0.57) [-1.50, 0.39]</td>\n",
       "      <td>-0.81 (0.39) [-1.45, -0.16]</td>\n",
       "      <td>-1.44 (0.69) [-2.57, -0.31]</td>\n",
       "      <td>-0.76 (0.36) [-1.35, -0.17]</td>\n",
       "    </tr>\n",
       "  </tbody>\n",
       "</table>\n",
       "</div>"
      ],
      "text/plain": [
       "                           q=1                         q=2  \\\n",
       "dr  -0.64 (0.41) [-1.32, 0.04]  -0.55 (0.57) [-1.50, 0.39]   \n",
       "\n",
       "                            q=3                          q=4  \\\n",
       "dr  -0.81 (0.39) [-1.45, -0.16]  -1.44 (0.69) [-2.57, -0.31]   \n",
       "\n",
       "                            all  \n",
       "dr  -0.76 (0.36) [-1.35, -0.17]  "
      ]
     },
     "execution_count": 20,
     "metadata": {},
     "output_type": "execute_result"
    }
   ],
   "source": [
    "res_d['rr'] = transform_res_to_df(res['rr'], q_grid, alpha=0.05)\n",
    "res_d['rr']"
   ]
  },
  {
   "cell_type": "markdown",
   "metadata": {},
   "source": [
    "### Sensitivity Analysis Example"
   ]
  },
  {
   "cell_type": "code",
   "execution_count": 21,
   "metadata": {},
   "outputs": [],
   "source": [
    "q = 5\n",
    "est = ests['rr'][f'q={q}'][0] # look at one of the cv split seeds\n",
    "X, y, num_cols, splits, column_names = get_data(q)"
   ]
  },
  {
   "cell_type": "code",
   "execution_count": 22,
   "metadata": {},
   "outputs": [
    {
     "name": "stdout",
     "output_type": "stream",
     "text": [
      "-1.11, (0.27) [-1.55, -0.67]\n"
     ]
    }
   ],
   "source": [
    "p, s, l, u = est.avg_moment(alpha=.1)\n",
    "print(f'{p:.2f}, ({s:.2f}) [{l:.2f}, {u:.2f}]')"
   ]
  },
  {
   "cell_type": "code",
   "execution_count": 23,
   "metadata": {},
   "outputs": [
    {
     "name": "stdout",
     "output_type": "stream",
     "text": [
      "[-1.53, -0.68]\n"
     ]
    }
   ],
   "source": [
    "l, u = sensitivity_bounds([est], .03, .03, alpha=None)\n",
    "print(f'[{l:.2f}, {u:.2f}]')"
   ]
  },
  {
   "cell_type": "code",
   "execution_count": 24,
   "metadata": {},
   "outputs": [
    {
     "name": "stdout",
     "output_type": "stream",
     "text": [
      "[-1.97, -0.25]\n"
     ]
    }
   ],
   "source": [
    "l, u = sensitivity_bounds([est], .03, .03, alpha=.05)\n",
    "print(f'[{l:.2f}, {u:.2f}]')"
   ]
  },
  {
   "cell_type": "code",
   "execution_count": 25,
   "metadata": {},
   "outputs": [
    {
     "name": "stdout",
     "output_type": "stream",
     "text": [
      "0.077\n"
     ]
    }
   ],
   "source": [
    "print(f'{tvalue([est], value=0, leq=False, alpha=None):.3f}')"
   ]
  },
  {
   "cell_type": "code",
   "execution_count": 26,
   "metadata": {},
   "outputs": [
    {
     "name": "stdout",
     "output_type": "stream",
     "text": [
      "0.047\n"
     ]
    }
   ],
   "source": [
    "print(f'{tvalue([est], value=0, leq=False, alpha=.05):.3f}')"
   ]
  },
  {
   "cell_type": "code",
   "execution_count": 27,
   "metadata": {},
   "outputs": [],
   "source": [
    "eta_asq, eta_ysq, lower, upper = sensitivity_contours([est], 0.15, 0.15, alpha=0.05)"
   ]
  },
  {
   "cell_type": "code",
   "execution_count": 28,
   "metadata": {},
   "outputs": [
    {
     "data": {
      "image/png": "[encoded data removed]",
      "text/plain": [
       "<Figure size 1080x360 with 2 Axes>"
      ]
     },
     "metadata": {
      "needs_background": "light"
     },
     "output_type": "display_data"
    }
   ],
   "source": [
    "plt.figure(figsize=(15, 5))\n",
    "plt.subplot(1, 2, 1)\n",
    "contours = plt.contour(eta_asq, eta_ysq, lower, 6, linestyles='-', colors='blue')\n",
    "plt.clabel(contours, inline=True, fontsize=8)\n",
    "plt.title('Lower limit')\n",
    "plt.xlabel('Nonparametric partial R2 of confounder(s) with the treatment')\n",
    "plt.ylabel('Nonparametric partial R2 of confounder(s) with the outcome')\n",
    "\n",
    "plt.subplot(1, 2, 2)\n",
    "contours = plt.contour(eta_asq, eta_ysq, upper, 6, linestyles='-', colors='blue')\n",
    "plt.clabel(contours, inline=True, fontsize=8)\n",
    "plt.title('Upper limit')\n",
    "plt.xlabel('Nonparametric partial R2 of confounder(s) with the treatment')\n",
    "plt.ylabel('Nonparametric partial R2 of confounder(s) with the outcome')\n",
    "\n",
    "plt.show()"
   ]
  },
  {
   "cell_type": "markdown",
   "metadata": {},
   "source": [
    "### Diagnostics examples"
   ]
  },
  {
   "cell_type": "code",
   "execution_count": 29,
   "metadata": {},
   "outputs": [
    {
     "data": {
      "image/png": "[encoded data removed]",
      "text/plain": [
       "<Figure size 720x360 with 2 Axes>"
      ]
     },
     "metadata": {
      "needs_background": "light"
     },
     "output_type": "display_data"
    }
   ],
   "source": [
    "plt.figure(figsize=(10, 5))\n",
    "plt.subplot(1, 2, 1)\n",
    "plt.scatter(X[:, 0], est.reg_pred_)\n",
    "plt.subplot(1, 2, 2)\n",
    "plt.scatter(X[:, 0], est.reisz_pred_)\n",
    "plt.show()"
   ]
  },
  {
   "cell_type": "markdown",
   "metadata": {},
   "source": [
    "# OLS analysis"
   ]
  },
  {
   "cell_type": "code",
   "execution_count": 30,
   "metadata": {},
   "outputs": [],
   "source": [
    "# fully linear OLS-based average derivative estimation\n",
    "def ols_estimator(X, y, num_cols, splits):\n",
    "    est = OLS(y, np.hstack([np.ones((X.shape[0], 1)), X])).fit(cov_type='HC3')\n",
    "    return (est.params[1], est.bse[1], *est.conf_int(alpha=.1)[1]), est"
   ]
  },
  {
   "cell_type": "code",
   "execution_count": 31,
   "metadata": {},
   "outputs": [
    {
     "name": "stdout",
     "output_type": "stream",
     "text": [
      "q=1\n",
      "(-0.4238896667189258, 0.5347189961526235, -1.303424146940419, 0.45564481350256736)\n",
      "q=2\n",
      "(-0.571997959151515, 0.4366961545825266, -1.2902992128923447, 0.14630329458931468)\n",
      "q=3\n",
      "(-0.5907429522075469, 0.47775522819372324, -1.3765803720970209, 0.19509446768192695)\n",
      "q=4\n",
      "(-1.5415722036035109, 0.739758259711174, -2.7583662601567447, -0.3247781470502771)\n",
      "q=5\n",
      "(-0.6188991175589147, 0.3619256648493131, -1.2142138600731303, -0.023584375044699124)\n"
     ]
    }
   ],
   "source": [
    "res['ols'], ests['ols'] = generic_pipeline(ols_estimator, q_grid, 'ols', n_seeds=1)"
   ]
  },
  {
   "cell_type": "code",
   "execution_count": 32,
   "metadata": {},
   "outputs": [
    {
     "data": {
      "text/html": [
       "<div>\n",
       "<style scoped>\n",
       "    .dataframe tbody tr th:only-of-type {\n",
       "        vertical-align: middle;\n",
       "    }\n",
       "\n",
       "    .dataframe tbody tr th {\n",
       "        vertical-align: top;\n",
       "    }\n",
       "\n",
       "    .dataframe thead th {\n",
       "        text-align: right;\n",
       "    }\n",
       "</style>\n",
       "<table border=\"1\" class=\"dataframe\">\n",
       "  <thead>\n",
       "    <tr style=\"text-align: right;\">\n",
       "      <th></th>\n",
       "      <th>q=1</th>\n",
       "      <th>q=2</th>\n",
       "      <th>q=3</th>\n",
       "      <th>q=4</th>\n",
       "      <th>all</th>\n",
       "    </tr>\n",
       "  </thead>\n",
       "  <tbody>\n",
       "    <tr>\n",
       "      <th>ols</th>\n",
       "      <td>-0.42 (0.53) [-1.30, 0.46]</td>\n",
       "      <td>-0.57 (0.44) [-1.29, 0.15]</td>\n",
       "      <td>-0.59 (0.48) [-1.38, 0.20]</td>\n",
       "      <td>-1.54 (0.74) [-2.76, -0.32]</td>\n",
       "      <td>-0.62 (0.36) [-1.21, -0.02]</td>\n",
       "    </tr>\n",
       "  </tbody>\n",
       "</table>\n",
       "</div>"
      ],
      "text/plain": [
       "                            q=1                         q=2  \\\n",
       "ols  -0.42 (0.53) [-1.30, 0.46]  -0.57 (0.44) [-1.29, 0.15]   \n",
       "\n",
       "                            q=3                          q=4  \\\n",
       "ols  -0.59 (0.48) [-1.38, 0.20]  -1.54 (0.74) [-2.76, -0.32]   \n",
       "\n",
       "                             all  \n",
       "ols  -0.62 (0.36) [-1.21, -0.02]  "
      ]
     },
     "execution_count": 32,
     "metadata": {},
     "output_type": "execute_result"
    }
   ],
   "source": [
    "res_d['ols'] = transform_res_to_df(res['ols'], q_grid, alpha=0.05)\n",
    "res_d['ols']"
   ]
  },
  {
   "cell_type": "markdown",
   "metadata": {},
   "source": [
    "# Lasso Analysis"
   ]
  },
  {
   "cell_type": "code",
   "execution_count": 33,
   "metadata": {},
   "outputs": [],
   "source": [
    "# fully linear Lasso-based average derivative estimation\n",
    "def lasso_estimator(X, y, num_cols, splits):\n",
    "    num_cols = [t - 1 for t in num_cols[1:]]\n",
    "\n",
    "    est = Pipeline([('scale', ColumnTransformer([('num', StandardScaler(), num_cols)], remainder='passthrough')),\n",
    "                    ('lasso', LassoCV(cv=splits))])\n",
    "    est.fit(X, y)\n",
    "    p = np.mean(est.predict(np.hstack([np.ones((X.shape[0], 1)), X[:, 1:]])) \n",
    "            - est.predict(np.hstack([np.zeros((X.shape[0], 1)), X[:, 1:]])))\n",
    "    return (p,), est"
   ]
  },
  {
   "cell_type": "code",
   "execution_count": 34,
   "metadata": {},
   "outputs": [
    {
     "name": "stdout",
     "output_type": "stream",
     "text": [
      "q=1\n",
      "(-0.850194840897473,)\n",
      "(-0.8656561453025441,)\n",
      "(-0.8656561453025441,)\n",
      "(-0.8447892287343629,)\n",
      "(-0.8656561453025441,)\n",
      "q=2\n",
      "(-0.5518674868195881,)\n",
      "(-0.5592422725556091,)\n",
      "(-0.5532939644598079,)\n",
      "(-0.5572551471675227,)\n",
      "(-0.5603815202912215,)\n",
      "q=3\n",
      "(-0.5412302445377849,)\n",
      "(-0.5123310354374929,)\n",
      "(-0.5817794147332956,)\n",
      "(-0.5412302445377849,)\n",
      "(-0.5560417870542349,)\n",
      "q=4\n",
      "(-0.8292944822023104,)\n",
      "(0.0,)\n",
      "(-0.8292944822023104,)\n",
      "(0.0,)\n",
      "(-1.0744311330403784,)\n",
      "q=5\n",
      "(-0.574722943895406,)\n",
      "(-0.4415625139347162,)\n",
      "(-0.6160404418962586,)\n",
      "(-0.41770271064868103,)\n",
      "(-0.4512188550986626,)\n"
     ]
    }
   ],
   "source": [
    "res['lasso'], ests['lasso'] = generic_pipeline(lasso_estimator, q_grid, 'lasso')"
   ]
  },
  {
   "cell_type": "code",
   "execution_count": 35,
   "metadata": {},
   "outputs": [
    {
     "data": {
      "text/html": [
       "<div>\n",
       "<style scoped>\n",
       "    .dataframe tbody tr th:only-of-type {\n",
       "        vertical-align: middle;\n",
       "    }\n",
       "\n",
       "    .dataframe tbody tr th {\n",
       "        vertical-align: top;\n",
       "    }\n",
       "\n",
       "    .dataframe thead th {\n",
       "        text-align: right;\n",
       "    }\n",
       "</style>\n",
       "<table border=\"1\" class=\"dataframe\">\n",
       "  <thead>\n",
       "    <tr style=\"text-align: right;\">\n",
       "      <th></th>\n",
       "      <th>q=1</th>\n",
       "      <th>q=2</th>\n",
       "      <th>q=3</th>\n",
       "      <th>q=4</th>\n",
       "      <th>all</th>\n",
       "    </tr>\n",
       "  </thead>\n",
       "  <tbody>\n",
       "    <tr>\n",
       "      <th>lasso</th>\n",
       "      <td>-0.86</td>\n",
       "      <td>-0.56</td>\n",
       "      <td>-0.55</td>\n",
       "      <td>-0.55</td>\n",
       "      <td>-0.50</td>\n",
       "    </tr>\n",
       "  </tbody>\n",
       "</table>\n",
       "</div>"
      ],
      "text/plain": [
       "         q=1    q=2    q=3    q=4    all\n",
       "lasso  -0.86  -0.56  -0.55  -0.55  -0.50"
      ]
     },
     "execution_count": 35,
     "metadata": {},
     "output_type": "execute_result"
    }
   ],
   "source": [
    "res_d['lasso'] = transform_res_to_df(res['lasso'], q_grid)\n",
    "res_d['lasso']"
   ]
  },
  {
   "cell_type": "markdown",
   "metadata": {},
   "source": [
    "# DML Analysis"
   ]
  },
  {
   "cell_type": "code",
   "execution_count": 36,
   "metadata": {},
   "outputs": [],
   "source": [
    "# fully linear debiased Lasso-based average derivative estimation, with doubleML\n",
    "def dml_lasso_estimator(X, y, num_cols, splits):\n",
    "    num_cols = [t - 1 for t in num_cols[1:]]\n",
    "\n",
    "    model_reg = Pipeline([('scale', ColumnTransformer([('num', StandardScaler(), num_cols)], remainder='passthrough')),\n",
    "                          ('lasso', LassoCV(cv=splits))])\n",
    "    model_y = clone(model_reg).fit(X[:, 1:], y)\n",
    "    model_y = Pipeline([('scale', ColumnTransformer([('num', StandardScaler(), num_cols)], remainder='passthrough')),\n",
    "                        ('lasso', Lasso(alpha=model_y.named_steps['lasso'].alpha_))])\n",
    "    model_t = clone(model_reg).fit(X[:, 1:], X[:, 0])\n",
    "    model_t = Pipeline([('scale', ColumnTransformer([('num', StandardScaler(), num_cols)], remainder='passthrough')),\n",
    "                        ('lasso', Lasso(alpha=model_t.named_steps['lasso'].alpha_))])\n",
    "    est = LinearDML(model_y=model_y,\n",
    "                    model_t=model_t,\n",
    "                    linear_first_stages=False,\n",
    "                    cv=splits, random_state=123)\n",
    "    est.fit(y, X[:, 0], W=X[:, 1:], cache_values=True)\n",
    "    p = est.intercept__inference().point_estimate\n",
    "    s = est.intercept__inference().stderr\n",
    "    l, u = est.intercept__inference().conf_int(alpha=.1)\n",
    "    return (p, s, l, u), est"
   ]
  },
  {
   "cell_type": "code",
   "execution_count": 37,
   "metadata": {},
   "outputs": [
    {
     "name": "stdout",
     "output_type": "stream",
     "text": [
      "q=1\n",
      "(-0.7083909447839296, 0.37647699829485465, -1.3276405008930248, -0.08914138867483468)\n",
      "(-0.5112399077455708, 0.38167599044251627, -1.1390410449452393, 0.11656122945409753)\n",
      "(-0.608095009796004, 0.39399258366011397, -1.256155140021324, 0.03996512042931588)\n",
      "(-0.5748227554900788, 0.3581742172776422, -1.1639669158597135, 0.014321404879555688)\n",
      "(-0.33651833932765396, 0.3738984515318007, -0.9515265634412758, 0.2784898847859676)\n",
      "q=2\n",
      "(-0.7806731790607957, 0.30566235905252054, -1.2834430189708774, -0.2779033391507141)\n",
      "(-0.5034273917619266, 0.31639395062948944, -1.0238491290003475, 0.016994345476494144)\n",
      "(-0.5213064320980262, 0.33363716004347255, -1.0700907248813212, 0.027477860685268474)\n",
      "(-0.8656674673200735, 0.30437959800174436, -1.366327353063274, -0.3650075815768732)\n",
      "(-0.5396644801356254, 0.2665474732566022, -0.9780960582764983, -0.10123290199475271)\n",
      "q=3\n",
      "(-0.6815066579694237, 0.28957088705142325, -1.1578083817955125, -0.20520493414333502)\n",
      "(-0.5624627749571044, 0.3349193675208561, -1.1133561113600778, -0.011569438554131173)\n",
      "(-0.6417940765631069, 0.33518028654237436, -1.1931165865649653, -0.09047156656124877)\n",
      "(-0.6516927151167293, 0.3604784619731401, -1.2446270207311374, -0.058758409502321474)\n",
      "(-1.1696842786291493, 0.30788100953756775, -1.6761034738364986, -0.6632650834218001)\n",
      "q=4\n",
      "(-1.8634864303122805, 0.49222353916542905, -2.6731221039794266, -1.0538507566451345)\n",
      "(-1.514442908575914, 0.49531947934115084, -2.329170950669921, -0.6997148664819072)\n",
      "(-1.415457982927776, 0.5005882027925602, -2.238852303900238, -0.5920636619553142)\n",
      "(-1.9321737608427243, 0.5103885393901494, -2.771688201013076, -1.0926593206723727)\n",
      "(-2.08860218257212, 0.47162367163392077, -2.864354089415345, -1.3128502757288953)\n",
      "q=5\n",
      "(-0.8855370218076484, 0.24046998366733868, -1.2810749466158318, -0.48999909699946503)\n",
      "(-0.9791962340569601, 0.2558387847662303, -1.4000135870945511, -0.5583788810193692)\n",
      "(-0.6830309328203569, 0.2603063646272302, -1.1111968007960091, -0.25486506484470484)\n",
      "(-0.7534497014886664, 0.2598051381018533, -1.180791125196128, -0.3261082777812049)\n",
      "(-0.7845531515050704, 0.21715464261277048, -1.1417407530160368, -0.4273655499941042)\n"
     ]
    }
   ],
   "source": [
    "res['dml_lasso'], ests['dml_lasso'] = generic_pipeline(dml_lasso_estimator, q_grid, 'dml_lasso')"
   ]
  },
  {
   "cell_type": "code",
   "execution_count": 38,
   "metadata": {},
   "outputs": [
    {
     "data": {
      "text/html": [
       "<div>\n",
       "<style scoped>\n",
       "    .dataframe tbody tr th:only-of-type {\n",
       "        vertical-align: middle;\n",
       "    }\n",
       "\n",
       "    .dataframe tbody tr th {\n",
       "        vertical-align: top;\n",
       "    }\n",
       "\n",
       "    .dataframe thead th {\n",
       "        text-align: right;\n",
       "    }\n",
       "</style>\n",
       "<table border=\"1\" class=\"dataframe\">\n",
       "  <thead>\n",
       "    <tr style=\"text-align: right;\">\n",
       "      <th></th>\n",
       "      <th>q=1</th>\n",
       "      <th>q=2</th>\n",
       "      <th>q=3</th>\n",
       "      <th>q=4</th>\n",
       "      <th>all</th>\n",
       "    </tr>\n",
       "  </thead>\n",
       "  <tbody>\n",
       "    <tr>\n",
       "      <th>dml_lasso</th>\n",
       "      <td>-0.55 (0.40) [-1.20, 0.10]</td>\n",
       "      <td>-0.64 (0.34) [-1.20, -0.08]</td>\n",
       "      <td>-0.74 (0.39) [-1.39, -0.10]</td>\n",
       "      <td>-1.76 (0.56) [-2.68, -0.85]</td>\n",
       "      <td>-0.82 (0.27) [-1.26, -0.38]</td>\n",
       "    </tr>\n",
       "  </tbody>\n",
       "</table>\n",
       "</div>"
      ],
      "text/plain": [
       "                                  q=1                          q=2  \\\n",
       "dml_lasso  -0.55 (0.40) [-1.20, 0.10]  -0.64 (0.34) [-1.20, -0.08]   \n",
       "\n",
       "                                   q=3                          q=4  \\\n",
       "dml_lasso  -0.74 (0.39) [-1.39, -0.10]  -1.76 (0.56) [-2.68, -0.85]   \n",
       "\n",
       "                                   all  \n",
       "dml_lasso  -0.82 (0.27) [-1.26, -0.38]  "
      ]
     },
     "execution_count": 38,
     "metadata": {},
     "output_type": "execute_result"
    }
   ],
   "source": [
    "res_d['dml_lasso'] = transform_res_to_df(res['dml_lasso'], q_grid, alpha=.05)\n",
    "res_d['dml_lasso']"
   ]
  },
  {
   "cell_type": "markdown",
   "metadata": {},
   "source": [
    "# DML with Non-Linear Residualizers"
   ]
  },
  {
   "cell_type": "code",
   "execution_count": 39,
   "metadata": {},
   "outputs": [],
   "source": [
    "# partially linear average derivative estimation, with doubleML\n",
    "def dml_estimator(X, y, num_cols, splits):\n",
    "    num_cols = [t - 1 for t in num_cols[1:]]\n",
    "\n",
    "    model_y = reg_fn_gen(num_cols, cv=splits, verbose=verbose)(X[:, 1:], y)\n",
    "    model_t = reg_fn_gen(num_cols, cv=splits, verbose=verbose)(X[:, 1:], X[:, 0])\n",
    "    est = LinearDML(model_y=model_y(),\n",
    "                    model_t=model_t(),\n",
    "                    linear_first_stages=False,\n",
    "                    cv=splits, random_state=123)\n",
    "    est.fit(y, X[:, 0], W=X[:, 1:], cache_values=True)\n",
    "    p = est.intercept__inference().point_estimate\n",
    "    s = est.intercept__inference().stderr\n",
    "    l, u = est.intercept__inference().conf_int(alpha=.1)\n",
    "    return (p, s, l, u), est"
   ]
  },
  {
   "cell_type": "code",
   "execution_count": 40,
   "metadata": {},
   "outputs": [
    {
     "name": "stdout",
     "output_type": "stream",
     "text": [
      "q=1\n",
      "(-0.453154175710313, 0.37934319909583825, -1.0771182126024772, 0.17080986118185093)\n",
      "(-0.26643055979664715, 0.3805224563645251, -0.8923343022843198, 0.3594731826910253)\n",
      "(-0.6354917224203085, 0.38959678531893993, -1.2763214078008012, 0.005337962960183962)\n",
      "(-0.5865784879943672, 0.3513257023014943, -1.1644578436662534, -0.008699132322481096)\n",
      "(-0.369277290213017, 0.37317720696858164, -0.9830991725909088, 0.24454459216487473)\n",
      "q=2\n",
      "(-0.7214254600778969, 0.30469726049673423, -1.2226078541281278, -0.22024306602766608)\n",
      "(-0.4935286023354814, 0.30461193299741574, -0.9945706451389797, 0.007513440468016663)\n",
      "(-0.534076915821805, 0.33367866961449705, -1.0829294857735527, 0.014775654129942417)\n",
      "(-0.8695806586470195, 0.30378148748513895, -1.3692567401376636, -0.3699045771563754)\n",
      "(-0.5367052009611407, 0.2609352638041786, -0.9659055160289832, -0.10750488589329837)\n",
      "q=3\n",
      "(-0.6942226179479276, 0.2895695347721184, -1.1705221174724971, -0.21792311842335826)\n",
      "(-0.5585727076909797, 0.3453168683947733, -1.1265684111176468, 0.00942299573568739)\n",
      "(-0.6456994846717247, 0.3350391054811243, -1.196789772492929, -0.0946091968505205)\n",
      "(-0.7379989595734542, 0.360328567235176, -1.330686710284461, -0.14531120886244753)\n",
      "(-1.1185554380998906, 0.3037314435417533, -1.61814920462875, -0.6189616715710313)\n",
      "q=4\n",
      "(-1.568022484632996, 0.47603579743089625, -2.3510316925959422, -0.7850132766700499)\n",
      "(-1.8039816780602749, 0.4925432774001593, -2.614143274322492, -0.9938200817980578)\n",
      "(-1.6065968850351513, 0.4931390989937302, -2.41773852060657, -0.795455249463733)\n",
      "(-1.9285877813380004, 0.5078408946858806, -2.763911718876352, -1.0932638437996491)\n",
      "(-2.0459829963044784, 0.46558714345496394, -2.8118056978783517, -1.2801602947306057)\n",
      "q=5\n",
      "(-0.7541797675225941, 0.24213022373515183, -1.1524485442279302, -0.35591099081725813)\n",
      "(-0.5875023912286628, 0.2595719013992571, -1.014460174699921, -0.16054460775740476)\n"
     ]
    },
    {
     "name": "stderr",
     "output_type": "stream",
     "text": [
      "Objective did not converge. You might want to increase the number of iterations, check the scale of the features or consider increasing regularisation. Duality gap: 1.302e+02, tolerance: 1.368e-01\n"
     ]
    },
    {
     "name": "stdout",
     "output_type": "stream",
     "text": [
      "(-0.7916917247589723, 0.25941879800130846, -1.2183976755508161, -0.3649857739671288)\n",
      "(-0.6871233091880075, 0.2597086098731407, -1.114305958088368, -0.25994066028764706)\n",
      "(-0.6832064990234141, 0.21415509935867147, -1.0354602909336779, -0.33095270711315045)\n"
     ]
    }
   ],
   "source": [
    "res['dml'], ests['dml'] = generic_pipeline(dml_estimator, q_grid, 'dml')"
   ]
  },
  {
   "cell_type": "code",
   "execution_count": 41,
   "metadata": {},
   "outputs": [
    {
     "data": {
      "text/html": [
       "<div>\n",
       "<style scoped>\n",
       "    .dataframe tbody tr th:only-of-type {\n",
       "        vertical-align: middle;\n",
       "    }\n",
       "\n",
       "    .dataframe tbody tr th {\n",
       "        vertical-align: top;\n",
       "    }\n",
       "\n",
       "    .dataframe thead th {\n",
       "        text-align: right;\n",
       "    }\n",
       "</style>\n",
       "<table border=\"1\" class=\"dataframe\">\n",
       "  <thead>\n",
       "    <tr style=\"text-align: right;\">\n",
       "      <th></th>\n",
       "      <th>q=1</th>\n",
       "      <th>q=2</th>\n",
       "      <th>q=3</th>\n",
       "      <th>q=4</th>\n",
       "      <th>all</th>\n",
       "    </tr>\n",
       "  </thead>\n",
       "  <tbody>\n",
       "    <tr>\n",
       "      <th>dml</th>\n",
       "      <td>-0.46 (0.40) [-1.12, 0.19]</td>\n",
       "      <td>-0.63 (0.33) [-1.18, -0.08]</td>\n",
       "      <td>-0.75 (0.38) [-1.38, -0.13]</td>\n",
       "      <td>-1.79 (0.52) [-2.65, -0.93]</td>\n",
       "      <td>-0.70 (0.26) [-1.12, -0.28]</td>\n",
       "    </tr>\n",
       "  </tbody>\n",
       "</table>\n",
       "</div>"
      ],
      "text/plain": [
       "                            q=1                          q=2  \\\n",
       "dml  -0.46 (0.40) [-1.12, 0.19]  -0.63 (0.33) [-1.18, -0.08]   \n",
       "\n",
       "                             q=3                          q=4  \\\n",
       "dml  -0.75 (0.38) [-1.38, -0.13]  -1.79 (0.52) [-2.65, -0.93]   \n",
       "\n",
       "                             all  \n",
       "dml  -0.70 (0.26) [-1.12, -0.28]  "
      ]
     },
     "execution_count": 41,
     "metadata": {},
     "output_type": "execute_result"
    }
   ],
   "source": [
    "res_d['dml'] = transform_res_to_df(res['dml'], q_grid, alpha=.05)\n",
    "res_d['dml']"
   ]
  },
  {
   "cell_type": "markdown",
   "metadata": {},
   "source": [
    "# Put all results together"
   ]
  },
  {
   "cell_type": "code",
   "execution_count": 42,
   "metadata": {},
   "outputs": [],
   "source": [
    "res_d_all = pd.concat(res_d)"
   ]
  },
  {
   "cell_type": "code",
   "execution_count": 43,
   "metadata": {},
   "outputs": [
    {
     "data": {
      "text/html": [
       "<style  type=\"text/css\" >\n",
       "    #T_33774_ th {\n",
       "          font-size: 11px;\n",
       "    }    #T_33774_ td {\n",
       "          font-size: 11px;\n",
       "    }</style><table id=\"T_33774_\" ><thead>    <tr>        <th class=\"blank\" ></th>        <th class=\"blank level0\" ></th>        <th class=\"col_heading level0 col0\" >q=1</th>        <th class=\"col_heading level0 col1\" >q=2</th>        <th class=\"col_heading level0 col2\" >q=3</th>        <th class=\"col_heading level0 col3\" >q=4</th>        <th class=\"col_heading level0 col4\" >all</th>    </tr></thead><tbody>\n",
       "                <tr>\n",
       "                        <th id=\"T_33774_level0_row0\" class=\"row_heading level0 row0\" >rr</th>\n",
       "                        <th id=\"T_33774_level1_row0\" class=\"row_heading level1 row0\" >dr</th>\n",
       "                        <td id=\"T_33774_row0_col0\" class=\"data row0 col0\" >-0.64 (0.41) [-1.32, 0.04]</td>\n",
       "                        <td id=\"T_33774_row0_col1\" class=\"data row0 col1\" >-0.55 (0.57) [-1.50, 0.39]</td>\n",
       "                        <td id=\"T_33774_row0_col2\" class=\"data row0 col2\" >-0.81 (0.39) [-1.45, -0.16]</td>\n",
       "                        <td id=\"T_33774_row0_col3\" class=\"data row0 col3\" >-1.44 (0.69) [-2.57, -0.31]</td>\n",
       "                        <td id=\"T_33774_row0_col4\" class=\"data row0 col4\" >-0.76 (0.36) [-1.35, -0.17]</td>\n",
       "            </tr>\n",
       "            <tr>\n",
       "                        <th id=\"T_33774_level0_row1\" class=\"row_heading level0 row1\" >ols</th>\n",
       "                        <th id=\"T_33774_level1_row1\" class=\"row_heading level1 row1\" >ols</th>\n",
       "                        <td id=\"T_33774_row1_col0\" class=\"data row1 col0\" >-0.42 (0.53) [-1.30, 0.46]</td>\n",
       "                        <td id=\"T_33774_row1_col1\" class=\"data row1 col1\" >-0.57 (0.44) [-1.29, 0.15]</td>\n",
       "                        <td id=\"T_33774_row1_col2\" class=\"data row1 col2\" >-0.59 (0.48) [-1.38, 0.20]</td>\n",
       "                        <td id=\"T_33774_row1_col3\" class=\"data row1 col3\" >-1.54 (0.74) [-2.76, -0.32]</td>\n",
       "                        <td id=\"T_33774_row1_col4\" class=\"data row1 col4\" >-0.62 (0.36) [-1.21, -0.02]</td>\n",
       "            </tr>\n",
       "            <tr>\n",
       "                        <th id=\"T_33774_level0_row2\" class=\"row_heading level0 row2\" >lasso</th>\n",
       "                        <th id=\"T_33774_level1_row2\" class=\"row_heading level1 row2\" >lasso</th>\n",
       "                        <td id=\"T_33774_row2_col0\" class=\"data row2 col0\" >-0.86</td>\n",
       "                        <td id=\"T_33774_row2_col1\" class=\"data row2 col1\" >-0.56</td>\n",
       "                        <td id=\"T_33774_row2_col2\" class=\"data row2 col2\" >-0.55</td>\n",
       "                        <td id=\"T_33774_row2_col3\" class=\"data row2 col3\" >-0.55</td>\n",
       "                        <td id=\"T_33774_row2_col4\" class=\"data row2 col4\" >-0.50</td>\n",
       "            </tr>\n",
       "            <tr>\n",
       "                        <th id=\"T_33774_level0_row3\" class=\"row_heading level0 row3\" >dml_lasso</th>\n",
       "                        <th id=\"T_33774_level1_row3\" class=\"row_heading level1 row3\" >dml_lasso</th>\n",
       "                        <td id=\"T_33774_row3_col0\" class=\"data row3 col0\" >-0.55 (0.40) [-1.20, 0.10]</td>\n",
       "                        <td id=\"T_33774_row3_col1\" class=\"data row3 col1\" >-0.64 (0.34) [-1.20, -0.08]</td>\n",
       "                        <td id=\"T_33774_row3_col2\" class=\"data row3 col2\" >-0.74 (0.39) [-1.39, -0.10]</td>\n",
       "                        <td id=\"T_33774_row3_col3\" class=\"data row3 col3\" >-1.76 (0.56) [-2.68, -0.85]</td>\n",
       "                        <td id=\"T_33774_row3_col4\" class=\"data row3 col4\" >-0.82 (0.27) [-1.26, -0.38]</td>\n",
       "            </tr>\n",
       "            <tr>\n",
       "                        <th id=\"T_33774_level0_row4\" class=\"row_heading level0 row4\" >dml</th>\n",
       "                        <th id=\"T_33774_level1_row4\" class=\"row_heading level1 row4\" >dml</th>\n",
       "                        <td id=\"T_33774_row4_col0\" class=\"data row4 col0\" >-0.46 (0.40) [-1.12, 0.19]</td>\n",
       "                        <td id=\"T_33774_row4_col1\" class=\"data row4 col1\" >-0.63 (0.33) [-1.18, -0.08]</td>\n",
       "                        <td id=\"T_33774_row4_col2\" class=\"data row4 col2\" >-0.75 (0.38) [-1.38, -0.13]</td>\n",
       "                        <td id=\"T_33774_row4_col3\" class=\"data row4 col3\" >-1.79 (0.52) [-2.65, -0.93]</td>\n",
       "                        <td id=\"T_33774_row4_col4\" class=\"data row4 col4\" >-0.70 (0.26) [-1.12, -0.28]</td>\n",
       "            </tr>\n",
       "    </tbody></table>"
      ],
      "text/plain": [
       "<pandas.io.formats.style.Styler at 0x276d4e74f98>"
      ]
     },
     "execution_count": 43,
     "metadata": {},
     "output_type": "execute_result"
    }
   ],
   "source": [
    "heading_properties = [('font-size', '11px')]\n",
    "\n",
    "cell_properties = [('font-size', '11px')]\n",
    "\n",
    "dfstyle = [dict(selector=\"th\", props=heading_properties),\\\n",
    " dict(selector=\"td\", props=cell_properties)]\n",
    "\n",
    "res_d_all.style.set_table_styles(dfstyle)"
   ]
  },
  {
   "cell_type": "markdown",
   "metadata": {},
   "source": [
    "# Paper tables"
   ]
  },
  {
   "cell_type": "code",
   "execution_count": 44,
   "metadata": {},
   "outputs": [],
   "source": [
    "table = {}\n",
    "table['point'] = '{:.3f} ({:.3f})'.format(res['rr'].loc[(f'q={5}', 'dr'), 'point'],\n",
    "                                          res['rr'].loc[(f'q={5}', 'dr'), 'stderr'])\n",
    "\n",
    "est_list = ests['rr'][f'q={5}']\n",
    "table['Bounds'] = '[{:.3f}, {:.3f}]'.format(*sensitivity_bounds(est_list, .03, .03, alpha=None))\n",
    "table['CIBounds'] = '[{:.3f}, {:.3f}]'.format(*sensitivity_bounds(est_list, .03, .03, alpha=.05))\n",
    "table['RV(v=-1.5)'] = '{:.3f}'.format(tvalue(est_list, value=-1.5, leq=True, alpha=None))\n",
    "table['RV(v=-1.5,a=.05)'] = '{:.3f}'.format(tvalue(est_list, value=-1.5, leq=True, alpha=.05))\n",
    "table['RV(v=0)'] = '{:.3f}'.format(tvalue(est_list, value=0, leq=False, alpha=None))\n",
    "table['RV(v=0,a=.05)'] = '{:.3f}'.format(tvalue(est_list, value=0, leq=False, alpha=.05))"
   ]
  },
  {
   "cell_type": "code",
   "execution_count": 45,
   "metadata": {},
   "outputs": [],
   "source": [
    "table2 = {}\n",
    "table2['point'] = '{:.3f} ({:.3f})'.format(res['dml_lasso'].loc[(f'q={5}', 'dml_lasso'), 'point'],\n",
    "                                          res['dml_lasso'].loc[(f'q={5}', 'dml_lasso'), 'stderr'])\n",
    "\n",
    "est_list = ests['dml_lasso'][f'q={5}']\n",
    "table2['Bounds'] = '[{:.3f}, {:.3f}]'.format(*dml_sensitivity_bounds(est_list, .03, .03, alpha=None))\n",
    "table2['CIBounds'] = '[{:.3f}, {:.3f}]'.format(*dml_sensitivity_bounds(est_list, .03, .03, alpha=.05))\n",
    "table2['RV(v=-1.5)'] = '{:.3f}'.format(dml_tvalue(est_list, value=-1.5, leq=True, alpha=None))\n",
    "table2['RV(v=-1.5,a=.05)'] = '{:.3f}'.format(dml_tvalue(est_list, value=-1.5, leq=True, alpha=.05))\n",
    "table2['RV(v=0)'] = '{:.3f}'.format(dml_tvalue(est_list, value=0, leq=False, alpha=None))\n",
    "table2['RV(v=0,a=.05)'] = '{:.3f}'.format(dml_tvalue(est_list, value=0, leq=False, alpha=.05))"
   ]
  },
  {
   "cell_type": "code",
   "execution_count": 46,
   "metadata": {},
   "outputs": [],
   "source": [
    "table2 = {}\n",
    "table2['point'] = '{:.3f} ({:.3f})'.format(res['dml'].loc[(f'q={5}', 'dml'), 'point'],\n",
    "                                          res['dml'].loc[(f'q={5}', 'dml'), 'stderr'])\n",
    "\n",
    "est_list = ests['dml'][f'q={5}']\n",
    "table2['Bounds'] = '[{:.3f}, {:.3f}]'.format(*dml_sensitivity_bounds(est_list, .03, .03, alpha=None))\n",
    "table2['CIBounds'] = '[{:.3f}, {:.3f}]'.format(*dml_sensitivity_bounds(est_list, .03, .03, alpha=.05))\n",
    "table2['RV(v=-1.5)'] = '{:.3f}'.format(dml_tvalue(est_list, value=-1.5, leq=True, alpha=None))\n",
    "table2['RV(v=-1.5,a=.05)'] = '{:.3f}'.format(dml_tvalue(est_list, value=-1.5, leq=True, alpha=.05))\n",
    "table2['RV(v=0)'] = '{:.3f}'.format(dml_tvalue(est_list, value=0, leq=False, alpha=None))\n",
    "table2['RV(v=0,a=.05)'] = '{:.3f}'.format(dml_tvalue(est_list, value=0, leq=False, alpha=.05))"
   ]
  },
  {
   "cell_type": "code",
   "execution_count": 47,
   "metadata": {},
   "outputs": [
    {
     "data": {
      "text/html": [
       "<div>\n",
       "<style scoped>\n",
       "    .dataframe tbody tr th:only-of-type {\n",
       "        vertical-align: middle;\n",
       "    }\n",
       "\n",
       "    .dataframe tbody tr th {\n",
       "        vertical-align: top;\n",
       "    }\n",
       "\n",
       "    .dataframe thead th {\n",
       "        text-align: right;\n",
       "    }\n",
       "</style>\n",
       "<table border=\"1\" class=\"dataframe\">\n",
       "  <thead>\n",
       "    <tr style=\"text-align: right;\">\n",
       "      <th></th>\n",
       "      <th>point</th>\n",
       "      <th>Bounds</th>\n",
       "      <th>CIBounds</th>\n",
       "      <th>RV(v=-1.5)</th>\n",
       "      <th>RV(v=-1.5,a=.05)</th>\n",
       "      <th>RV(v=0)</th>\n",
       "      <th>RV(v=0,a=.05)</th>\n",
       "    </tr>\n",
       "  </thead>\n",
       "  <tbody>\n",
       "    <tr>\n",
       "      <th>Non-parametric</th>\n",
       "      <td>-0.761 (0.360)</td>\n",
       "      <td>[-1.232, -0.291]</td>\n",
       "      <td>[-1.827, 0.314]</td>\n",
       "      <td>0.047</td>\n",
       "      <td>0.010</td>\n",
       "      <td>0.049</td>\n",
       "      <td>0.011</td>\n",
       "    </tr>\n",
       "    <tr>\n",
       "      <th>Partially linear</th>\n",
       "      <td>-0.701 (0.257)</td>\n",
       "      <td>[-1.147, -0.255]</td>\n",
       "      <td>[-1.574, 0.172]</td>\n",
       "      <td>0.054</td>\n",
       "      <td>0.026</td>\n",
       "      <td>0.047</td>\n",
       "      <td>0.019</td>\n",
       "    </tr>\n",
       "  </tbody>\n",
       "</table>\n",
       "</div>"
      ],
      "text/plain": [
       "                           point            Bounds         CIBounds  \\\n",
       "Non-parametric    -0.761 (0.360)  [-1.232, -0.291]  [-1.827, 0.314]   \n",
       "Partially linear  -0.701 (0.257)  [-1.147, -0.255]  [-1.574, 0.172]   \n",
       "\n",
       "                 RV(v=-1.5) RV(v=-1.5,a=.05) RV(v=0) RV(v=0,a=.05)  \n",
       "Non-parametric        0.047            0.010   0.049         0.011  \n",
       "Partially linear      0.054            0.026   0.047         0.019  "
      ]
     },
     "execution_count": 47,
     "metadata": {},
     "output_type": "execute_result"
    }
   ],
   "source": [
    "tabledf = pd.DataFrame({'Non-parametric': table, 'Partially linear': table2}).T[['point', 'Bounds', 'CIBounds',\n",
    "                                                                                 'RV(v=-1.5)', 'RV(v=-1.5,a=.05)',\n",
    "                                                                                 'RV(v=0)', 'RV(v=0,a=.05)']]\n",
    "tabledf"
   ]
  },
  {
   "cell_type": "code",
   "execution_count": 48,
   "metadata": {},
   "outputs": [
    {
     "name": "stdout",
     "output_type": "stream",
     "text": [
      "\\begin{tabular}{llllllll}\n",
      "\\toprule\n",
      "{} &           point &            Bounds &         CIBounds & RV(v=-1.5) & RV(v=-1.5,a=.05) & RV(v=0) & RV(v=0,a=.05) \\\\\n",
      "\\midrule\n",
      "Non-parametric   &  -0.761 (0.360) &  [-1.232, -0.291] &  [-1.827, 0.314] &      0.047 &            0.010 &   0.049 &         0.011 \\\\\n",
      "Partially linear &  -0.701 (0.257) &  [-1.147, -0.255] &  [-1.574, 0.172] &      0.054 &            0.026 &   0.047 &         0.019 \\\\\n",
      "\\bottomrule\n",
      "\\end{tabular}\n",
      "\n"
     ]
    }
   ],
   "source": [
    "print(tabledf.to_latex())"
   ]
  },
  {
   "cell_type": "markdown",
   "metadata": {},
   "source": [
    "# Paper income quantile plots"
   ]
  },
  {
   "cell_type": "markdown",
   "metadata": {},
   "source": [
    "### Based on separate nuisance fitting per sub-group"
   ]
  },
  {
   "cell_type": "code",
   "execution_count": 49,
   "metadata": {},
   "outputs": [
    {
     "data": {
      "image/png": "[encoded data removed]",
      "text/plain": [
       "<Figure size 360x360 with 1 Axes>"
      ]
     },
     "metadata": {
      "needs_background": "light"
     },
     "output_type": "display_data"
    }
   ],
   "source": [
    "qgr = np.arange(1, 5)\n",
    "\n",
    "point = [res['rr'].loc[(f'q={q}', 'dr'), 'point'] for q in qgr]\n",
    "lower = [res['rr'].loc[(f'q={q}', 'dr'), 'point'] - 1.645*res['rr'].loc[(f'q={q}', 'dr'), 'stderr']\n",
    "         for q in qgr]\n",
    "upper = [res['rr'].loc[(f'q={q}', 'dr'), 'point'] + 1.645*res['rr'].loc[(f'q={q}', 'dr'), 'stderr']\n",
    "         for q in qgr]\n",
    "sens_band = [sensitivity_bounds(ests['rr'][f'q={q}'], .03, .03, alpha=None) for q in qgr]\n",
    "sens_band_unc = [sensitivity_bounds(ests['rr'][f'q={q}'], .03, .03, alpha=.05) for q in qgr]\n",
    "\n",
    "# save csv to pass to R\n",
    "tempdf = pd.DataFrame({\"point\": point})\n",
    "tempdf = pd.concat([tempdf, pd.DataFrame(sens_band)], axis = 1)\n",
    "tempdf = pd.concat([tempdf, pd.DataFrame(sens_band_unc)], axis = 1)\n",
    "tempdf.to_csv(\"gas_quart_npm.csv\")\n",
    "\n",
    "if synthetic:\n",
    "    true_moment = [res['true'].loc[(f'q={q}', 'true'), 'point'] for q in qgr]\n",
    "\n",
    "plt.figure(figsize=(5, 5))\n",
    "plt.plot(qgr, point)\n",
    "plt.fill_between(qgr, lower, upper, alpha=.4, label='5%-95% CI')\n",
    "plt.fill_between(qgr, *list(zip(*sens_band)), alpha=.6, label='Bounds')\n",
    "plt.fill_between(qgr, *list(zip(*sens_band_unc)), alpha=.2, label='5%-95% Bounds')\n",
    "if synthetic:\n",
    "    plt.plot(qgr, true_moment, label='true')\n",
    "plt.xticks(qgr)\n",
    "plt.title('Non-parametric')\n",
    "plt.legend()\n",
    "plt.grid()\n",
    "plt.savefig('nonparam_quantile_avgder.pdf', dpi=600)"
   ]
  },
  {
   "cell_type": "code",
   "execution_count": 50,
   "metadata": {},
   "outputs": [
    {
     "data": {
      "image/png": "[encoded data removed]",
      "text/plain": [
       "<Figure size 360x360 with 1 Axes>"
      ]
     },
     "metadata": {
      "needs_background": "light"
     },
     "output_type": "display_data"
    }
   ],
   "source": [
    "qgr = np.arange(1, 5)\n",
    "\n",
    "point = [res['dml'].loc[(f'q={q}', 'dml'), 'point'] for q in qgr]\n",
    "lower = [res['dml'].loc[(f'q={q}', 'dml'), 'point'] - 1.645*res['dml'].loc[(f'q={q}', 'dml'), 'stderr']\n",
    "         for q in qgr]\n",
    "upper = [res['dml'].loc[(f'q={q}', 'dml'), 'point'] + 1.645*res['dml'].loc[(f'q={q}', 'dml'), 'stderr']\n",
    "         for q in qgr]\n",
    "sens_band = [dml_sensitivity_bounds(ests['dml'][f'q={q}'], .03, .03, alpha=None) for q in qgr]\n",
    "sens_band_unc = [dml_sensitivity_bounds(ests['dml'][f'q={q}'], .03, .03, alpha=.05) for q in qgr]\n",
    "\n",
    "# save csv to pass to R\n",
    "tempdf = pd.DataFrame({\"point\": point})\n",
    "tempdf = pd.concat([tempdf, pd.DataFrame(sens_band)], axis = 1)\n",
    "tempdf = pd.concat([tempdf, pd.DataFrame(sens_band_unc)], axis = 1)\n",
    "tempdf.to_csv(\"gas_quart_plm.csv\")\n",
    "\n",
    "plt.figure(figsize=(5, 5))\n",
    "plt.plot(qgr, point)\n",
    "plt.fill_between(qgr, lower, upper, alpha=.4, label='5%-95% CI')\n",
    "plt.fill_between(qgr, *list(zip(*sens_band)), alpha=.6, label='Bounds')\n",
    "plt.fill_between(qgr, *list(zip(*sens_band_unc)), alpha=.2, label='5%-95% Bounds')\n",
    "if synthetic:\n",
    "    plt.plot(qgr, true_moment, label='true')\n",
    "plt.xticks(qgr)\n",
    "plt.title('Partially linear')\n",
    "plt.legend()\n",
    "plt.grid()\n",
    "plt.savefig('plinear_quantile_avgder.pdf', dpi=600)"
   ]
  },
  {
   "cell_type": "markdown",
   "metadata": {},
   "source": [
    "### Based on fitted nuisances on all data as is done in 401k example"
   ]
  },
  {
   "cell_type": "code",
   "execution_count": 77,
   "metadata": {},
   "outputs": [],
   "source": [
    "X, _, _, _ = get_data(5, synthetic=synthetic, random_seed=123)\n",
    "inds = np.arange(X.shape[0])\n",
    "splits = [inds[(X[:, 1] >= math.log(42500) - .5) & (X[:, 1] <= math.log(42500) + .5)],\n",
    "          inds[(X[:, 1] >= math.log(57500) - .5) & (X[:, 1] <= math.log(57500) + .5)],\n",
    "          inds[(X[:, 1] >= math.log(72500) - .5) & (X[:, 1] <= math.log(72500) + .5)],\n",
    "          inds[(X[:, 1] >= 11.6)]]\n",
    "point, stderr, bounds, cibounds = np.zeros(4), np.zeros(4), np.zeros((4, 2)), np.zeros((4, 2))\n",
    "qgr = np.arange(4)\n",
    "for q in qgr:\n",
    "    points = np.array([np.mean(est.moment_[splits[q]]) for est in ests['rr']['q=5']])\n",
    "    stderrs = np.array([np.sqrt(np.var(est.moment_[splits[q]])/len(splits[q])) for est in ests['rr']['q=5']])\n",
    "    point[q] = np.mean(points)\n",
    "    stderr[q] = np.sqrt(np.mean(stderrs**2) + np.var(points))\n",
    "    bounds[q, :] = sensitivity_bounds(ests['rr']['q=5'], .04, .03, inds=splits[q])\n",
    "    cibounds[q, :] = sensitivity_bounds(ests['rr']['q=5'], .04, .03, alpha=0.05, inds=splits[q])"
   ]
  },
  {
   "cell_type": "code",
   "execution_count": 79,
   "metadata": {},
   "outputs": [
    {
     "data": {
      "image/png": "[encoded data removed]",
      "text/plain": [
       "<Figure size 720x360 with 2 Axes>"
      ]
     },
     "metadata": {
      "needs_background": "light"
     },
     "output_type": "display_data"
    }
   ],
   "source": [
    "plt.figure(figsize=(10, 5))\n",
    "plt.subplot(1, 2, 1)\n",
    "plt.fill_between(qgr, point - 1.645*stderr, point + 1.645*stderr, alpha=.4)\n",
    "plt.plot(qgr, point)\n",
    "plt.xlabel(\"Income groups\")\n",
    "plt.ylabel(\"ATE\")\n",
    "\n",
    "plt.subplot(1, 2, 2)\n",
    "plt.fill_between(qgr, cibounds[:, 0], cibounds[:, 1], alpha=.4)\n",
    "plt.fill_between(qgr, bounds[:, 0], bounds[:, 1], alpha=.4)\n",
    "plt.plot(qgr, point)\n",
    "plt.xlabel(\"Income groups\")\n",
    "plt.ylabel(\"ATE\")\n",
    "plt.tight_layout()\n",
    "plt.show()"
   ]
  }
 ],
 "metadata": {
  "kernelspec": {
   "display_name": "Python 3 (ipykernel)",
   "language": "python",
   "name": "python3"
  },
  "language_info": {
   "codemirror_mode": {
    "name": "ipython",
    "version": 3
   },
   "file_extension": ".py",
   "mimetype": "text/x-python",
   "name": "python",
   "nbconvert_exporter": "python",
   "pygments_lexer": "ipython3",
   "version": "3.7.1"
  },
  "vscode": {
   "interpreter": {
    "hash": "aee8b7b246df8f9039afb4144a1f6fd8d2ca17a180786b69acc140d282b71a49"
   }
  }
 },
 "nbformat": 4,
 "nbformat_minor": 4
}
