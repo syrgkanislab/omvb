{
 "cells": [
  {
   "cell_type": "code",
   "execution_count": null,
   "metadata": {},
   "outputs": [],
   "source": [
    "%load_ext autoreload\n",
    "%autoreload 2\n",
    "%matplotlib inline"
   ]
  },
  {
   "cell_type": "code",
   "execution_count": null,
   "metadata": {},
   "outputs": [],
   "source": [
    "import numpy as np\n",
    "import matplotlib.pyplot as plt\n",
    "import scipy\n",
    "import scipy.special\n",
    "from sklearn.linear_model import LassoCV, LogisticRegressionCV, LinearRegression, Lasso, LogisticRegression\n",
    "from sklearn.model_selection import GridSearchCV\n",
    "from sklearn.base import clone\n",
    "from econml.sklearn_extensions.model_selection import GridSearchCVList\n",
    "from sklearn.ensemble import RandomForestRegressor, GradientBoostingRegressor\n",
    "from sklearn.ensemble import RandomForestClassifier, GradientBoostingClassifier\n",
    "import joblib\n",
    "from statsmodels.api import OLS\n",
    "from sklearn.model_selection import StratifiedGroupKFold\n",
    "from sklearn.compose import ColumnTransformer\n",
    "from sklearn.preprocessing import StandardScaler\n",
    "from sklearn.pipeline import Pipeline\n",
    "import pandas as pd\n",
    "import math"
   ]
  },
  {
   "cell_type": "code",
   "execution_count": null,
   "metadata": {},
   "outputs": [],
   "source": [
    "from sensitivity import dml_sensitivity_bounds, dml_tvalue\n",
    "from sensitivity import sensitivity_bounds, tvalue, sensitivity_contours\n",
    "from rfriesz import RFreg, RFrr, poly_feature_fns\n",
    "from sievereisz import SieveRR, SparseSieveRR, Featurizer\n",
    "from debiased import DebiasedMoment\n",
    "from econml.dml import LinearDML"
   ]
  },
  {
   "cell_type": "code",
   "execution_count": null,
   "metadata": {},
   "outputs": [],
   "source": [
    "# Generic machine learning regressor with cross validation\n",
    "def first_stage_reg(numeric_columns=[], cv=None):\n",
    "    return GridSearchCVList([\n",
    "                             Pipeline([('scale', ColumnTransformer([('num', StandardScaler(), numeric_columns)],\n",
    "                                                                   remainder='passthrough')),\n",
    "                                       ('lasso', Lasso())]),\n",
    "                             Pipeline([('scale', ColumnTransformer([('num', StandardScaler(), numeric_columns)],\n",
    "                                                                   remainder='passthrough')),\n",
    "                                       ('feat', Featurizer(degree=1, normalize=False)),\n",
    "                                       ('lasso', Lasso())]),\n",
    "                             RandomForestRegressor(n_estimators=100, random_state=123),\n",
    "                             RFreg(reg_feature_fns=poly_feature_fns(10),\n",
    "                                   min_var_leaf_on_val=True,\n",
    "                                   min_impurity_decrease=1e-4, max_samples=.85, inference=False, subforest_size=1,\n",
    "                                   random_state=123)\n",
    "                            ],\n",
    "                             param_grid_list=[\n",
    "                                              {'lasso__alpha': [1e-6, 1e-5, 0.0001, .001, .01, .1, 1, 10]},\n",
    "                                              {'lasso__alpha': [1e-6, 1e-5, 0.0001, .001, .01, .1, 1, 10]},\n",
    "                                              {'max_depth': [3, 5],\n",
    "                                               'min_samples_leaf': [10, 50]},\n",
    "                                              {'reg_feature_fns': [poly_feature_fns(2)],\n",
    "                                               'min_samples_leaf': [10],\n",
    "                                               'min_var_fraction_leaf': [0.01, 0.1],\n",
    "                                               'l2': [1e-3, 1e-2]}\n",
    "                             ],\n",
    "                             cv=cv,\n",
    "                             scoring='neg_mean_squared_error',\n",
    "                             n_jobs=-1)"
   ]
  },
  {
   "cell_type": "code",
   "execution_count": null,
   "metadata": {},
   "outputs": [],
   "source": [
    "# Returns a function that when called with data (X, y), returns a generator that when called\n",
    "# returns an un-fitted regression estimator; e.g. the one with the best hyperparameters.\n",
    "def reg_fn_gen(numeric_columns, cv=None, verbose=0):\n",
    "    def get_reg_fn(X, y):\n",
    "        est = first_stage_reg(numeric_columns, cv=cv).fit(X, y)\n",
    "        if verbose > 0:\n",
    "            print('Chose: ', est.best_score_, est.best_estimator_)\n",
    "            print('Scores: ', [(l.best_score_, l.best_estimator_) for l in est._gcv_list])\n",
    "        return lambda: clone(est.best_estimator_)\n",
    "    return get_reg_fn"
   ]
  },
  {
   "cell_type": "code",
   "execution_count": null,
   "metadata": {},
   "outputs": [],
   "source": [
    "# The moment function, whose average we want to estimate: E[m(X; g)]\n",
    "def moment_fn(x, test_fn):\n",
    "    epsilon = 0.01\n",
    "    t1 = np.hstack([x[:, [0]] + epsilon, x[:, 1:]])\n",
    "    t0 = np.hstack([x[:, [0]] - epsilon, x[:, 1:]])\n",
    "    return (test_fn(t1) - test_fn(t0)) / (2*epsilon)"
   ]
  },
  {
   "cell_type": "code",
   "execution_count": null,
   "metadata": {},
   "outputs": [],
   "source": [
    "# The negative of the reisz score: L(g) := E[2 * m(X;g) - g(X)^2]\n",
    "def neg_reisz_score(model, X):\n",
    "    return np.mean(2 * moment_fn(X, model.predict) - model.predict(X)**2)"
   ]
  },
  {
   "cell_type": "code",
   "execution_count": null,
   "metadata": {},
   "outputs": [],
   "source": [
    "# A generic machine learning riesz representer estimator with cross-validation\n",
    "def first_stage_rr(numeric_columns, cv=None):\n",
    "    return GridSearchCVList([\n",
    "                            SieveRR(featurizer=Featurizer(degree=1), moment_fn=moment_fn),\n",
    "                            SieveRR(featurizer=Featurizer(degree=2), moment_fn=moment_fn),\n",
    "                            SieveRR(featurizer=Featurizer(degree=3), moment_fn=moment_fn),\n",
    "                            SparseSieveRR(featurizer=Featurizer(degree=3), moment_fn=moment_fn, tol=1e-4),\n",
    "                            SparseSieveRR(featurizer=Featurizer(degree=2), moment_fn=moment_fn, tol=1e-4),\n",
    "                            SparseSieveRR(featurizer=Featurizer(degree=1), moment_fn=moment_fn, tol=1e-4),\n",
    "                            RFrr(riesz_feature_fns=poly_feature_fns(10),\n",
    "                                        moment_fn=moment_fn,\n",
    "                                        min_var_leaf_on_val=True,\n",
    "                                        min_impurity_decrease=0.001,\n",
    "                                        max_samples=.65,\n",
    "                                        inference=False,\n",
    "                                        subforest_size=1,\n",
    "                                        random_state=123)\n",
    "                            ],\n",
    "                            param_grid_list=[\n",
    "                                   {'alpha': np.geomspace(1e-6, 1e3, 20)},\n",
    "                                   {'alpha': np.geomspace(1e-6, 1e3, 20)},\n",
    "                                   {'alpha': np.geomspace(1e-6, 1e3, 20)},\n",
    "                                   {'alpha': np.geomspace(1e-6, 1e3, 20),\n",
    "                                    'l1_ratio': [.5, 1.0]},\n",
    "                                   {'alpha': np.geomspace(1e-6, 1e3, 20),\n",
    "                                    'l1_ratio': [.5, 1.0]},\n",
    "                                   {'alpha': np.geomspace(1e-6, 1e3, 20),\n",
    "                                    'l1_ratio': [.5, 1.0]},\n",
    "                                   {'riesz_feature_fns': [poly_feature_fns(2), poly_feature_fns(3)],\n",
    "                                    'min_samples_leaf': [10, 50],\n",
    "                                    'min_var_fraction_leaf': [0.01, 0.1],\n",
    "                                    'l2': [1e-5, 1e-3],\n",
    "                                    'max_depth': [5, None]}\n",
    "                           ],\n",
    "                           scoring=neg_reisz_score,\n",
    "                           cv=cv, verbose=0, n_jobs=-1)"
   ]
  },
  {
   "cell_type": "code",
   "execution_count": null,
   "metadata": {},
   "outputs": [],
   "source": [
    "# Returns a function that when called with data X, returns a generator that when called\n",
    "# returns an un-fitted riesz estimator; e.g. the one with the best hyperparameters.\n",
    "def rr_fn_gen(numeric_columns, cv=None, verbose=0):\n",
    "    def get_rr_fn(X):\n",
    "        est = first_stage_rr(numeric_columns, cv=cv).fit(X)\n",
    "        if verbose > 0:\n",
    "            print('Chose: ', est.best_score_, est.best_estimator_)\n",
    "            print('Scores: ', [(l.best_score_, l.best_estimator_) for l in est._gcv_list])\n",
    "        return lambda: clone(est.best_estimator_)\n",
    "    return get_rr_fn"
   ]
  },
  {
   "cell_type": "code",
   "execution_count": null,
   "metadata": {},
   "outputs": [],
   "source": [
    "# Data loading and manipulation\n",
    "\n",
    "# for semi-synthetic data generation\n",
    "def true_f(X):\n",
    "    y = (-.7 - .4 * scipy.special.expit(3 * (1 - 2*(X[:, 1] - 10.5)))) * X[:, 0]\n",
    "    y += scipy.special.expit(3 * (1 - 2 * (X[:, 1] > 11.5)))\n",
    "    return y\n",
    "\n",
    "# def true_f(X):\n",
    "#     y = -.7 * X[:, 0]\n",
    "#     y += scipy.special.expit(3 * (1 - 2 * (X[:, 1] > 11.5)))\n",
    "#     return y\n",
    "\n",
    "def get_data(q=None, synthetic=False, region=True, state=False, region_ids=None, random_seed=123):\n",
    "    df = pd.read_csv('./BHP2017/data_BHP2_with_region.csv')\n",
    "    # Throw away low prices and low income due to sample quality as in Chetverikov\n",
    "    df = df[df[\"log_p\"] > math.log(1.2)]\n",
    "    df = df[df[\"log_y\"] > math.log(15000)]\n",
    "    if not ((q==4) | (q==5)): # all data in first three brackets\n",
    "        df = df[df[\"log_y\"] >= math.log(42500) - .5]\n",
    "        df = df[df[\"log_y\"] <= math.log(72500) + .5]\n",
    "    if q == 1:\n",
    "        df = df[df[\"log_y\"] >= math.log(42500) - .5]\n",
    "        df = df[df[\"log_y\"] <= math.log(42500) + .5]\n",
    "    if q == 2:\n",
    "        df = df[df[\"log_y\"] >= math.log(57500) - .5]\n",
    "        df = df[df[\"log_y\"] <= math.log(57500) + .5]\n",
    "    if q == 3:\n",
    "        df = df[df[\"log_y\"] >= math.log(72500) - .5]\n",
    "        df = df[df[\"log_y\"] <= math.log(72500) + .5]\n",
    "    if q == 4:\n",
    "        df = df[df[\"log_y\"] >= 11.6]\n",
    "    if region_ids is not None: # Sub-select particular regions\n",
    "        df = df[np.any([df['region'] == r for r in region_ids], axis=0)]\n",
    "    Xdf = df.iloc[:, 1:] # Covariates\n",
    "    X_nostatedum = Xdf.drop([\"distance_oil1000\", \"share\"], axis=1).values \n",
    "    if state: # whether to control for state id; almost no price variation left\n",
    "        state_dum = pd.get_dummies(Xdf['state_fips'], prefix=\"state\", drop_first=True)\n",
    "        Xdf = pd.concat([Xdf, state_dum], axis = 1)\n",
    "    if region: # whether to control for regrion id\n",
    "        region_dum = pd.get_dummies(Xdf['region'], prefix=\"region\", drop_first=True)\n",
    "        Xdf = pd.concat([Xdf, region_dum], axis = 1)\n",
    "    # Drop instrument and things we've one-hot encoded and weird share variable\n",
    "    Xdf = Xdf.drop([\"distance_oil1000\", \"state_fips\", \"share\", 'region'], axis=1)\n",
    "    X = Xdf.values # to numpy array\n",
    "    y = df['log_q'].values # outcome to numpy array\n",
    "    if synthetic: # impute synthetic outcome based on known relationship\n",
    "        y = true_f(X) + np.random.normal(0, .2, size=X[:, 0].shape)\n",
    "        print(np.mean(moment_fn(X, true_f)))\n",
    "    \n",
    "    # Create state-block-wise and stratified by region folds for cross validation and cross fitting\n",
    "    cv = StratifiedGroupKFold(n_splits=5, shuffle=True, random_state=random_seed)\n",
    "    splits = list(cv.split(df, y=df['region'], groups=df['state_fips']))\n",
    "    return X, y, [0, 1, 6, 7, 8], splits"
   ]
  },
  {
   "cell_type": "code",
   "execution_count": null,
   "metadata": {},
   "outputs": [],
   "source": [
    "# log-income distribution\n",
    "X, y, num_cols, splits = get_data(5, region_ids=[1, 8])\n",
    "plt.hist(X[:, 1])\n",
    "plt.show()"
   ]
  },
  {
   "cell_type": "code",
   "execution_count": null,
   "metadata": {},
   "outputs": [],
   "source": [
    "# global result dictionaries and global parameters\n",
    "ests = {}\n",
    "res = {}\n",
    "res_d = {}\n",
    "q_grid = np.arange(1, 6)\n",
    "synthetic = False # use synthetic outcome\n",
    "verbose = 0\n",
    "region = True # control for region"
   ]
  },
  {
   "cell_type": "code",
   "execution_count": null,
   "metadata": {},
   "outputs": [],
   "source": [
    "# General pipeline for all types of estimators to generate the estimation result we want\n",
    "def generic_pipeline(estimator, q_grid, name, n_seeds=5):\n",
    "    ests = {}\n",
    "    res = {}\n",
    "    for q in q_grid:\n",
    "        print(f'q={q}')\n",
    "        ests[f'q={q}'] = []\n",
    "        estimate_list = []\n",
    "        for random_seed in np.arange(123, 123 + n_seeds):\n",
    "            X, y, num_cols, splits = get_data(q, region=region, synthetic=synthetic, random_seed=random_seed)\n",
    "            estimates, model = estimator(X, y, num_cols, splits)\n",
    "            print(estimates)\n",
    "            estimate_list.append(estimates)\n",
    "            ests[f'q={q}'].append(model)\n",
    "        estimate_list = np.array(estimate_list)\n",
    "        res[f'q={q}'] = {}\n",
    "        res[f'q={q}'][f'{name}'] = {}\n",
    "        res[f'q={q}'][f'{name}']['point'] = np.mean(estimate_list[:, 0])\n",
    "        if estimate_list.shape[1] > 2:\n",
    "            res[f'q={q}'][f'{name}']['stderr'] = np.sqrt(np.mean(estimate_list[:, 1]**2) \n",
    "                                                         + np.var(estimate_list[:, 0]))\n",
    "        res[f'q={q}'] = pd.DataFrame(res[f'q={q}']).transpose()\n",
    "    return pd.concat(res), ests"
   ]
  },
  {
   "cell_type": "code",
   "execution_count": null,
   "metadata": {},
   "outputs": [],
   "source": [
    "# Transforming results to a nicely printable dataframe where each cell\n",
    "# contains point (stderr) [ci_lower, ci_upper]\n",
    "def transform_res_to_df(res, q_grid, alpha=None):\n",
    "    res_f = res.reset_index()\n",
    "    res_d = {}\n",
    "    for q in q_grid:\n",
    "        key = 'all <= 11.6' if q==0 else ('all' if q==5 else f'q={q}')\n",
    "        res_d[key] = {}\n",
    "        for method in np.unique(res_f['level_1'].values):\n",
    "            p = res.loc[(f'q={q}', method), 'point']\n",
    "            if alpha is not None:\n",
    "                s = res.loc[(f'q={q}', method), 'stderr']\n",
    "                error = scipy.stats.norm.ppf(1 - alpha) * s\n",
    "                l, u = p - error, p + error\n",
    "                res_d[key][method] = f\"{p:.2f} ({s:.2f}) [{l:.2f}, {u:.2f}]\"\n",
    "            else:\n",
    "                res_d[key][method] = f\"{p:.2f}\"\n",
    "        \n",
    "    return pd.DataFrame(res_d)"
   ]
  },
  {
   "cell_type": "code",
   "execution_count": null,
   "metadata": {},
   "outputs": [],
   "source": [
    "if synthetic:\n",
    "    def oracle_estimator(X, y, num_cols, splits):\n",
    "        return (np.mean(moment_fn(X, true_f)),), None\n",
    "    res['true'], _ = generic_pipeline(oracle_estimator, q_grid, 'true', n_seeds=1)\n",
    "    res_d['true'] = transform_res_to_df(res['true'], q_grid)\n",
    "    display(res_d['true'])"
   ]
  },
  {
   "cell_type": "markdown",
   "metadata": {},
   "source": [
    "# Non-Linear RR Analysis"
   ]
  },
  {
   "cell_type": "code",
   "execution_count": null,
   "metadata": {},
   "outputs": [],
   "source": [
    "# fully non-parametric average derivative estimation\n",
    "def nonlinrr(X, y, num_cols, splits):\n",
    "    get_reisz_fn = rr_fn_gen(num_cols, cv=splits, verbose=verbose)\n",
    "    get_reg_fn = reg_fn_gen(num_cols, cv=splits, verbose=verbose)\n",
    "    est = DebiasedMoment(moment_fn=moment_fn,\n",
    "                         get_reisz_fn=get_reisz_fn,\n",
    "                         get_reg_fn=get_reg_fn,\n",
    "                         n_splits=splits)\n",
    "    est.fit(X, y)\n",
    "    return est.avg_moment(alpha=.1), est"
   ]
  },
  {
   "cell_type": "code",
   "execution_count": null,
   "metadata": {},
   "outputs": [],
   "source": [
    "res['rr'], ests['rr'] = generic_pipeline(nonlinrr, q_grid, 'dr')"
   ]
  },
  {
   "cell_type": "code",
   "execution_count": null,
   "metadata": {},
   "outputs": [],
   "source": [
    "res_d['rr'] = transform_res_to_df(res['rr'], q_grid, alpha=0.05)\n",
    "res_d['rr']"
   ]
  },
  {
   "cell_type": "markdown",
   "metadata": {},
   "source": [
    "### Sensitivity Analysis Example"
   ]
  },
  {
   "cell_type": "code",
   "execution_count": null,
   "metadata": {},
   "outputs": [],
   "source": [
    "q = 5\n",
    "est = ests['rr'][f'q={q}'][0] # look at one of the cv split seeds\n",
    "X, y, num_cols, splits = get_data(q)"
   ]
  },
  {
   "cell_type": "code",
   "execution_count": null,
   "metadata": {},
   "outputs": [],
   "source": [
    "p, s, l, u = est.avg_moment(alpha=.1)\n",
    "print(f'{p:.2f}, ({s:.2f}) [{l:.2f}, {u:.2f}]')"
   ]
  },
  {
   "cell_type": "code",
   "execution_count": null,
   "metadata": {},
   "outputs": [],
   "source": [
    "l, u = sensitivity_bounds([est], .03, .03, alpha=None)\n",
    "print(f'[{l:.2f}, {u:.2f}]')"
   ]
  },
  {
   "cell_type": "code",
   "execution_count": null,
   "metadata": {},
   "outputs": [],
   "source": [
    "l, u = sensitivity_bounds([est], .03, .03, alpha=.05)\n",
    "print(f'[{l:.2f}, {u:.2f}]')"
   ]
  },
  {
   "cell_type": "code",
   "execution_count": null,
   "metadata": {},
   "outputs": [],
   "source": [
    "print(f'{tvalue([est], value=0, leq=False, alpha=None):.3f}')"
   ]
  },
  {
   "cell_type": "code",
   "execution_count": null,
   "metadata": {},
   "outputs": [],
   "source": [
    "print(f'{tvalue([est], value=0, leq=False, alpha=.05):.3f}')"
   ]
  },
  {
   "cell_type": "code",
   "execution_count": null,
   "metadata": {},
   "outputs": [],
   "source": [
    "eta_asq, eta_ysq, lower, upper = sensitivity_contours([est], 0.15, 0.15, alpha=0.05)"
   ]
  },
  {
   "cell_type": "code",
   "execution_count": null,
   "metadata": {},
   "outputs": [],
   "source": [
    "plt.figure(figsize=(15, 5))\n",
    "plt.subplot(1, 2, 1)\n",
    "contours = plt.contour(eta_asq, eta_ysq, lower, 6, linestyles='-', colors='blue')\n",
    "plt.clabel(contours, inline=True, fontsize=8)\n",
    "plt.title('Lower limit')\n",
    "plt.xlabel('Nonparametric partial R2 of confounder(s) with the treatment')\n",
    "plt.ylabel('Nonparametric partial R2 of confounder(s) with the outcome')\n",
    "\n",
    "plt.subplot(1, 2, 2)\n",
    "contours = plt.contour(eta_asq, eta_ysq, upper, 6, linestyles='-', colors='blue')\n",
    "plt.clabel(contours, inline=True, fontsize=8)\n",
    "plt.title('Upper limit')\n",
    "plt.xlabel('Nonparametric partial R2 of confounder(s) with the treatment')\n",
    "plt.ylabel('Nonparametric partial R2 of confounder(s) with the outcome')\n",
    "\n",
    "plt.show()"
   ]
  },
  {
   "cell_type": "markdown",
   "metadata": {},
   "source": [
    "### Diagnostics examples"
   ]
  },
  {
   "cell_type": "code",
   "execution_count": null,
   "metadata": {},
   "outputs": [],
   "source": [
    "plt.figure(figsize=(10, 5))\n",
    "plt.subplot(1, 2, 1)\n",
    "plt.scatter(X[:, 0], est.reg_pred_)\n",
    "plt.subplot(1, 2, 2)\n",
    "plt.scatter(X[:, 0], est.reisz_pred_)\n",
    "plt.show()"
   ]
  },
  {
   "cell_type": "markdown",
   "metadata": {},
   "source": [
    "# OLS analysis"
   ]
  },
  {
   "cell_type": "code",
   "execution_count": null,
   "metadata": {},
   "outputs": [],
   "source": [
    "# fully linear OLS-based average derivative estimation\n",
    "def ols_estimator(X, y, num_cols, splits):\n",
    "    est = OLS(y, np.hstack([np.ones((X.shape[0], 1)), X])).fit(cov_type='HC3')\n",
    "    return (est.params[1], est.bse[1], *est.conf_int(alpha=.1)[1]), est"
   ]
  },
  {
   "cell_type": "code",
   "execution_count": null,
   "metadata": {},
   "outputs": [],
   "source": [
    "res['ols'], ests['ols'] = generic_pipeline(ols_estimator, q_grid, 'ols', n_seeds=1)"
   ]
  },
  {
   "cell_type": "code",
   "execution_count": null,
   "metadata": {},
   "outputs": [],
   "source": [
    "res_d['ols'] = transform_res_to_df(res['ols'], q_grid, alpha=0.05)\n",
    "res_d['ols']"
   ]
  },
  {
   "cell_type": "markdown",
   "metadata": {},
   "source": [
    "# Lasso Analysis"
   ]
  },
  {
   "cell_type": "code",
   "execution_count": null,
   "metadata": {},
   "outputs": [],
   "source": [
    "# fully linear Lasso-based average derivative estimation\n",
    "def lasso_estimator(X, y, num_cols, splits):\n",
    "    num_cols = [t - 1 for t in num_cols[1:]]\n",
    "\n",
    "    est = Pipeline([('scale', ColumnTransformer([('num', StandardScaler(), num_cols)], remainder='passthrough')),\n",
    "                    ('lasso', LassoCV(cv=splits))])\n",
    "    est.fit(X, y)\n",
    "    p = np.mean(est.predict(np.hstack([np.ones((X.shape[0], 1)), X[:, 1:]])) \n",
    "            - est.predict(np.hstack([np.zeros((X.shape[0], 1)), X[:, 1:]])))\n",
    "    return (p,), est"
   ]
  },
  {
   "cell_type": "code",
   "execution_count": null,
   "metadata": {},
   "outputs": [],
   "source": [
    "res['lasso'], ests['lasso'] = generic_pipeline(lasso_estimator, q_grid, 'lasso')"
   ]
  },
  {
   "cell_type": "code",
   "execution_count": null,
   "metadata": {},
   "outputs": [],
   "source": [
    "res_d['lasso'] = transform_res_to_df(res['lasso'], q_grid)\n",
    "res_d['lasso']"
   ]
  },
  {
   "cell_type": "markdown",
   "metadata": {},
   "source": [
    "# DML Analysis"
   ]
  },
  {
   "cell_type": "code",
   "execution_count": null,
   "metadata": {},
   "outputs": [],
   "source": [
    "# fully linear debiased Lasso-based average derivative estimation, with doubleML\n",
    "def dml_lasso_estimator(X, y, num_cols, splits):\n",
    "    num_cols = [t - 1 for t in num_cols[1:]]\n",
    "\n",
    "    model_reg = Pipeline([('scale', ColumnTransformer([('num', StandardScaler(), num_cols)], remainder='passthrough')),\n",
    "                          ('lasso', LassoCV(cv=splits))])\n",
    "    model_y = clone(model_reg).fit(X[:, 1:], y)\n",
    "    model_y = Pipeline([('scale', ColumnTransformer([('num', StandardScaler(), num_cols)], remainder='passthrough')),\n",
    "                        ('lasso', Lasso(alpha=model_y.named_steps['lasso'].alpha_))])\n",
    "    model_t = clone(model_reg).fit(X[:, 1:], X[:, 0])\n",
    "    model_t = Pipeline([('scale', ColumnTransformer([('num', StandardScaler(), num_cols)], remainder='passthrough')),\n",
    "                        ('lasso', Lasso(alpha=model_t.named_steps['lasso'].alpha_))])\n",
    "    est = LinearDML(model_y=model_y,\n",
    "                    model_t=model_t,\n",
    "                    linear_first_stages=False,\n",
    "                    cv=splits, random_state=123)\n",
    "    est.fit(y, X[:, 0], W=X[:, 1:], cache_values=True)\n",
    "    p = est.intercept__inference().point_estimate\n",
    "    s = est.intercept__inference().stderr\n",
    "    l, u = est.intercept__inference().conf_int(alpha=.1)\n",
    "    return (p, s, l, u), est"
   ]
  },
  {
   "cell_type": "code",
   "execution_count": null,
   "metadata": {},
   "outputs": [],
   "source": [
    "res['dml_lasso'], ests['dml_lasso'] = generic_pipeline(dml_lasso_estimator, q_grid, 'dml_lasso')"
   ]
  },
  {
   "cell_type": "code",
   "execution_count": null,
   "metadata": {},
   "outputs": [],
   "source": [
    "res_d['dml_lasso'] = transform_res_to_df(res['dml_lasso'], q_grid, alpha=.05)\n",
    "res_d['dml_lasso']"
   ]
  },
  {
   "cell_type": "markdown",
   "metadata": {},
   "source": [
    "# DML with Non-Linear Residualizers"
   ]
  },
  {
   "cell_type": "code",
   "execution_count": null,
   "metadata": {},
   "outputs": [],
   "source": [
    "# partially linear average derivative estimation, with doubleML\n",
    "def dml_estimator(X, y, num_cols, splits):\n",
    "    num_cols = [t - 1 for t in num_cols[1:]]\n",
    "\n",
    "    model_y = reg_fn_gen(num_cols, cv=splits, verbose=verbose)(X[:, 1:], y)\n",
    "    model_t = reg_fn_gen(num_cols, cv=splits, verbose=verbose)(X[:, 1:], X[:, 0])\n",
    "    est = LinearDML(model_y=model_y(),\n",
    "                    model_t=model_t(),\n",
    "                    linear_first_stages=False,\n",
    "                    cv=splits, random_state=123)\n",
    "    est.fit(y, X[:, 0], W=X[:, 1:], cache_values=True)\n",
    "    p = est.intercept__inference().point_estimate\n",
    "    s = est.intercept__inference().stderr\n",
    "    l, u = est.intercept__inference().conf_int(alpha=.1)\n",
    "    return (p, s, l, u), est"
   ]
  },
  {
   "cell_type": "code",
   "execution_count": null,
   "metadata": {},
   "outputs": [],
   "source": [
    "res['dml'], ests['dml'] = generic_pipeline(dml_estimator, q_grid, 'dml')"
   ]
  },
  {
   "cell_type": "code",
   "execution_count": null,
   "metadata": {},
   "outputs": [],
   "source": [
    "res_d['dml'] = transform_res_to_df(res['dml'], q_grid, alpha=.05)\n",
    "res_d['dml']"
   ]
  },
  {
   "cell_type": "markdown",
   "metadata": {},
   "source": [
    "# Put all results together"
   ]
  },
  {
   "cell_type": "code",
   "execution_count": null,
   "metadata": {},
   "outputs": [],
   "source": [
    "res_d_all = pd.concat(res_d)"
   ]
  },
  {
   "cell_type": "code",
   "execution_count": null,
   "metadata": {},
   "outputs": [],
   "source": [
    "heading_properties = [('font-size', '11px')]\n",
    "\n",
    "cell_properties = [('font-size', '11px')]\n",
    "\n",
    "dfstyle = [dict(selector=\"th\", props=heading_properties),\\\n",
    " dict(selector=\"td\", props=cell_properties)]\n",
    "\n",
    "res_d_all.style.set_table_styles(dfstyle)"
   ]
  },
  {
   "cell_type": "markdown",
   "metadata": {},
   "source": [
    "# Paper tables"
   ]
  },
  {
   "cell_type": "code",
   "execution_count": null,
   "metadata": {},
   "outputs": [],
   "source": [
    "table = {}\n",
    "table['point'] = '{:.3f} ({:.3f})'.format(res['rr'].loc[(f'q={5}', 'dr'), 'point'],\n",
    "                                          res['rr'].loc[(f'q={5}', 'dr'), 'stderr'])\n",
    "\n",
    "est_list = ests['rr'][f'q={5}']\n",
    "table['Bounds'] = '[{:.3f}, {:.3f}]'.format(*sensitivity_bounds(est_list, .03, .03, alpha=None))\n",
    "table['CIBounds'] = '[{:.3f}, {:.3f}]'.format(*sensitivity_bounds(est_list, .03, .03, alpha=.05))\n",
    "table['RV(v=-1.5)'] = '{:.3f}'.format(tvalue(est_list, value=-1.5, leq=True, alpha=None))\n",
    "table['RV(v=-1.5,a=.05)'] = '{:.3f}'.format(tvalue(est_list, value=-1.5, leq=True, alpha=.05))\n",
    "table['RV(v=0)'] = '{:.3f}'.format(tvalue(est_list, value=0, leq=False, alpha=None))\n",
    "table['RV(v=0,a=.05)'] = '{:.3f}'.format(tvalue(est_list, value=0, leq=False, alpha=.05))"
   ]
  },
  {
   "cell_type": "code",
   "execution_count": null,
   "metadata": {},
   "outputs": [],
   "source": [
    "table2 = {}\n",
    "table2['point'] = '{:.3f} ({:.3f})'.format(res['dml_lasso'].loc[(f'q={5}', 'dml_lasso'), 'point'],\n",
    "                                          res['dml_lasso'].loc[(f'q={5}', 'dml_lasso'), 'stderr'])\n",
    "\n",
    "est_list = ests['dml_lasso'][f'q={5}']\n",
    "table2['Bounds'] = '[{:.3f}, {:.3f}]'.format(*dml_sensitivity_bounds(est_list, .03, .03, alpha=None))\n",
    "table2['CIBounds'] = '[{:.3f}, {:.3f}]'.format(*dml_sensitivity_bounds(est_list, .03, .03, alpha=.05))\n",
    "table2['RV(v=-1.5)'] = '{:.3f}'.format(dml_tvalue(est_list, value=-1.5, leq=True, alpha=None))\n",
    "table2['RV(v=-1.5,a=.05)'] = '{:.3f}'.format(dml_tvalue(est_list, value=-1.5, leq=True, alpha=.05))\n",
    "table2['RV(v=0)'] = '{:.3f}'.format(dml_tvalue(est_list, value=0, leq=False, alpha=None))\n",
    "table2['RV(v=0,a=.05)'] = '{:.3f}'.format(dml_tvalue(est_list, value=0, leq=False, alpha=.05))"
   ]
  },
  {
   "cell_type": "code",
   "execution_count": null,
   "metadata": {},
   "outputs": [],
   "source": [
    "table2 = {}\n",
    "table2['point'] = '{:.3f} ({:.3f})'.format(res['dml'].loc[(f'q={5}', 'dml'), 'point'],\n",
    "                                          res['dml'].loc[(f'q={5}', 'dml'), 'stderr'])\n",
    "\n",
    "est_list = ests['dml'][f'q={5}']\n",
    "table2['Bounds'] = '[{:.3f}, {:.3f}]'.format(*dml_sensitivity_bounds(est_list, .03, .03, alpha=None))\n",
    "table2['CIBounds'] = '[{:.3f}, {:.3f}]'.format(*dml_sensitivity_bounds(est_list, .03, .03, alpha=.05))\n",
    "table2['RV(v=-1.5)'] = '{:.3f}'.format(dml_tvalue(est_list, value=-1.5, leq=True, alpha=None))\n",
    "table2['RV(v=-1.5,a=.05)'] = '{:.3f}'.format(dml_tvalue(est_list, value=-1.5, leq=True, alpha=.05))\n",
    "table2['RV(v=0)'] = '{:.3f}'.format(dml_tvalue(est_list, value=0, leq=False, alpha=None))\n",
    "table2['RV(v=0,a=.05)'] = '{:.3f}'.format(dml_tvalue(est_list, value=0, leq=False, alpha=.05))"
   ]
  },
  {
   "cell_type": "code",
   "execution_count": null,
   "metadata": {},
   "outputs": [],
   "source": [
    "tabledf = pd.DataFrame({'Non-parametric': table, 'Partially linear': table2}).T[['point', 'Bounds', 'CIBounds',\n",
    "                                                                                 'RV(v=-1.5)', 'RV(v=-1.5,a=.05)',\n",
    "                                                                                 'RV(v=0)', 'RV(v=0,a=.05)']]\n",
    "tabledf"
   ]
  },
  {
   "cell_type": "code",
   "execution_count": 68,
   "metadata": {},
   "outputs": [
    {
     "name": "stdout",
     "output_type": "stream",
     "text": [
      "\\begin{tabular}{llllllll}\n",
      "\\toprule\n",
      "{} &           point &            Bounds &         CIBounds & RV(v=-1.5) & RV(v=-1.5,a=.05) & RV(v=0) & RV(v=0,a=.05) \\\\\n",
      "\\midrule\n",
      "Non-parametric   &  -0.761 (0.360) &  [-1.232, -0.291] &  [-1.827, 0.314] &      0.047 &            0.010 &   0.049 &         0.011 \\\\\n",
      "Partially linear &  -0.701 (0.257) &  [-1.147, -0.254] &  [-1.576, 0.172] &      0.054 &            0.026 &   0.047 &         0.019 \\\\\n",
      "\\bottomrule\n",
      "\\end{tabular}\n",
      "\n"
     ]
    }
   ],
   "source": [
    "print(tabledf.to_latex())"
   ]
  },
  {
   "cell_type": "markdown",
   "metadata": {},
   "source": [
    "# Paper income quantile plots"
   ]
  },
  {
   "cell_type": "markdown",
   "metadata": {},
   "source": [
    "### Based on separate nuisance fitting per sub-group"
   ]
  },
  {
   "cell_type": "code",
   "execution_count": null,
   "metadata": {},
   "outputs": [],
   "source": [
    "qgr = np.arange(1, 5)\n",
    "\n",
    "point = [res['rr'].loc[(f'q={q}', 'dr'), 'point'] for q in qgr]\n",
    "lower = [res['rr'].loc[(f'q={q}', 'dr'), 'point'] - 1.645*res['rr'].loc[(f'q={q}', 'dr'), 'stderr']\n",
    "         for q in qgr]\n",
    "upper = [res['rr'].loc[(f'q={q}', 'dr'), 'point'] + 1.645*res['rr'].loc[(f'q={q}', 'dr'), 'stderr']\n",
    "         for q in qgr]\n",
    "sens_band = [sensitivity_bounds(ests['rr'][f'q={q}'], .03, .03, alpha=None) for q in qgr]\n",
    "sens_band_unc = [sensitivity_bounds(ests['rr'][f'q={q}'], .03, .03, alpha=.05) for q in qgr]\n",
    "\n",
    "if synthetic:\n",
    "    true_moment = [res['true'].loc[(f'q={q}', 'true'), 'point'] for q in qgr]\n",
    "\n",
    "plt.figure(figsize=(5, 5))\n",
    "plt.plot(qgr, point)\n",
    "plt.fill_between(qgr, lower, upper, alpha=.4, label='5%-95% CI')\n",
    "plt.fill_between(qgr, *list(zip(*sens_band)), alpha=.6, label='Bounds')\n",
    "plt.fill_between(qgr, *list(zip(*sens_band_unc)), alpha=.2, label='5%-95% Bounds')\n",
    "if synthetic:\n",
    "    plt.plot(qgr, true_moment, label='true')\n",
    "plt.xticks(qgr)\n",
    "plt.title('Non-parametric')\n",
    "plt.legend()\n",
    "plt.grid()\n",
    "plt.savefig('nonparam_quantile_avgder.pdf', dpi=600)\n",
    "\n",
    "point = [res['dml'].loc[(f'q={q}', 'dml'), 'point'] for q in qgr]\n",
    "lower = [res['dml'].loc[(f'q={q}', 'dml'), 'point'] - 1.645*res['dml'].loc[(f'q={q}', 'dml'), 'stderr']\n",
    "         for q in qgr]\n",
    "upper = [res['dml'].loc[(f'q={q}', 'dml'), 'point'] + 1.645*res['dml'].loc[(f'q={q}', 'dml'), 'stderr']\n",
    "         for q in qgr]\n",
    "sens_band = [dml_sensitivity_bounds(ests['dml'][f'q={q}'], .03, .03, alpha=None) for q in qgr]\n",
    "sens_band_unc = [dml_sensitivity_bounds(ests['dml'][f'q={q}'], .03, .03, alpha=.05) for q in qgr]\n",
    "\n",
    "plt.figure(figsize=(5, 5))\n",
    "plt.plot(qgr, point)\n",
    "plt.fill_between(qgr, lower, upper, alpha=.4, label='5%-95% CI')\n",
    "plt.fill_between(qgr, *list(zip(*sens_band)), alpha=.6, label='Bounds')\n",
    "plt.fill_between(qgr, *list(zip(*sens_band_unc)), alpha=.2, label='5%-95% Bounds')\n",
    "if synthetic:\n",
    "    plt.plot(qgr, true_moment, label='true')\n",
    "plt.xticks(qgr)\n",
    "plt.title('Partially linear')\n",
    "plt.legend()\n",
    "plt.grid()\n",
    "plt.savefig('plinear_quantile_avgder.pdf', dpi=600)"
   ]
  },
  {
   "cell_type": "markdown",
   "metadata": {},
   "source": [
    "### Based on fitted nuisances on all data as is done in 401k example"
   ]
  },
  {
   "cell_type": "code",
   "execution_count": 77,
   "metadata": {},
   "outputs": [],
   "source": [
    "X, _, _, _ = get_data(5, synthetic=synthetic, random_seed=123)\n",
    "inds = np.arange(X.shape[0])\n",
    "splits = [inds[(X[:, 1] >= math.log(42500) - .5) & (X[:, 1] <= math.log(42500) + .5)],\n",
    "          inds[(X[:, 1] >= math.log(57500) - .5) & (X[:, 1] <= math.log(57500) + .5)],\n",
    "          inds[(X[:, 1] >= math.log(72500) - .5) & (X[:, 1] <= math.log(72500) + .5)],\n",
    "          inds[(X[:, 1] >= 11.6)]]\n",
    "point, stderr, bounds, cibounds = np.zeros(4), np.zeros(4), np.zeros((4, 2)), np.zeros((4, 2))\n",
    "qgr = np.arange(4)\n",
    "for q in qgr:\n",
    "    points = np.array([np.mean(est.moment_[splits[q]]) for est in ests['rr']['q=5']])\n",
    "    stderrs = np.array([np.sqrt(np.var(est.moment_[splits[q]])/len(splits[q])) for est in ests['rr']['q=5']])\n",
    "    point[q] = np.mean(points)\n",
    "    stderr[q] = np.sqrt(np.mean(stderrs**2) + np.var(points))\n",
    "    bounds[q, :] = sensitivity_bounds(ests['rr']['q=5'], .04, .03, inds=splits[q])\n",
    "    cibounds[q, :] = sensitivity_bounds(ests['rr']['q=5'], .04, .03, alpha=0.05, inds=splits[q])"
   ]
  },
  {
   "cell_type": "code",
   "execution_count": 79,
   "metadata": {},
   "outputs": [
    {
     "data": {
      "image/png": "[encoded data removed]",
      "text/plain": [
       "<Figure size 720x360 with 2 Axes>"
      ]
     },
     "metadata": {
      "needs_background": "light"
     },
     "output_type": "display_data"
    }
   ],
   "source": [
    "plt.figure(figsize=(10, 5))\n",
    "plt.subplot(1, 2, 1)\n",
    "plt.fill_between(qgr, point - 1.645*stderr, point + 1.645*stderr, alpha=.4)\n",
    "plt.plot(qgr, point)\n",
    "plt.xlabel(\"Income groups\")\n",
    "plt.ylabel(\"ATE\")\n",
    "\n",
    "plt.subplot(1, 2, 2)\n",
    "plt.fill_between(qgr, cibounds[:, 0], cibounds[:, 1], alpha=.4)\n",
    "plt.fill_between(qgr, bounds[:, 0], bounds[:, 1], alpha=.4)\n",
    "plt.plot(qgr, point)\n",
    "plt.xlabel(\"Income groups\")\n",
    "plt.ylabel(\"ATE\")\n",
    "plt.tight_layout()\n",
    "plt.show()"
   ]
  },
  {
   "cell_type": "markdown",
   "metadata": {},
   "source": [
    "# Paper contour plots"
   ]
  },
  {
   "cell_type": "code",
   "execution_count": null,
   "metadata": {},
   "outputs": [],
   "source": [
    "eta_asq, eta_ysq, lower, upper = sensitivity_contours(ests['rr']['q=5'], 0.1, 0.1, alpha=0.05)"
   ]
  },
  {
   "cell_type": "code",
   "execution_count": null,
   "metadata": {},
   "outputs": [],
   "source": [
    "plt.figure(figsize=(5, 5))\n",
    "# plt.contourf(X, Y, Zlower)\n",
    "# plt.colorbar() # Add a colorbar to a plot\n",
    "contours = plt.contour(eta_asq, eta_ysq, lower,\n",
    "                       10, linestyles='-', colors='blue')\n",
    "plt.clabel(contours, inline=True, fontsize=8)\n",
    "# contours = plt.contour(eta_asq, eta_ysq, lower, levels=[-1.5], linestyles='--', colors='r')\n",
    "# plt.clabel(contours, inline=True, fontsize=8)\n",
    "# plt.title('Lower limit')\n",
    "# plt.xlabel('Proportion of variance of long RR not explained by short RR')\n",
    "plt.xlabel('Information increase on location of treatment by confounder,\\n'\n",
    "            'relative to information in long specification.')\n",
    "plt.ylabel('Nonparametric partial R2 of confounder(s) with the outcome')\n",
    "plt.savefig('lower_avg_der_nonparam.pdf', dpi=600)\n",
    "\n",
    "plt.figure(figsize=(5, 5))\n",
    "# plt.contourf(X, Y, Zupper)\n",
    "# plt.colorbar() # Add a colorbar to a plot\n",
    "contours = plt.contour(eta_asq, eta_ysq, upper,\n",
    "                       [-.2] + list(np.arange(.2, 1.8, .2)), linestyles='-', colors='blue')\n",
    "plt.clabel(contours, inline=True, fontsize=8)\n",
    "contours = plt.contour(eta_asq, eta_ysq, upper, levels=[0], linestyles='--', colors='r')\n",
    "plt.clabel(contours, inline=True, fontsize=8)\n",
    "# plt.title('Upper limit')\n",
    "# plt.xlabel('Proportion of variance of long RR not explained by short RR')\n",
    "plt.xlabel('Information increase on location of treatment by confounder,\\n'\n",
    "            'relative to information in long specification')\n",
    "plt.ylabel('Nonparametric partial R2 of confounder(s) with the outcome')\n",
    "# plt.tight_layout()\n",
    "plt.savefig('upper_avg_der_nonparam.pdf', dpi=600)"
   ]
  },
  {
   "cell_type": "markdown",
   "metadata": {},
   "source": [
    "# Distribution of Regions Across Income Brackets"
   ]
  },
  {
   "cell_type": "code",
   "execution_count": null,
   "metadata": {},
   "outputs": [],
   "source": [
    "for q in range(6):\n",
    "    df = pd.read_csv('./BHP2017/data_BHP2_with_region.csv')\n",
    "    df = df[df[\"log_p\"] > math.log(1.2)]\n",
    "    df = df[df[\"log_y\"] > math.log(15000)]\n",
    "    if not ((q==4) | (q==5)):\n",
    "        df = df[df[\"log_y\"] >= math.log(42500) - .5]\n",
    "        df = df[df[\"log_y\"] <= math.log(72500) + .5]\n",
    "    if q == 1:\n",
    "        df = df[df[\"log_y\"] >= math.log(42500) - .5]\n",
    "        df = df[df[\"log_y\"] <= math.log(42500) + .5]\n",
    "    if q == 2:\n",
    "        df = df[df[\"log_y\"] >= math.log(57500) - .5]\n",
    "        df = df[df[\"log_y\"] <= math.log(57500) + .5]\n",
    "    if q == 3:\n",
    "        df = df[df[\"log_y\"] >= math.log(72500) - .5]\n",
    "        df = df[df[\"log_y\"] <= math.log(72500) + .5]\n",
    "    if q == 4:\n",
    "        df = df[df[\"log_y\"] >= 11.6]\n",
    "    plt.hist(df['region'])\n",
    "    plt.show()"
   ]
  },
  {
   "cell_type": "markdown",
   "metadata": {},
   "source": [
    "# Data summaries"
   ]
  },
  {
   "cell_type": "code",
   "execution_count": null,
   "metadata": {},
   "outputs": [],
   "source": [
    "df = pd.read_csv('./BHP2017/data_BHP2_with_region.csv')\n",
    "df.shape"
   ]
  },
  {
   "cell_type": "code",
   "execution_count": null,
   "metadata": {},
   "outputs": [],
   "source": [
    "df.head()"
   ]
  },
  {
   "cell_type": "code",
   "execution_count": null,
   "metadata": {},
   "outputs": [],
   "source": [
    "df.columns"
   ]
  },
  {
   "cell_type": "code",
   "execution_count": null,
   "metadata": {},
   "outputs": [],
   "source": [
    "df = df[df[\"log_p\"] > math.log(1.2)]\n",
    "df = df[df[\"log_y\"] > math.log(15000)]"
   ]
  },
  {
   "cell_type": "code",
   "execution_count": null,
   "metadata": {},
   "outputs": [],
   "source": [
    "q = 5\n",
    "if not ((q==4) | (q==5)):\n",
    "    df = df[df[\"log_y\"] >= math.log(42500) - .5]\n",
    "    df = df[df[\"log_y\"] <= math.log(72500) + .5]\n",
    "if q == 1:\n",
    "    df = df[df[\"log_y\"] >= math.log(42500) - .5]\n",
    "    df = df[df[\"log_y\"] <= math.log(42500) + .5]\n",
    "if q == 2:\n",
    "    df = df[df[\"log_y\"] >= math.log(57500) - .5]\n",
    "    df = df[df[\"log_y\"] <= math.log(57500) + .5]\n",
    "if q == 3:\n",
    "    df = df[df[\"log_y\"] >= math.log(72500) - .5]\n",
    "    df = df[df[\"log_y\"] <= math.log(72500) + .5]\n",
    "if q == 4:\n",
    "    df = df[df[\"log_y\"] >= 11.6]"
   ]
  },
  {
   "cell_type": "code",
   "execution_count": null,
   "metadata": {},
   "outputs": [],
   "source": [
    "region_ids = None\n",
    "synthetic = False\n",
    "state = False\n",
    "region = True\n",
    "if region_ids is not None:\n",
    "    df = df[np.any([df['region'] == r for r in region_ids], axis=0)]\n",
    "Xdf = df.iloc[:, 1:]\n",
    "X_nostatedum = Xdf.drop([\"distance_oil1000\", \"share\"], axis=1).values\n",
    "if state:\n",
    "    state_dum = pd.get_dummies(Xdf['state_fips'], prefix=\"state\", drop_first=True)\n",
    "    Xdf = pd.concat([Xdf, state_dum], axis = 1)\n",
    "if region:\n",
    "    region_dum = pd.get_dummies(Xdf['region'], prefix=\"region\", drop_first=True)\n",
    "    Xdf = pd.concat([Xdf, region_dum], axis = 1)\n",
    "Xdf = Xdf.drop([\"distance_oil1000\", \"state_fips\", \"share\", 'region'], axis=1)\n",
    "X = Xdf.values\n",
    "y = df['log_q'].values\n",
    "if synthetic:\n",
    "    y = X[:, 0] + np.random.normal(0, .1, size=X[:, 0].shape)"
   ]
  },
  {
   "cell_type": "code",
   "execution_count": null,
   "metadata": {},
   "outputs": [],
   "source": [
    "X.shape"
   ]
  },
  {
   "cell_type": "code",
   "execution_count": null,
   "metadata": {},
   "outputs": [],
   "source": [
    "Xdf.columns"
   ]
  },
  {
   "cell_type": "code",
   "execution_count": null,
   "metadata": {},
   "outputs": [],
   "source": [
    "len(np.unique(Xdf['log_y']))"
   ]
  },
  {
   "cell_type": "code",
   "execution_count": null,
   "metadata": {},
   "outputs": [],
   "source": [
    "Xdf[:50]"
   ]
  },
  {
   "cell_type": "code",
   "execution_count": null,
   "metadata": {},
   "outputs": [],
   "source": [
    "plt.hist(df['region'])\n",
    "plt.show()"
   ]
  },
  {
   "cell_type": "code",
   "execution_count": null,
   "metadata": {},
   "outputs": [],
   "source": []
  }
 ],
 "metadata": {
  "kernelspec": {
   "display_name": "Python 3 (ipykernel)",
   "language": "python",
   "name": "python3"
  },
  "language_info": {
   "codemirror_mode": {
    "name": "ipython",
    "version": 3
   },
   "file_extension": ".py",
   "mimetype": "text/x-python",
   "name": "python",
   "nbconvert_exporter": "python",
   "pygments_lexer": "ipython3",
   "version": "3.7.1"
  }
 },
 "nbformat": 4,
 "nbformat_minor": 4
}
